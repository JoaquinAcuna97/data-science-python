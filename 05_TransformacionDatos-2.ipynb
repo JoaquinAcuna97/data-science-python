{
  "cells": [
    {
      "attachments": {},
      "cell_type": "markdown",
      "metadata": {
        "id": "KTayXnascKxZ"
      },
      "source": [
        "# TRANSFORMACIÓN DE DATOS (Feacture Engineering)\n",
        "A partir de una varables, creamos otros datos.\n",
        "\n",
        "Tabajamos con la base de datos bikes.csv"
      ]
    },
    {
      "attachments": {},
      "cell_type": "markdown",
      "metadata": {
        "id": "ceewq-YseE2u"
      },
      "source": [
        "La información de los datos es la siguiente:\n",
        "\n",
        "- datetime: hora por hora + marca de tiempo\n",
        "\n",
        "- season:\n",
        "    - 1 = primavera\n",
        "    - 2 = verano\n",
        "    - 3 = caída\n",
        "    - 4 = invierno\n",
        "\n",
        "- holiday: si el día se considera un día festivo\n",
        "\n",
        "- workingday: si el día no es un fin de semana ni un feriado.\n",
        "\n",
        "- clima:\n",
        "\n",
        "    - 1: Despejado, pocas nubes, medio nublado, parcialmente nublado\n",
        "    - 2: Niebla + Nublado, Niebla + parcialmente nublado, Niebla + Pocas nubes, Niebla\n",
        "    - 3: Nieve ligera, Lluvia ligera + Tormenta eléctrica + Nubes dispersas, Lluvia ligera + Nubes dispersas\n",
        "    - 4: Lluvia intensa + Paletas de hielo + Tormenta + Niebla, Nieve + Niebla\n",
        "\n",
        "\n",
        "- temp: temperatura en grados Celsius\n",
        "\n",
        "- atemp: \"sensación térmica\" la temperatura en grados Celsius\n",
        "\n",
        "- humidity: humedad relativa\n",
        "\n",
        "- windspeed: velocidad del viento\n",
        "\n",
        "- casual: número de alquileres de usuarios no registrados iniciados\n",
        "\n",
        "- registered: número de alquileres de usuarios registrados iniciados\n",
        "\n",
        "- count: número de alquileres totales"
      ]
    },
    {
      "cell_type": "code",
      "execution_count": null,
      "metadata": {
        "id": "kTzPlNtzcKxb"
      },
      "outputs": [],
      "source": [
        "import pandas as pd\n"
      ]
    },
    {
      "cell_type": "code",
      "execution_count": null,
      "metadata": {},
      "outputs": [],
      "source": [
        "df=pd.read_csv(\"bikes.csv\")\n",
        "df.head()"
      ]
    },
    {
      "cell_type": "code",
      "execution_count": null,
      "metadata": {},
      "outputs": [],
      "source": [
        "from IPython.display import Image\n",
        "Image(\"Funciones.png\", height=800, width=500)"
      ]
    },
    {
      "cell_type": "code",
      "execution_count": null,
      "metadata": {
        "id": "nhi8DM64c2kO"
      },
      "outputs": [],
      "source": [
        "def asignaEstacion(variable):\n",
        "  if  variable == 1:\n",
        "    return \"Primavera\"\n",
        "   "
      ]
    },
    {
      "cell_type": "code",
      "execution_count": null,
      "metadata": {
        "id": "QDRvSRm8eOdk"
      },
      "outputs": [],
      "source": [
        "df['desEstacion'] = df['season'].apply(asignaEstacion)\n",
        "df.head()"
      ]
    },
    {
      "attachments": {},
      "cell_type": "markdown",
      "metadata": {},
      "source": [
        "## Utilizando MAP"
      ]
    },
    {
      "cell_type": "code",
      "execution_count": null,
      "metadata": {
        "id": "AXhof5lYcKxk"
      },
      "outputs": [],
      "source": [
        "#Expresar nominalmente las variables categoricas\n",
        "df[\"season_2\"] = df.season.map({1: \"Spring\", 2 : \"Summer\", 3 : \"Fall\", 4 :\"Winter\" })\n",
        "df.head()"
      ]
    }
  ],
  "metadata": {
    "colab": {
      "provenance": []
    },
    "kernelspec": {
      "display_name": "Python 3",
      "language": "python",
      "name": "python3"
    },
    "language_info": {
      "codemirror_mode": {
        "name": "ipython",
        "version": 3
      },
      "file_extension": ".py",
      "mimetype": "text/x-python",
      "name": "python",
      "nbconvert_exporter": "python",
      "pygments_lexer": "ipython3",
      "version": "3.7.6"
    }
  },
  "nbformat": 4,
  "nbformat_minor": 0
}
