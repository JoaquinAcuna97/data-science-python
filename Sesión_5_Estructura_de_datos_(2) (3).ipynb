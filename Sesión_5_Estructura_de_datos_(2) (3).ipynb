{
  "cells": [
    {
      "cell_type": "markdown",
      "metadata": {
        "id": "0LR1AC_bh7BL"
      },
      "source": [
        "# <center> PYTHON - Estructura de datos </center>\n",
        "\n",
        "# I. Listas\n",
        "Una lista es una secuencias ordenadas de objetos de distintos tipos.\n",
        "\n",
        "Se construyen poniendo los elementos entre corchetes [ ] separados por comas.\n",
        "\n",
        "Se caracterizan por:\n",
        "\n",
        "* Tienen orden.\n",
        "* Pueden contener elementos de distintos tipos.\n",
        "* Son mutables, es decir, pueden alterarse durante la ejecución de un programa."
      ]
    },
    {
      "cell_type": "code",
      "execution_count": null,
      "metadata": {
        "colab": {
          "base_uri": "https://localhost:8080/"
        },
        "id": "dsPP5bYiiN30",
        "outputId": "b44a78e9-2942-497d-d954-5b0d785e70ea"
      },
      "outputs": [],
      "source": [
        "type([])\n",
        "numero_hostel = \"095063544\""
      ]
    },
    {
      "cell_type": "code",
      "execution_count": null,
      "metadata": {
        "id": "xjs8N35ThWA5"
      },
      "outputs": [],
      "source": [
        "cadena=\"\""
      ]
    },
    {
      "cell_type": "code",
      "execution_count": null,
      "metadata": {
        "id": "5Sfii6luhTVM"
      },
      "outputs": [],
      "source": [
        "lista=[]"
      ]
    },
    {
      "cell_type": "code",
      "execution_count": null,
      "metadata": {
        "colab": {
          "base_uri": "https://localhost:8080/"
        },
        "id": "KOo_EoAliP3M",
        "outputId": "334367eb-4bb8-4836-d3ee-6fc324cf49f0"
      },
      "outputs": [],
      "source": [
        "lista=[1, \"dos\", True]\n",
        "lista"
      ]
    },
    {
      "cell_type": "code",
      "execution_count": null,
      "metadata": {
        "colab": {
          "base_uri": "https://localhost:8080/"
        },
        "id": "gnbT-la-iR8h",
        "outputId": "3809f830-351b-4369-f181-2a4f49d4b86c"
      },
      "outputs": [],
      "source": [
        "[1, [2, 3], 4]"
      ]
    },
    {
      "cell_type": "markdown",
      "metadata": {
        "id": "aHND6JAbiX0s"
      },
      "source": [
        "## Creación de listas mediante la función list()\n",
        "Otra forma de crear listas es mediante la función **list()**.\n",
        "\n",
        "list(c) : Crea una lista con los elementos de la secuencia o colección c.\n",
        "Se pueden indicar los elementos separados por comas, mediante una cadena, o mediante una colección de elementos iterable."
      ]
    },
    {
      "cell_type": "code",
      "execution_count": null,
      "metadata": {
        "colab": {
          "base_uri": "https://localhost:8080/"
        },
        "id": "olA2t-dEievL",
        "outputId": "e55b4faa-ddf4-4e20-bdb8-3374a19b14d2"
      },
      "outputs": [],
      "source": [
        "list( )"
      ]
    },
    {
      "cell_type": "code",
      "execution_count": null,
      "metadata": {
        "colab": {
          "base_uri": "https://localhost:8080/"
        },
        "id": "XvUxMMCyie8B",
        "outputId": "1946311a-5b9c-4448-f733-6ae6ed0a85ba"
      },
      "outputs": [],
      "source": [
        "list(\"Python\")"
      ]
    },
    {
      "cell_type": "markdown",
      "metadata": {
        "id": "zQjkk4IFimyL"
      },
      "source": [
        "## Acceso a los elementos de una lista\n",
        "Se utilizan los mismos operadores de acceso que para cadenas de caracteres.\n",
        "\n",
        "* l[i] : Devuelve el elemento de la lista l con el índice i.\n",
        " El índice del primer elemento de la lista es 0."
      ]
    },
    {
      "cell_type": "code",
      "execution_count": null,
      "metadata": {
        "id": "BKXIAZIHisux"
      },
      "outputs": [],
      "source": [
        "a = ['P', 'y', 't', 'h', 'o', 'n']"
      ]
    },
    {
      "cell_type": "code",
      "execution_count": null,
      "metadata": {
        "colab": {
          "base_uri": "https://localhost:8080/",
          "height": 36
        },
        "id": "6dTp4pMxiuD8",
        "outputId": "1d8bba66-3ccf-44d1-e222-21827df5b2b7"
      },
      "outputs": [],
      "source": [
        "a[0]"
      ]
    },
    {
      "cell_type": "code",
      "execution_count": null,
      "metadata": {
        "colab": {
          "base_uri": "https://localhost:8080/",
          "height": 36
        },
        "id": "Mp4u26zDixc-",
        "outputId": "c6bfd733-3607-4b98-c675-099fa5d9a9e7"
      },
      "outputs": [],
      "source": [
        "a[5]"
      ]
    },
    {
      "cell_type": "code",
      "execution_count": null,
      "metadata": {
        "colab": {
          "base_uri": "https://localhost:8080/",
          "height": 181
        },
        "id": "YgXnDVb6izd_",
        "outputId": "30a2c837-8e46-4024-e3f4-4aa8b9f0d2fa"
      },
      "outputs": [],
      "source": [
        "a[6]"
      ]
    },
    {
      "cell_type": "code",
      "execution_count": null,
      "metadata": {
        "colab": {
          "base_uri": "https://localhost:8080/",
          "height": 36
        },
        "id": "ZS8wbTuViUn1",
        "outputId": "539a23ad-f9fd-4a7d-e4c5-257cd3d6786c"
      },
      "outputs": [],
      "source": [
        "a[-2]"
      ]
    },
    {
      "cell_type": "markdown",
      "metadata": {
        "id": "IGTRhVQBi5LU"
      },
      "source": [
        "### Sublistas\n",
        "* l[i:j:k] : Devuelve la sublista desde el elemento de l con el índice i hasta el elemento anterior al índice j, tomando elementos cada k."
      ]
    },
    {
      "cell_type": "code",
      "execution_count": null,
      "metadata": {
        "id": "DbeGghtOi9p_"
      },
      "outputs": [],
      "source": [
        "a = ['P', 'y', 't', 'h', 'o', 'n']"
      ]
    },
    {
      "cell_type": "code",
      "execution_count": null,
      "metadata": {
        "colab": {
          "base_uri": "https://localhost:8080/"
        },
        "id": "6yzrI-yWi_0I",
        "outputId": "4a61ea2f-68a5-47f3-eaea-672af440d60b"
      },
      "outputs": [],
      "source": [
        "a[1:4]"
      ]
    },
    {
      "cell_type": "code",
      "execution_count": null,
      "metadata": {
        "colab": {
          "base_uri": "https://localhost:8080/"
        },
        "id": "jL-i9L_ijBwX",
        "outputId": "0f06bf77-6ca1-4d82-e3cc-544848e83463"
      },
      "outputs": [],
      "source": [
        "a[1:1]"
      ]
    },
    {
      "cell_type": "code",
      "execution_count": null,
      "metadata": {
        "colab": {
          "base_uri": "https://localhost:8080/"
        },
        "id": "AnIJiJcEjDBX",
        "outputId": "0d1eb8ec-55fd-4c10-b090-4ba6cee47456"
      },
      "outputs": [],
      "source": [
        "a[:-3]"
      ]
    },
    {
      "cell_type": "code",
      "execution_count": null,
      "metadata": {
        "colab": {
          "base_uri": "https://localhost:8080/"
        },
        "id": "9lV6LkO2jFiP",
        "outputId": "ad4ae349-60f8-4f19-dd30-53b2e5c62869"
      },
      "outputs": [],
      "source": [
        "a[:]"
      ]
    },
    {
      "cell_type": "code",
      "execution_count": null,
      "metadata": {
        "colab": {
          "base_uri": "https://localhost:8080/"
        },
        "id": "lfmndYQvjHri",
        "outputId": "3fb270d1-b9d1-483b-abf0-7d6b4f01c269"
      },
      "outputs": [],
      "source": [
        "a[0:6:2]"
      ]
    },
    {
      "cell_type": "code",
      "execution_count": null,
      "metadata": {
        "id": "8_4rgs9kj3Gq"
      },
      "outputs": [],
      "source": [
        "lista=[ 43,\"asd\",[\"mundo\",-5],\"hola\",[[],\"!\"]]"
      ]
    },
    {
      "cell_type": "code",
      "execution_count": null,
      "metadata": {
        "colab": {
          "base_uri": "https://localhost:8080/",
          "height": 36
        },
        "id": "lZx7Di8UkmKX",
        "outputId": "6404b6e5-c6aa-4126-fdc3-0dba7c415bd1"
      },
      "outputs": [],
      "source": [
        "lista[3]"
      ]
    },
    {
      "cell_type": "code",
      "execution_count": null,
      "metadata": {
        "colab": {
          "base_uri": "https://localhost:8080/",
          "height": 36
        },
        "id": "G1lw3USLksaI",
        "outputId": "f06a5fda-e6c5-4cac-88f8-462b846e522b"
      },
      "outputs": [],
      "source": [
        "lista[2][0]"
      ]
    },
    {
      "cell_type": "code",
      "execution_count": null,
      "metadata": {
        "colab": {
          "base_uri": "https://localhost:8080/",
          "height": 36
        },
        "id": "ukOR7ZEBkwxq",
        "outputId": "6fd1aa33-ddd7-4d2b-b166-2c6287a710f1"
      },
      "outputs": [],
      "source": [
        "lista[4][1]"
      ]
    },
    {
      "cell_type": "code",
      "execution_count": null,
      "metadata": {
        "colab": {
          "base_uri": "https://localhost:8080/",
          "height": 36
        },
        "id": "jG73ZePFk-QG",
        "outputId": "3545c590-4cc4-4c71-e801-050d5697755b"
      },
      "outputs": [],
      "source": [
        "lista[3] +\" \"+lista[2][0]+lista[4][1]"
      ]
    },
    {
      "cell_type": "markdown",
      "metadata": {
        "id": "STbHzBiLjLVl"
      },
      "source": [
        "## Operaciones que no modifican una lista\n",
        "* len(l) : Devuelve el número de elementos de la lista l.\n",
        "* min(l) : Devuelve el mínimo elemento de la lista l siempre que los datos sean comparables.\n",
        "* max(l) : Devuelve el máximo elemento de la lista l * siempre que los datos sean comparables.\n",
        "* sum(l) : Devuelve la suma de los elementos de la lista l, siempre que los datos se puedan sumar.\n",
        "* dato in l : Devuelve True si el dato dato pertenece a la lista l y False en caso contrario.\n",
        "* l.index(dato) : Devuelve la posición que ocupa en la lista l el primer elemento con valor dato.\n",
        "* l.count(dato) : Devuelve el número de veces que el valor dato está contenido en la lista l.\n",
        "* all(l) : Devuelve True si todos los elementos de la lista l son True y False en caso contrario.\n",
        "* any(l) : Devuelve True si algún elemento de la lista l es True y False en caso contrario."
      ]
    },
    {
      "cell_type": "code",
      "execution_count": null,
      "metadata": {
        "id": "kqxS-5Wsjdt5"
      },
      "outputs": [],
      "source": [
        "a = [1, 2, 2, 3]"
      ]
    },
    {
      "cell_type": "code",
      "execution_count": null,
      "metadata": {
        "colab": {
          "base_uri": "https://localhost:8080/"
        },
        "id": "6V1L8KXCjg_c",
        "outputId": "9b90ebc9-7f93-412c-e2d8-5956a127b2b9"
      },
      "outputs": [],
      "source": [
        "longitud=len(a)\n",
        "longitud"
      ]
    },
    {
      "cell_type": "code",
      "execution_count": null,
      "metadata": {
        "colab": {
          "base_uri": "https://localhost:8080/"
        },
        "id": "eXcWzp-UjirK",
        "outputId": "789648e9-2a21-4817-cb65-957842bd8e70"
      },
      "outputs": [],
      "source": [
        "min(a)"
      ]
    },
    {
      "cell_type": "code",
      "execution_count": null,
      "metadata": {
        "colab": {
          "base_uri": "https://localhost:8080/"
        },
        "id": "8gxmFxWXjj7V",
        "outputId": "599e40ba-d023-43f5-a30c-95aeb37aab5f"
      },
      "outputs": [],
      "source": [
        "max(a)"
      ]
    },
    {
      "cell_type": "code",
      "execution_count": null,
      "metadata": {
        "colab": {
          "base_uri": "https://localhost:8080/"
        },
        "id": "m3cmlpmXjmtS",
        "outputId": "d7ee5f59-baa3-4763-a966-75142a85fbec"
      },
      "outputs": [],
      "source": [
        "sum(a)"
      ]
    },
    {
      "cell_type": "code",
      "execution_count": null,
      "metadata": {
        "colab": {
          "base_uri": "https://localhost:8080/"
        },
        "id": "XnmGwXcxjpfK",
        "outputId": "47838937-aab6-40fa-98e3-858664aa217d"
      },
      "outputs": [],
      "source": [
        "a.index(2)"
      ]
    },
    {
      "cell_type": "code",
      "execution_count": null,
      "metadata": {
        "colab": {
          "base_uri": "https://localhost:8080/"
        },
        "id": "EZ-AScq0lqrJ",
        "outputId": "5ca4f758-a250-42e8-d433-26092d3472b8"
      },
      "outputs": [],
      "source": [
        "a.index(1)"
      ]
    },
    {
      "cell_type": "code",
      "execution_count": null,
      "metadata": {
        "colab": {
          "base_uri": "https://localhost:8080/",
          "height": 181
        },
        "id": "qoiZTyC5l0xK",
        "outputId": "945ba964-77a0-4517-f304-10598af4422e"
      },
      "outputs": [],
      "source": [
        "a.index(4)"
      ]
    },
    {
      "cell_type": "code",
      "execution_count": null,
      "metadata": {
        "colab": {
          "base_uri": "https://localhost:8080/"
        },
        "id": "kcdDit6mjr3w",
        "outputId": "a5f74aab-da87-4b3f-c137-475db4660b32"
      },
      "outputs": [],
      "source": [
        "a.count(2)"
      ]
    },
    {
      "cell_type": "code",
      "execution_count": null,
      "metadata": {
        "id": "jmIU2FCsdzS_"
      },
      "outputs": [],
      "source": []
    },
    {
      "cell_type": "markdown",
      "metadata": {
        "id": "5SwGm9MMjhPL"
      },
      "source": [
        "## Operaciones que modifican una lista\n",
        "* l1 + l2 : Crea una nueva lista concatenan los elementos de la listas l1 y l2.\n",
        "* l.append(dato) : Añade dato al final de la lista l.\n",
        "* l.extend(sequencia) : Añade los datos de sequencia al final de la lista l.\n",
        "* l.insert(índice, dato) : Inserta dato en la posición índice de la lista l y desplaza los elementos una posición a partir de la posición índice.\n",
        "* l.remove(dato) : Elimina el primer elemento con valor dato en la lista l y desplaza los que están por detrás de él una posición hacia delante.\n",
        "* l.pop([índice]) : Devuelve el dato en la posición índice y lo elimina de la lista l, desplazando los elementos por detrás de él una posición hacia delante.\n",
        "* l.sort() : Ordena los elementos de la lista l de acuerdo al orden predefinido, siempre que los elementos sean comparables.\n",
        "* l.reverse() : invierte el orden de los elementos de la lista l."
      ]
    },
    {
      "cell_type": "code",
      "execution_count": null,
      "metadata": {
        "id": "YEpdRdkfjm8e"
      },
      "outputs": [],
      "source": [
        "a = [1, 3]\n",
        "b = [2 , 4, 6]"
      ]
    },
    {
      "cell_type": "code",
      "execution_count": null,
      "metadata": {
        "colab": {
          "base_uri": "https://localhost:8080/"
        },
        "id": "fymwjW7WmMas",
        "outputId": "f507abe1-7d7b-4d2a-a25d-4e156b442d83"
      },
      "outputs": [],
      "source": [
        "a+b"
      ]
    },
    {
      "cell_type": "code",
      "execution_count": null,
      "metadata": {
        "colab": {
          "base_uri": "https://localhost:8080/"
        },
        "id": "mLAyiLYZjr5W",
        "outputId": "1b1bb2bc-dc76-44bd-cb52-0af1cdaf898d"
      },
      "outputs": [],
      "source": [
        "a.append(5)\n",
        "a"
      ]
    },
    {
      "cell_type": "code",
      "execution_count": null,
      "metadata": {
        "colab": {
          "base_uri": "https://localhost:8080/"
        },
        "id": "eMpn8t7Zjtxp",
        "outputId": "d6a57010-f214-40f4-86f8-d81ef3a5a2cc"
      },
      "outputs": [],
      "source": [
        "a.remove(3)\n",
        "a"
      ]
    },
    {
      "cell_type": "code",
      "execution_count": null,
      "metadata": {
        "colab": {
          "base_uri": "https://localhost:8080/"
        },
        "id": "41iX_WbbmuRw",
        "outputId": "bed5e472-f06f-4ef3-89a6-b6b568593f4a"
      },
      "outputs": [],
      "source": [
        "lista1=[4,\"hs\",5,[],4,-1]\n",
        "lista1.remove(4)\n",
        "lista1\n"
      ]
    },
    {
      "cell_type": "code",
      "execution_count": null,
      "metadata": {
        "colab": {
          "base_uri": "https://localhost:8080/"
        },
        "id": "sBGXaky_nRnb",
        "outputId": "c54bd53f-955a-4d6f-b2cd-0f4905d0054e"
      },
      "outputs": [],
      "source": [
        "a"
      ]
    },
    {
      "cell_type": "code",
      "execution_count": null,
      "metadata": {
        "colab": {
          "base_uri": "https://localhost:8080/"
        },
        "id": "1wELdShGjwpz",
        "outputId": "b67d1a1d-84d0-48c3-c3d5-eed627de8dca"
      },
      "outputs": [],
      "source": [
        "a.insert(1, 3)\n",
        "a "
      ]
    },
    {
      "cell_type": "code",
      "execution_count": null,
      "metadata": {
        "colab": {
          "base_uri": "https://localhost:8080/"
        },
        "id": "FdgNFf0oj0I6",
        "outputId": "f2eeb64c-daaf-435f-aea4-45f27e232bb3"
      },
      "outputs": [],
      "source": [
        "c = a + b\n",
        "c"
      ]
    },
    {
      "cell_type": "code",
      "execution_count": null,
      "metadata": {
        "colab": {
          "base_uri": "https://localhost:8080/"
        },
        "id": "Ed9blB6Qj3Rs",
        "outputId": "3e148a98-ab7f-48f0-a49b-c4edd1c1b5fb"
      },
      "outputs": [],
      "source": [
        "c.sort()\n",
        "c"
      ]
    },
    {
      "cell_type": "code",
      "execution_count": null,
      "metadata": {
        "colab": {
          "base_uri": "https://localhost:8080/"
        },
        "id": "qM8OWyOej596",
        "outputId": "29d119d9-8eb3-48f4-bf08-dd16e163df5c"
      },
      "outputs": [],
      "source": [
        "c.reverse()\n",
        "c"
      ]
    },
    {
      "cell_type": "code",
      "execution_count": null,
      "metadata": {
        "colab": {
          "base_uri": "https://localhost:8080/"
        },
        "id": "zlnRFMO2ZSqt",
        "outputId": "9a31886e-bf65-4c68-e047-5208036d81e0"
      },
      "outputs": [],
      "source": [
        "d=[4,\"s\",[3,4]]\n",
        "d.reverse()\n",
        "d"
      ]
    },
    {
      "cell_type": "code",
      "execution_count": null,
      "metadata": {
        "colab": {
          "base_uri": "https://localhost:8080/"
        },
        "id": "kdnPnQvDZdOg",
        "outputId": "b3b6274d-02bf-4b10-c67d-fa4d238c2e5d"
      },
      "outputs": [],
      "source": [
        "b"
      ]
    },
    {
      "cell_type": "code",
      "execution_count": null,
      "metadata": {
        "colab": {
          "base_uri": "https://localhost:8080/"
        },
        "id": "iF58LHEBZecB",
        "outputId": "117f9831-ccca-4f84-d615-4ec7c6696c8c"
      },
      "outputs": [],
      "source": [
        "a"
      ]
    },
    {
      "cell_type": "code",
      "execution_count": null,
      "metadata": {
        "id": "pR30h8IRn7MH"
      },
      "outputs": [],
      "source": [
        "a.extend(b)"
      ]
    },
    {
      "cell_type": "code",
      "execution_count": null,
      "metadata": {
        "colab": {
          "base_uri": "https://localhost:8080/"
        },
        "id": "79vI0_YioCbf",
        "outputId": "181fb48e-e454-4c69-a4ec-e81f47bc967c"
      },
      "outputs": [],
      "source": [
        "a"
      ]
    },
    {
      "cell_type": "code",
      "execution_count": null,
      "metadata": {
        "colab": {
          "base_uri": "https://localhost:8080/"
        },
        "id": "IWFxk7wWZlKz",
        "outputId": "bf07d57d-0ec8-4386-bc36-bfae220843fc"
      },
      "outputs": [],
      "source": [
        "a.pop()"
      ]
    },
    {
      "cell_type": "code",
      "execution_count": null,
      "metadata": {
        "colab": {
          "base_uri": "https://localhost:8080/"
        },
        "id": "qqHKe-bqZrJ1",
        "outputId": "f23fcda1-ed9a-420a-e4ef-4b026cff1433"
      },
      "outputs": [],
      "source": [
        "a"
      ]
    },
    {
      "cell_type": "code",
      "execution_count": null,
      "metadata": {
        "colab": {
          "base_uri": "https://localhost:8080/"
        },
        "id": "L9CcOORVZ8SV",
        "outputId": "8df3a617-6e2a-484c-99af-7d96f1dcaa70"
      },
      "outputs": [],
      "source": [
        "x=a.pop(1)\n",
        "print(x)\n",
        "print(a)"
      ]
    },
    {
      "cell_type": "markdown",
      "metadata": {
        "id": "LKR6vK29dzoZ"
      },
      "source": [
        "# Copia de listas\n",
        "Existen dos formas de copiar listas:\n",
        "\n",
        "* Copia por referencia l1 = l2: Asocia la la variable l1 la misma lista que tiene asociada la variable l2, es decir, ambas variables apuntan a la misma dirección de memoria. Cualquier cambio que hagamos a través de l1 o l2 afectará a la misma lista.\n",
        "\n",
        "* Copia por valor l1 = list(l2): Crea una copia de la lista asociada a l2 en una dirección de memoria diferente y se la asocia a l1. Las variables apuntan a direcciones de memoria diferentes que contienen los mismos datos. Cualquier cambio que hagamos a través de l1 no afectará a la lista de l2 y viceversa."
      ]
    },
    {
      "cell_type": "code",
      "execution_count": null,
      "metadata": {
        "id": "ojp8SprWd5o-"
      },
      "outputs": [],
      "source": [
        "# Copiar referencia\n",
        "a = [1, 2, 3]"
      ]
    },
    {
      "cell_type": "code",
      "execution_count": null,
      "metadata": {
        "id": "07FslmR1d5r1"
      },
      "outputs": [],
      "source": [
        "b = a"
      ]
    },
    {
      "cell_type": "code",
      "execution_count": null,
      "metadata": {
        "colab": {
          "base_uri": "https://localhost:8080/"
        },
        "id": "oyjUmj8Bd-sp",
        "outputId": "d5a07d47-ed27-442f-9472-aa6038b769ac"
      },
      "outputs": [],
      "source": [
        "print(b)\n",
        "print(a)"
      ]
    },
    {
      "cell_type": "code",
      "execution_count": null,
      "metadata": {
        "colab": {
          "base_uri": "https://localhost:8080/"
        },
        "id": "ZuvAFfleeBgF",
        "outputId": "c80af3e1-ddab-48fe-b625-7467bfe2c160"
      },
      "outputs": [],
      "source": [
        "b.remove(2)\n",
        "b"
      ]
    },
    {
      "cell_type": "code",
      "execution_count": null,
      "metadata": {
        "colab": {
          "base_uri": "https://localhost:8080/"
        },
        "id": "LQ6sS1SoeB-T",
        "outputId": "bad5294d-e3da-48aa-bd1b-a5ee7cb01dd4"
      },
      "outputs": [],
      "source": [
        "print(b)\n",
        "print(a)"
      ]
    },
    {
      "cell_type": "code",
      "execution_count": null,
      "metadata": {
        "colab": {
          "base_uri": "https://localhost:8080/"
        },
        "id": "OYGiZ0EceKQz",
        "outputId": "6e307bd1-e152-4e64-e02a-4ebab527a697"
      },
      "outputs": [],
      "source": [
        "# Copiamos lista\n",
        "# Paso por valor\n",
        "a = [1, 2, 3]\n",
        "b = a.copy()\n",
        "print(b)"
      ]
    },
    {
      "cell_type": "code",
      "execution_count": null,
      "metadata": {
        "colab": {
          "base_uri": "https://localhost:8080/"
        },
        "id": "eIHPldlTePG7",
        "outputId": "3ca941db-8898-4326-e31c-83e8b0834b23"
      },
      "outputs": [],
      "source": [
        "b.remove(2)\n",
        "print(b)\n",
        "print(a)"
      ]
    },
    {
      "cell_type": "markdown",
      "metadata": {
        "id": "Rg-bog4mg0Gt"
      },
      "source": [
        "# II. Tuplas\n",
        "Una tupla es una secuencias ordenadas de objetos de distintos tipos.\n",
        "\n",
        "Se construyen poniendo los elementos entre paréntesis ( ) separados por comas.\n",
        "\n",
        "Se caracterizan por:\n",
        "\n",
        "* Tienen orden.\n",
        "* Pueden contener elementos de distintos tipos.\n",
        "* Son inmutables, es decir, no pueden alterarse durante  la ejecución de un programa.\n",
        "* Se usan habitualmente para representar colecciones de datos una determinada estructura semántica, como por ejemplo un vector o una matriz."
      ]
    },
    {
      "cell_type": "code",
      "execution_count": null,
      "metadata": {
        "colab": {
          "base_uri": "https://localhost:8080/"
        },
        "id": "vlzyRlUlg9Z3",
        "outputId": "5d1b71a3-69f4-443d-cb2f-388be2d2fe9e"
      },
      "outputs": [],
      "source": [
        "# Tupla vacía\n",
        "type(())"
      ]
    },
    {
      "cell_type": "code",
      "execution_count": null,
      "metadata": {
        "colab": {
          "base_uri": "https://localhost:8080/"
        },
        "id": "dCi12NUmhFra",
        "outputId": "7c44d6d4-c9d0-488a-8ae1-c41b41ac8529"
      },
      "outputs": [],
      "source": [
        "# Tupla con elementos de distintos tipos\n",
        "(1, \"dos\", True)"
      ]
    },
    {
      "cell_type": "markdown",
      "metadata": {
        "id": "jSUi0zIMhMEx"
      },
      "source": [
        "## Creación de tuplas mediante la función tuple()\n",
        "Otra forma de crear tuplas es mediante la función tuple().\n",
        "\n",
        "**tuple(c)** : Crea una tupla con los elementos de la secuencia o colección c.\n",
        "Se pueden indicar los elementos separados por comas, mediante una cadena, o mediante una colección de elementos iterable."
      ]
    },
    {
      "cell_type": "code",
      "execution_count": null,
      "metadata": {
        "colab": {
          "base_uri": "https://localhost:8080/"
        },
        "id": "UyqS48hchQXf",
        "outputId": "134a3739-8e87-4e8e-e702-5f71ce8b2a38"
      },
      "outputs": [],
      "source": [
        "tuple( )"
      ]
    },
    {
      "cell_type": "code",
      "execution_count": null,
      "metadata": {
        "colab": {
          "base_uri": "https://localhost:8080/"
        },
        "id": "Fds_L8NRhSgE",
        "outputId": "bb01ddde-3854-43e3-ba18-7d7a4362302d"
      },
      "outputs": [],
      "source": [
        "tuple(\"Python\")"
      ]
    },
    {
      "cell_type": "code",
      "execution_count": null,
      "metadata": {
        "colab": {
          "base_uri": "https://localhost:8080/"
        },
        "id": "4b7hcacVhV3Z",
        "outputId": "674c955f-6543-40e3-a0b5-093882881c60"
      },
      "outputs": [],
      "source": [
        "tuple([1, 2, 3])"
      ]
    },
    {
      "cell_type": "markdown",
      "metadata": {
        "id": "5ddkrVIghbWQ"
      },
      "source": [
        "## Operaciones con tuplas\n",
        "El acceso a los elementos de una tupla se realiza del mismo modo que en las listas. También se pueden obtener subtuplas de la misma manera que las sublistas.\n",
        "\n",
        "Las operaciones de listas que no modifican la lista también son aplicables a las tuplas."
      ]
    },
    {
      "cell_type": "code",
      "execution_count": null,
      "metadata": {
        "id": "dj5ILW1Ehdst"
      },
      "outputs": [],
      "source": [
        "a = (1, 2, 3)"
      ]
    },
    {
      "cell_type": "code",
      "execution_count": null,
      "metadata": {
        "colab": {
          "base_uri": "https://localhost:8080/"
        },
        "id": "5MjuZos-hgZz",
        "outputId": "893880fc-2d4f-4a7b-d08a-1780aa6e9a71"
      },
      "outputs": [],
      "source": [
        "a[1]"
      ]
    },
    {
      "cell_type": "code",
      "execution_count": null,
      "metadata": {
        "colab": {
          "base_uri": "https://localhost:8080/"
        },
        "id": "hLDApBFnhh6V",
        "outputId": "b916ba14-be90-4a1f-ae6f-a66f18865962"
      },
      "outputs": [],
      "source": [
        "len(a)"
      ]
    },
    {
      "cell_type": "code",
      "execution_count": null,
      "metadata": {
        "colab": {
          "base_uri": "https://localhost:8080/"
        },
        "id": "6ziJM-G3hkeV",
        "outputId": "1517d7f1-5fab-4f4b-eb25-23b708e27cb5"
      },
      "outputs": [],
      "source": [
        "a.index(3)"
      ]
    },
    {
      "cell_type": "code",
      "execution_count": null,
      "metadata": {
        "colab": {
          "base_uri": "https://localhost:8080/"
        },
        "id": "x307F8FThsqf",
        "outputId": "28402dac-9671-4beb-9f70-2997ca21f797"
      },
      "outputs": [],
      "source": [
        "a"
      ]
    },
    {
      "cell_type": "code",
      "execution_count": null,
      "metadata": {
        "colab": {
          "base_uri": "https://localhost:8080/"
        },
        "id": "Ba2Kx_s7qsxV",
        "outputId": "1e2b4b70-c591-4bf2-815d-4b98b83189c3"
      },
      "outputs": [],
      "source": [
        "b"
      ]
    },
    {
      "cell_type": "code",
      "execution_count": null,
      "metadata": {
        "colab": {
          "base_uri": "https://localhost:8080/"
        },
        "id": "DGD0CdT3quiD",
        "outputId": "7f2dd179-fe40-4570-e590-157729da3dd8"
      },
      "outputs": [],
      "source": [
        "a+tuple(b)"
      ]
    },
    {
      "cell_type": "markdown",
      "metadata": {
        "id": "PGy37Ej3uLFw"
      },
      "source": [
        "# III. Diccionarios\n",
        "Un diccionario es una colección de pares formados por una clave y un valor asociado a la clave.\n",
        "\n",
        "Se construyen poniendo los pares entre llaves { } separados por comas, y separando la clave del valor con dos puntos :.\n",
        "\n",
        "### Se caracterizan por:\n",
        "\n",
        "No tienen orden.\n",
        "Pueden contener elementos de distintos tipos.\n",
        "Son mutables, es decir, pueden alterarse durante la ejecución de un programa.\n",
        "Las claves son únicas, es decir, no pueden repetirse en un mismo diccionario, y pueden ser de cualquier tipo de datos inmutable."
      ]
    },
    {
      "cell_type": "markdown",
      "metadata": {
        "id": "JGHtzKm5b4W9"
      },
      "source": [
        "Qué es lo buscas? Un significado -> value\n",
        "Qué es lo que tienes? Una palabra -> key\n",
        "\n",
        "par: clave - valor , key - value\n",
        "\n",
        "- \"ábaco\"\n",
        "- \"apartamento\"\n",
        "- \"araña\"\n",
        "- \"astronauta\" : \"persona calificada que viaja al espacio\"\n",
        "- \"azotea\""
      ]
    },
    {
      "cell_type": "code",
      "execution_count": null,
      "metadata": {
        "colab": {
          "base_uri": "https://localhost:8080/",
          "height": 36
        },
        "id": "b9lzb0fwb4Aw",
        "outputId": "722cb889-c1f9-4f56-bc5a-38fabb8a3dd3"
      },
      "outputs": [],
      "source": [
        "mini_diccionario={\"ábaco\":\"instrumento matemático\",\"apartamento\":\"vivienda de aprox 30 a 80 m2\",\"araña\":\"animal con 8 patas\",\"astronauta\":\"persona que viaja al espacio\",\"azotea\":\"el techo del ultimo piso de una casa\"}\n",
        "\n",
        "mini_diccionario[\"astronauta\"]"
      ]
    },
    {
      "cell_type": "code",
      "execution_count": null,
      "metadata": {
        "colab": {
          "base_uri": "https://localhost:8080/",
          "height": 36
        },
        "id": "Ar4i8_lwdN9_",
        "outputId": "78cab3e6-391b-4bdd-f3fc-2f63f4d89eb2"
      },
      "outputs": [],
      "source": [
        "mini_diccionario[\"ábaco\"]"
      ]
    },
    {
      "cell_type": "code",
      "execution_count": null,
      "metadata": {
        "colab": {
          "base_uri": "https://localhost:8080/",
          "height": 181
        },
        "id": "mQdnALbgdRhj",
        "outputId": "1bdadb64-1874-4d07-8062-ea65403ad0ef"
      },
      "outputs": [],
      "source": [
        "mini_diccionario[\"casa\"]"
      ]
    },
    {
      "cell_type": "code",
      "execution_count": null,
      "metadata": {
        "colab": {
          "base_uri": "https://localhost:8080/"
        },
        "id": "e1rV3lv5dXXA",
        "outputId": "09965a49-5b49-4b78-e536-99c9eaa7656e"
      },
      "outputs": [],
      "source": [
        "mini_diccionario[\"casa\"] =\"vivienda de más de 100 m2\"\n",
        "mini_diccionario"
      ]
    },
    {
      "cell_type": "code",
      "execution_count": null,
      "metadata": {
        "colab": {
          "base_uri": "https://localhost:8080/",
          "height": 36
        },
        "id": "RoMjeaXydfXn",
        "outputId": "7c2e0646-5acd-4a06-d9f1-13c8ad497892"
      },
      "outputs": [],
      "source": [
        "mini_diccionario[\"casa\"]"
      ]
    },
    {
      "cell_type": "code",
      "execution_count": null,
      "metadata": {
        "colab": {
          "base_uri": "https://localhost:8080/"
        },
        "id": "c_57Nr5Zdhuq",
        "outputId": "738a8366-6fb3-4090-dbe8-b2e2ca87fde0"
      },
      "outputs": [],
      "source": [
        "mini_diccionario[1]=\"es el número 1\"\n",
        "\n",
        "mini_diccionario"
      ]
    },
    {
      "cell_type": "code",
      "execution_count": null,
      "metadata": {
        "colab": {
          "base_uri": "https://localhost:8080/"
        },
        "id": "THutEx1gdv56",
        "outputId": "6888e88d-6bf9-4cb9-e949-ecabd81a28cd"
      },
      "outputs": [],
      "source": [
        "mini_diccionario[-4.5]=\"menos cuatro punto cinco\"\n",
        "\n",
        "mini_diccionario"
      ]
    },
    {
      "cell_type": "code",
      "execution_count": null,
      "metadata": {
        "id": "qTlEU-Vmd7nh"
      },
      "outputs": [],
      "source": []
    },
    {
      "cell_type": "code",
      "execution_count": null,
      "metadata": {
        "colab": {
          "base_uri": "https://localhost:8080/",
          "height": 36
        },
        "id": "4NcGHA5IugdJ",
        "outputId": "2970cfcd-ab45-4d45-a9a6-b58d20d3d5f1"
      },
      "outputs": [],
      "source": [
        "# Diccionario con elementos de distintos tipos\n",
        "n1={'nombre':'Alfredo', 'despacho': 218, 'email':'asalber@ceu.es'}\n",
        "n1[\"nombre\"]"
      ]
    },
    {
      "cell_type": "code",
      "execution_count": null,
      "metadata": {
        "id": "D8xFjHtNeD27"
      },
      "outputs": [],
      "source": []
    },
    {
      "cell_type": "code",
      "execution_count": null,
      "metadata": {
        "id": "3Sch1qtsujo2"
      },
      "outputs": [],
      "source": [
        "# Diccionarios anidados\n",
        "{'nombre_completo':{'nombre': 'Alfredo', 'Apellidos': 'Sánchez Alberca'}}"
      ]
    },
    {
      "cell_type": "code",
      "execution_count": 1,
      "metadata": {
        "colab": {
          "base_uri": "https://localhost:8080/"
        },
        "id": "KdeHROMpeTqU",
        "outputId": "b5e0985f-f7e7-4a98-b667-b812e4b6caad"
      },
      "outputs": [
        {
          "ename": "",
          "evalue": "",
          "output_type": "error",
          "traceback": [
            "\u001b[1;31mThe Kernel crashed while executing code in the the current cell or a previous cell. Please review the code in the cell(s) to identify a possible cause of the failure. Click <a href='https://aka.ms/vscodeJupyterKernelCrash'>here</a> for more info. View Jupyter <a href='command:jupyter.viewOutput'>log</a> for further details."
          ]
        }
      ],
      "source": [
        "almacen={}\n",
        "\n",
        "for i in range(3):\n",
        "  objeto=input(\"Ingrese el objeto : \")\n",
        "  nc=int(input(\"Cuantas caracteristicas tiene\"))\n",
        "  almacen[objeto]={}\n",
        "  for i in range(nc):\n",
        "    caracteristica=input(\"Qué caracteristica es: \")\n",
        "    valor=input(\"Cual es su valor: \")\n",
        "    almacen[objeto][caracteristica]=valor\n",
        "\n",
        "almacen"
      ]
    },
    {
      "cell_type": "code",
      "execution_count": null,
      "metadata": {
        "colab": {
          "base_uri": "https://localhost:8080/",
          "height": 36
        },
        "id": "vjs2ez8aeVS4",
        "outputId": "8d0fd91d-7a3a-489f-b4df-1995bfec84dd"
      },
      "outputs": [],
      "source": [
        "almacen[\"mochila\"][\"color\"]"
      ]
    },
    {
      "cell_type": "code",
      "execution_count": null,
      "metadata": {
        "colab": {
          "base_uri": "https://localhost:8080/"
        },
        "id": "fHHz7deGhBp8",
        "outputId": "695670e4-7158-4163-9f0a-13c5a3c2fa3d"
      },
      "outputs": [],
      "source": [
        "almacen[\"mochila\"][\"color\"]=\"negro\"\n",
        "almacen"
      ]
    },
    {
      "cell_type": "code",
      "execution_count": null,
      "metadata": {
        "colab": {
          "base_uri": "https://localhost:8080/"
        },
        "id": "3obTvYaPhWYJ",
        "outputId": "99785ed9-7cf9-4f85-83a1-88fa5ee70b92"
      },
      "outputs": [],
      "source": [
        "# Nota: la lógica de los diccionarios se usa mucho para data no estructurada\n",
        "# Tambien es análogo al manejo archivos semi-estructurados como los json\n",
        "\n",
        "almacen[\"bicicleta\"][\"peso\"]=\"20 Kg\"\n",
        "almacen"
      ]
    },
    {
      "cell_type": "code",
      "execution_count": null,
      "metadata": {
        "colab": {
          "base_uri": "https://localhost:8080/",
          "height": 36
        },
        "id": "BAuBqcAkhgcG",
        "outputId": "e706b736-9e3c-4dc6-aaef-fc6bd7ff6988"
      },
      "outputs": [],
      "source": [
        "almacen[\"mochila\"][\"color\"]"
      ]
    },
    {
      "cell_type": "code",
      "execution_count": null,
      "metadata": {
        "colab": {
          "base_uri": "https://localhost:8080/"
        },
        "id": "gm2Frs86itA_",
        "outputId": "b88b6556-f78a-4899-b10a-f89fe6afd480"
      },
      "outputs": [],
      "source": [
        "claves=almacen.keys()\n",
        "for clave in claves:\n",
        "  print(clave,almacen[clave])"
      ]
    },
    {
      "cell_type": "code",
      "execution_count": null,
      "metadata": {
        "colab": {
          "base_uri": "https://localhost:8080/"
        },
        "id": "9SrdovxAi1FU",
        "outputId": "3c221340-0379-4384-9491-ae431184840a"
      },
      "outputs": [],
      "source": [
        "almacen.values()"
      ]
    },
    {
      "cell_type": "code",
      "execution_count": null,
      "metadata": {
        "id": "MpfcRtcsi7Y9"
      },
      "outputs": [],
      "source": []
    },
    {
      "cell_type": "markdown",
      "metadata": {
        "id": "xkLighJ_umlj"
      },
      "source": [
        "## Acceso a los elementos de un diccionario\n",
        "* **d[clave]** devuelve el valor del diccionario d asociado a la clave clave. Si en el diccionario no existe esa clave devuelve un error.\n",
        "* **d.get(clave, valor)** devuelve el valor del diccionario d asociado a la clave clave. Si en el diccionario no existe esa clave devuelve valor, y si no se especifica un valor por defecto devuelve None."
      ]
    },
    {
      "cell_type": "code",
      "execution_count": null,
      "metadata": {
        "colab": {
          "base_uri": "https://localhost:8080/",
          "height": 36
        },
        "id": "V6GYnvO1uxF_",
        "outputId": "90eb1fe7-ed7f-4301-8e84-1c3640bf79db"
      },
      "outputs": [],
      "source": [
        "a = {'nombre':'Alfredo', 'despacho': 218, 'email':'asalber@ceu.es'}\n",
        "a['nombre']"
      ]
    },
    {
      "cell_type": "code",
      "execution_count": null,
      "metadata": {
        "colab": {
          "base_uri": "https://localhost:8080/"
        },
        "id": "0LfBwGd3u0Tr",
        "outputId": "cc22a351-fd01-4170-fb19-f72357a4a5bb"
      },
      "outputs": [],
      "source": [
        "a['despacho'] = 210\n",
        "a"
      ]
    },
    {
      "cell_type": "code",
      "execution_count": null,
      "metadata": {
        "colab": {
          "base_uri": "https://localhost:8080/",
          "height": 36
        },
        "id": "E3ngNI42u6FD",
        "outputId": "5d835096-155c-4879-8c0c-6c90560506de"
      },
      "outputs": [],
      "source": [
        "a.get('email')"
      ]
    },
    {
      "cell_type": "code",
      "execution_count": null,
      "metadata": {
        "colab": {
          "base_uri": "https://localhost:8080/",
          "height": 181
        },
        "id": "OOAMXL5aiWMS",
        "outputId": "5e719129-662a-4010-ca82-7ad4053ffb72"
      },
      "outputs": [],
      "source": [
        "a[\"telefono\"]"
      ]
    },
    {
      "cell_type": "code",
      "execution_count": null,
      "metadata": {
        "colab": {
          "base_uri": "https://localhost:8080/"
        },
        "id": "Z64AORDbjO30",
        "outputId": "203d72b1-8fa6-425b-d492-020adac9f611"
      },
      "outputs": [],
      "source": [
        "x=a.get(\"telefono\")\n",
        "type(x)"
      ]
    },
    {
      "cell_type": "code",
      "execution_count": null,
      "metadata": {
        "colab": {
          "base_uri": "https://localhost:8080/"
        },
        "id": "TytlzJuljWoe",
        "outputId": "7b2e195b-d1ea-4e8d-8ac2-96df4422d65f"
      },
      "outputs": [],
      "source": [
        "x = a.get(\"telefono\",\"nada o -1\")\n",
        "print(x)"
      ]
    },
    {
      "cell_type": "code",
      "execution_count": null,
      "metadata": {
        "colab": {
          "base_uri": "https://localhost:8080/"
        },
        "id": "1djtxphDjrPf",
        "outputId": "3a0ce9e9-3211-4ff7-936b-b5e7d39408e5"
      },
      "outputs": [],
      "source": [
        "elemento_borrado=a.pop(\"email\")\n",
        "print(elemento_borrado)\n",
        "print(a)"
      ]
    },
    {
      "cell_type": "code",
      "execution_count": null,
      "metadata": {
        "colab": {
          "base_uri": "https://localhost:8080/",
          "height": 36
        },
        "id": "sSeNOAHXkE-O",
        "outputId": "a231a793-2634-4f18-f0b9-d2bea15ae997"
      },
      "outputs": [],
      "source": [
        "elemento_borrado = a.pop(\"telefono\",\"no existe\")\n",
        "elemento_borrado"
      ]
    },
    {
      "cell_type": "code",
      "execution_count": null,
      "metadata": {
        "id": "Rk0vyPDskYwr"
      },
      "outputs": [],
      "source": [
        "del a[\"despacho\"]"
      ]
    },
    {
      "cell_type": "code",
      "execution_count": null,
      "metadata": {
        "colab": {
          "base_uri": "https://localhost:8080/"
        },
        "id": "3afpgko9kgO4",
        "outputId": "b096258b-e967-4def-93b7-989aecc589ae"
      },
      "outputs": [],
      "source": [
        "a"
      ]
    },
    {
      "cell_type": "markdown",
      "metadata": {
        "id": "7Dcy9zLwvGXd"
      },
      "source": [
        "## Operaciones que no modifican un diccionario\n",
        "* **len(d)** : Devuelve el número de elementos del diccionario d.\n",
        "* **min(d)** : Devuelve la mínima clave del diccionario d siempre que las claves sean comparables.\n",
        "* **max(d)** : Devuelve la máxima clave del diccionario d siempre que las claves sean comparables.\n",
        "* **sum(d)** : Devuelve la suma de las claves del diccionario d, siempre que las claves se puedan sumar.\n",
        "* **clave in d** : Devuelve True si la clave clave pertenece al diccionario d y False en caso contrario.\n",
        "* **d.keys()** : Devuelve un iterador sobre las claves de un diccionario.\n",
        "* **d.values()** : Devuelve un iterador sobre los valores de un diccionario.\n",
        "* **d.items()** : Devuelve un iterador sobre los pares clave-valor de un diccionario."
      ]
    },
    {
      "cell_type": "code",
      "execution_count": null,
      "metadata": {
        "id": "Uz-4g-IXvpk4"
      },
      "outputs": [],
      "source": [
        "a = {'nombre':'Alfredo', 'despacho': 218, 'email':'asalber@ceu.es'}"
      ]
    },
    {
      "cell_type": "code",
      "execution_count": null,
      "metadata": {
        "colab": {
          "base_uri": "https://localhost:8080/"
        },
        "id": "SsyguRaUvpr5",
        "outputId": "b0eee302-7cb9-411d-8300-17c14239f15c"
      },
      "outputs": [],
      "source": [
        "len(a)"
      ]
    },
    {
      "cell_type": "code",
      "execution_count": null,
      "metadata": {
        "colab": {
          "base_uri": "https://localhost:8080/",
          "height": 36
        },
        "id": "SZ418aw0vaiw",
        "outputId": "c0a3af2c-f559-493b-e5ac-d11e40b143e3"
      },
      "outputs": [],
      "source": [
        "min(a)"
      ]
    },
    {
      "cell_type": "code",
      "execution_count": null,
      "metadata": {
        "colab": {
          "base_uri": "https://localhost:8080/"
        },
        "id": "JS8xjuvTk1PE",
        "outputId": "58e4353d-5de2-45e2-c9b9-05d5e6700c44"
      },
      "outputs": [],
      "source": [
        "\"astronauta\" <\"azotea\""
      ]
    },
    {
      "cell_type": "code",
      "execution_count": null,
      "metadata": {
        "colab": {
          "base_uri": "https://localhost:8080/"
        },
        "id": "xV4o6bM-lG1i",
        "outputId": "35bac05c-9bf1-4202-897a-33948d8582a8"
      },
      "outputs": [],
      "source": [
        "\"apartamento\" <\"bar\""
      ]
    },
    {
      "cell_type": "code",
      "execution_count": null,
      "metadata": {
        "colab": {
          "base_uri": "https://localhost:8080/"
        },
        "id": "uwSJfwRYlNvK",
        "outputId": "6260a8d6-0c35-4193-8706-99039d19cb1b"
      },
      "outputs": [],
      "source": [
        "\"esternocleidomastoideo\" < \"pie\""
      ]
    },
    {
      "cell_type": "code",
      "execution_count": null,
      "metadata": {
        "colab": {
          "base_uri": "https://localhost:8080/"
        },
        "id": "XHMzq1_DldqU",
        "outputId": "85937991-39ea-4af7-dba8-1fab3f3362b3"
      },
      "outputs": [],
      "source": [
        "# \"%0123456789abcdefgh\"\n",
        "\" %Abaco\" < \"1abaco\"\n"
      ]
    },
    {
      "cell_type": "code",
      "execution_count": null,
      "metadata": {
        "colab": {
          "base_uri": "https://localhost:8080/"
        },
        "id": "r2GdkZwfvtUT",
        "outputId": "0c7c6616-6f35-45a2-8e3e-a9e4cb9bdfaf"
      },
      "outputs": [],
      "source": [
        "'email' in a"
      ]
    },
    {
      "cell_type": "code",
      "execution_count": null,
      "metadata": {
        "colab": {
          "base_uri": "https://localhost:8080/"
        },
        "id": "ruAxrz5Ivvbb",
        "outputId": "748ae157-b7bb-4501-c284-de27b069fac7"
      },
      "outputs": [],
      "source": [
        "a.keys()"
      ]
    },
    {
      "cell_type": "code",
      "execution_count": null,
      "metadata": {
        "colab": {
          "base_uri": "https://localhost:8080/"
        },
        "id": "Da2P2gqgvxzg",
        "outputId": "e1bfa30a-8852-47ae-e194-82ffbd680d73"
      },
      "outputs": [],
      "source": [
        "a.values()"
      ]
    },
    {
      "cell_type": "code",
      "execution_count": null,
      "metadata": {
        "colab": {
          "base_uri": "https://localhost:8080/"
        },
        "id": "WniQAnYfv0Fi",
        "outputId": "7163ec8e-f0f4-41f0-bd36-853e5ace50eb"
      },
      "outputs": [],
      "source": [
        "a.items()"
      ]
    },
    {
      "cell_type": "markdown",
      "metadata": {
        "id": "CC-06rgdv23q"
      },
      "source": [
        "## Operaciones que modifican un diccionario\n",
        "* **d[clave] = valor** : Añade al diccionario d el par formado por la clave clave y el valor valor.\n",
        "* **d.update(d2)**. Añade los pares del diccionario d2 al diccionario d.\n",
        "* **d.pop(clave, alternativo)** : Devuelve del valor asociado a la clave clave del diccionario d y lo elimina del diccionario. Si la clave no está devuelve el valor alternativo.\n",
        "* **d.popitem()** : Devuelve la tupla formada por la clave y el valor del último par añadido al diccionario d y lo elimina del diccionario.\n",
        "* **del d[clave]** : Elimina del diccionario d el par con la clave clave.\n",
        "* **d.clear()** : Elimina todos los pares del diccionario d de manera que se queda vacío."
      ]
    },
    {
      "cell_type": "code",
      "execution_count": null,
      "metadata": {
        "colab": {
          "base_uri": "https://localhost:8080/"
        },
        "id": "RnmiO7EbwIUe",
        "outputId": "48e65b64-fb85-4a22-946b-8004cf94c4f9"
      },
      "outputs": [],
      "source": [
        "a = {'nombre':'Alfredo', 'despacho': 218, 'email':'asalber@ceu.es'}\n",
        "a"
      ]
    },
    {
      "cell_type": "code",
      "execution_count": null,
      "metadata": {
        "colab": {
          "base_uri": "https://localhost:8080/"
        },
        "id": "yIBLtfp1wLLc",
        "outputId": "437c7262-f717-47fc-867d-de8457df9c7c"
      },
      "outputs": [],
      "source": [
        "a['universidad'] = 'CEU'\n",
        "a"
      ]
    },
    {
      "cell_type": "code",
      "execution_count": null,
      "metadata": {
        "id": "xJhj9growWV0"
      },
      "outputs": [],
      "source": [
        "del a['email']"
      ]
    },
    {
      "cell_type": "code",
      "execution_count": null,
      "metadata": {
        "colab": {
          "base_uri": "https://localhost:8080/"
        },
        "id": "m0u5v41PmVPs",
        "outputId": "031d346b-3209-494f-c9de-bc107981228e"
      },
      "outputs": [],
      "source": [
        "a"
      ]
    },
    {
      "cell_type": "code",
      "execution_count": null,
      "metadata": {
        "id": "bwNSeDGAwYSe"
      },
      "outputs": [],
      "source": [
        "a.clear()"
      ]
    },
    {
      "cell_type": "code",
      "execution_count": null,
      "metadata": {
        "colab": {
          "base_uri": "https://localhost:8080/"
        },
        "id": "mkhgBT2cwaC6",
        "outputId": "07879987-0f36-468d-afdd-f48b68853b52"
      },
      "outputs": [],
      "source": [
        "a"
      ]
    },
    {
      "cell_type": "code",
      "execution_count": null,
      "metadata": {
        "id": "utYn1MxMmZF_"
      },
      "outputs": [],
      "source": [
        "a={1:\"uno\",2:\"dos\",3:\"tres\"}\n",
        "b={4:\"cuatro\",5:\"cinco\"}\n",
        "\n",
        "a.update(b)"
      ]
    },
    {
      "cell_type": "code",
      "execution_count": null,
      "metadata": {
        "colab": {
          "base_uri": "https://localhost:8080/"
        },
        "id": "pp3aggLBmrgz",
        "outputId": "7134d27b-6460-4355-f0db-ffc7eafd1f52"
      },
      "outputs": [],
      "source": [
        "a"
      ]
    },
    {
      "cell_type": "code",
      "execution_count": null,
      "metadata": {
        "colab": {
          "base_uri": "https://localhost:8080/"
        },
        "id": "punhoIuPmrCN",
        "outputId": "d61eee0b-a071-43f9-c40f-87867e5d76af"
      },
      "outputs": [],
      "source": [
        "a.popitem()"
      ]
    },
    {
      "cell_type": "code",
      "execution_count": null,
      "metadata": {
        "colab": {
          "base_uri": "https://localhost:8080/"
        },
        "id": "59S-DgRWm6X7",
        "outputId": "d07df799-2a06-45ad-c441-7653aa093683"
      },
      "outputs": [],
      "source": [
        "a"
      ]
    },
    {
      "cell_type": "markdown",
      "metadata": {
        "id": "kXS87XDVweiU"
      },
      "source": [
        "# Copia de diccionarios\n",
        "Existen dos formas de copiar diccionarios:\n",
        "\n",
        "* Copia por referencia **d1 = d2**: Asocia la la variable d1 el mismo diccionario que tiene asociado la variable d2, es decir, ambas variables apuntan a la misma dirección de memoria. Cualquier cambio que hagamos a través de l1 o l2 afectará al mismo diccionario.\n",
        "* Copia por valor **d1 = list(d2)**: Crea una copia del diccionario asociado a d2 en una dirección de memoria diferente y se la asocia a d1. Las variables apuntan a direcciones de memoria diferentes que contienen los mismos datos. Cualquier cambio que hagamos a través de l1 no afectará al diccionario de l2 y viceversa."
      ]
    },
    {
      "cell_type": "code",
      "execution_count": null,
      "metadata": {
        "id": "pHGPb4EVws1T"
      },
      "outputs": [],
      "source": [
        "a = {1:'A', 2:'B', 3:'C'}"
      ]
    },
    {
      "cell_type": "code",
      "execution_count": null,
      "metadata": {
        "colab": {
          "base_uri": "https://localhost:8080/"
        },
        "id": "8Cq0UK_nwv3k",
        "outputId": "03038f5e-5a49-4d20-90f7-fdd41ffa22b3"
      },
      "outputs": [],
      "source": [
        "# copia por referencia\n",
        "b = a\n",
        "b"
      ]
    },
    {
      "cell_type": "code",
      "execution_count": null,
      "metadata": {
        "id": "jXroXTmvwyvt"
      },
      "outputs": [],
      "source": [
        "b[2] = 'D'"
      ]
    },
    {
      "cell_type": "code",
      "execution_count": null,
      "metadata": {
        "colab": {
          "base_uri": "https://localhost:8080/"
        },
        "id": "hDciXI1vw050",
        "outputId": "56a3602a-a27c-4fdc-9053-d22fc09a2337"
      },
      "outputs": [],
      "source": [
        "print(b)\n",
        "print(a)"
      ]
    },
    {
      "cell_type": "code",
      "execution_count": null,
      "metadata": {
        "id": "qUx3q4ZBw4IQ"
      },
      "outputs": [],
      "source": [
        "a = {1:'A', 2:'B', 3:'C'}"
      ]
    },
    {
      "cell_type": "code",
      "execution_count": null,
      "metadata": {
        "colab": {
          "base_uri": "https://localhost:8080/"
        },
        "id": "aS-3L3LAw724",
        "outputId": "5122fc8d-7814-4353-d7c4-520e57d7e1c5"
      },
      "outputs": [],
      "source": [
        "# copia por valor\n",
        "b = dict(a)\n",
        "b"
      ]
    },
    {
      "cell_type": "code",
      "execution_count": null,
      "metadata": {
        "id": "Ko-cGugFw_WA"
      },
      "outputs": [],
      "source": [
        "b[2] = 'D'"
      ]
    },
    {
      "cell_type": "code",
      "execution_count": null,
      "metadata": {
        "colab": {
          "base_uri": "https://localhost:8080/"
        },
        "id": "g7CEsIdKxBza",
        "outputId": "26632e6c-e6f5-4515-e5fa-79d566786003"
      },
      "outputs": [],
      "source": [
        "print(b)\n",
        "print(a)"
      ]
    },
    {
      "cell_type": "code",
      "execution_count": null,
      "metadata": {
        "colab": {
          "base_uri": "https://localhost:8080/"
        },
        "id": "zR5jmRxRnxhA",
        "outputId": "73526a9a-0642-49d8-d8b4-79c1d9ee6191"
      },
      "outputs": [],
      "source": [
        "a.copy()"
      ]
    },
    {
      "cell_type": "code",
      "execution_count": null,
      "metadata": {
        "colab": {
          "base_uri": "https://localhost:8080/"
        },
        "id": "YqgbCaYWn1FP",
        "outputId": "bc411a7f-e850-4b06-cc9c-efb71376af32"
      },
      "outputs": [],
      "source": [
        "# copia por valor\n",
        "b = a.copy()\n",
        "b"
      ]
    },
    {
      "cell_type": "markdown",
      "metadata": {
        "id": "Px6jSNVTed5k"
      },
      "source": [
        "## Ejercicio 1 - LISTAS\n",
        "Escribir un programa que almacene las asignaturas de un curso (por ejemplo Matemáticas, Física, Química, Historia y Lengua) en una lista y la muestre por pantalla."
      ]
    },
    {
      "cell_type": "code",
      "execution_count": null,
      "metadata": {
        "colab": {
          "base_uri": "https://localhost:8080/"
        },
        "id": "4-QXOtMTejh_",
        "outputId": "34b839c9-9c2c-4284-a5f9-849e040013bd"
      },
      "outputs": [],
      "source": [
        "materias = ['Matemáticas', 'Física', 'Química', 'Historia', 'Lengua']\n",
        "print(materias)"
      ]
    },
    {
      "cell_type": "code",
      "execution_count": null,
      "metadata": {
        "colab": {
          "base_uri": "https://localhost:8080/"
        },
        "id": "wGKdyOUfoWRG",
        "outputId": "ecaa6c3b-f4d5-413d-a208-bf278b1588b3"
      },
      "outputs": [],
      "source": [
        "# EJERCICIO DE CLASE: INGRESAR EL NUMERO DE CURSOS Y LOS CURSOS EN UNA LISTA USANDO BUCLEVnum_materias = int(input(\"numero de materias: \"))\n",
        "num_materias = int(input(\"numero de materias: \"))\n",
        "lista =[]\n",
        "for i in range(num_materias):\n",
        "  materia = input(\"nombre materia: \")\n",
        "  lista.append(materia)\n",
        "\n",
        "print(lista)\n"
      ]
    },
    {
      "cell_type": "markdown",
      "metadata": {
        "id": "m3LCgILeej9l"
      },
      "source": [
        "## Ejercicio 2 - LISTAS\n",
        "Escribir un programa que almacene las asignaturas de un curso (por ejemplo Matemáticas, Física, Química, Historia y Lengua) en una lista y la muestre por pantalla el mensaje:\n",
        "* Yo estudio **ASIGNATURA**, donde **ASIGNATURA** es cada una de las asignaturas de la lista."
      ]
    },
    {
      "cell_type": "code",
      "execution_count": null,
      "metadata": {
        "colab": {
          "base_uri": "https://localhost:8080/"
        },
        "id": "7_IU80HrepJ6",
        "outputId": "35d14758-698c-4dfa-a8c2-620deaaafead"
      },
      "outputs": [],
      "source": [
        "for asignatura in lista:\n",
        "  print(\"Yo estudio\",asignatura)"
      ]
    },
    {
      "cell_type": "markdown",
      "metadata": {
        "id": "6T6twqBNfJ7k"
      },
      "source": [
        "## Ejercicio 3 - LISTAS\n",
        "Escribir un programa que almacene las asignaturas de un curso (por ejemplo Matemáticas, Física, Química, Historia y Lengua) en una lista, pregunte al usuario la nota que ha sacado en cada asignatura, y después las muestre por pantalla con el mensaje:\n",
        "* En **ASIGNATURA** has sacado **NOTA** donde **ASIGNATURA** es cada una des las asignaturas de la lista y **NOTA** cada una de las correspondientes notas introducidas por el usuario."
      ]
    },
    {
      "cell_type": "code",
      "execution_count": null,
      "metadata": {
        "colab": {
          "base_uri": "https://localhost:8080/"
        },
        "id": "JrSYw1smfSmw",
        "outputId": "e77ed05e-145f-4c0e-fbec-e477a5322f7a"
      },
      "outputs": [],
      "source": [
        "num_materias = int(input(\"numero de materias: \"))\n",
        "lista =[]\n",
        "for i in range(num_materias):\n",
        "  materia = input(\"nombre materia: \")\n",
        "  nota = float(input(\"ingrese su nota: \"))\n",
        "  lista.append([materia,nota])\n",
        "\n",
        "print(lista)\n"
      ]
    },
    {
      "cell_type": "code",
      "execution_count": null,
      "metadata": {
        "colab": {
          "base_uri": "https://localhost:8080/"
        },
        "id": "lwJ2jTnKqPwd",
        "outputId": "4aa04901-14d5-4c57-f496-4970ecd29ea1"
      },
      "outputs": [],
      "source": [
        "for curso_nota in lista:\n",
        "  print(\"En\",curso_nota[0],\"has sacado\",curso_nota[1])"
      ]
    },
    {
      "cell_type": "code",
      "execution_count": null,
      "metadata": {
        "colab": {
          "base_uri": "https://localhost:8080/"
        },
        "id": "NAf3hShouZ3L",
        "outputId": "8a03dfe9-c00b-4153-f8b3-aa7f1c0b42d8"
      },
      "outputs": [],
      "source": [
        "curso_nota=lista[0]\n",
        "print(\"En\",curso_nota[0],\"has sacado\",curso_nota[1])"
      ]
    },
    {
      "cell_type": "code",
      "execution_count": null,
      "metadata": {
        "colab": {
          "base_uri": "https://localhost:8080/"
        },
        "id": "C0wk104IvEkS",
        "outputId": "8d3da713-49f0-424d-8fa4-7db93d0c7b57"
      },
      "outputs": [],
      "source": [
        "curso_nota=lista[1]\n",
        "print(\"En\",curso_nota[0],\"has sacado\",curso_nota[1])"
      ]
    },
    {
      "cell_type": "code",
      "execution_count": null,
      "metadata": {
        "colab": {
          "base_uri": "https://localhost:8080/"
        },
        "id": "9PbRj9pmvF-S",
        "outputId": "8333341e-3512-4865-fa2b-dd613cf4b9d8"
      },
      "outputs": [],
      "source": [
        "curso_nota=lista[2]\n",
        "print(\"En\",curso_nota[0],\"has sacado\",curso_nota[1])"
      ]
    },
    {
      "cell_type": "markdown",
      "metadata": {
        "id": "w_IHdJlYfmKm"
      },
      "source": [
        "## Ejericicio 4 - LISTAS\n",
        "Escribir un programa que pregunte al usuario los números ganadores de la lotería primitiva, los almacene en una lista y los muestre por pantalla ordenados de menor a mayor."
      ]
    },
    {
      "cell_type": "code",
      "execution_count": null,
      "metadata": {
        "colab": {
          "base_uri": "https://localhost:8080/"
        },
        "id": "SoRWlqaYfqaf",
        "outputId": "4ec192be-d2bb-46f0-d130-209bc9f6475e"
      },
      "outputs": [],
      "source": [
        "print(\"Ingrese los números ganadores de la lotería\")\n",
        "L=[]\n",
        "for i in range(6):\n",
        "  n=int(input(\"Ingrese el número \"+str(i+1)+\": \"))\n",
        "  L.append(n)\n",
        "\n",
        "L.sort()\n",
        "print(L)"
      ]
    },
    {
      "cell_type": "markdown",
      "metadata": {
        "id": "dcX4_Z-ofuDj"
      },
      "source": [
        "## Ejercicio 5 - LISTAS\n",
        "Escribir un programa que almacene en una lista los números del 1 al 10 y los muestre por pantalla en orden inverso separados por comas."
      ]
    },
    {
      "cell_type": "code",
      "execution_count": null,
      "metadata": {
        "colab": {
          "base_uri": "https://localhost:8080/"
        },
        "id": "jjAaL7xtfv6U",
        "outputId": "13d005ed-f24a-48ce-ba94-d9637ae6f8dc"
      },
      "outputs": [],
      "source": [
        "numeros =[1,2,3,4,5,6,7,8,9,10]\n",
        "numeros_inversos = list(reversed(numeros))\n",
        "cadena=''\n",
        "for i in range(0,len(numeros)):\n",
        "  if i==0:\n",
        "    cadena=str(numeros_inversos[i])\n",
        "  else:\n",
        "    cadena=cadena +','+ str(numeros_inversos[i])\n",
        "\n",
        "print(cadena)"
      ]
    },
    {
      "cell_type": "code",
      "execution_count": null,
      "metadata": {
        "colab": {
          "base_uri": "https://localhost:8080/"
        },
        "id": "O7570RKdw86i",
        "outputId": "829266ba-9759-4e68-fa04-08b5fefd3c2e"
      },
      "outputs": [],
      "source": [
        "numeros =[1,2,3,4,5,6,7,8,9,10]\n",
        "numeros.reverse()\n",
        "numeros_inversos = numeros\n",
        "cadena=''\n",
        "for i in range(0,len(numeros)):\n",
        "  if i==0:\n",
        "    cadena=str(numeros_inversos[i])\n",
        "  else:\n",
        "    cadena=cadena +','+ str(numeros_inversos[i])\n",
        "\n",
        "print(cadena)"
      ]
    },
    {
      "cell_type": "code",
      "execution_count": null,
      "metadata": {
        "colab": {
          "base_uri": "https://localhost:8080/"
        },
        "id": "pSZt5l7OxH5-",
        "outputId": "be2cfe39-56cc-4902-9c17-db32cee0b033"
      },
      "outputs": [],
      "source": [
        "limite =int(input('Introduce un número : '))\n",
        "num=[]\n",
        "inverso=[]\n",
        "for i in range(limite):\n",
        "  num.append(i+1)\n",
        "  inverso.append(limite-i)\n",
        "print('Números del 1 al',limite,' :',num)\n",
        "print('Números del 1 al',limite,' :', inverso)"
      ]
    },
    {
      "cell_type": "code",
      "execution_count": null,
      "metadata": {
        "colab": {
          "base_uri": "https://localhost:8080/",
          "height": 36
        },
        "id": "nkc3f1MnxHyp",
        "outputId": "f38fb6d3-8aa1-4d64-ab63-119ecf20d987"
      },
      "outputs": [],
      "source": [
        "str(list(range(1,10+1)))[1:-1]"
      ]
    },
    {
      "cell_type": "markdown",
      "metadata": {
        "id": "ZoDB6Es-fz_z"
      },
      "source": [
        "## Ejercicio 6 - LISTAS\n",
        "Escribir un programa que almacene las asignaturas de un curso (por ejemplo Matemáticas, Física, Química, Historia y Lengua) en una lista, pregunte al usuario la nota que ha sacado en cada asignatura y elimine de la lista las asignaturas aprobadas.\n",
        "\n",
        "Al final el programa debe mostrar por pantalla las asignaturas que el usuario tiene que repetir."
      ]
    },
    {
      "cell_type": "code",
      "execution_count": null,
      "metadata": {
        "colab": {
          "base_uri": "https://localhost:8080/"
        },
        "id": "UQsmNzMff3yP",
        "outputId": "f3b10551-1bb6-41eb-9401-f79b3567466e"
      },
      "outputs": [],
      "source": [
        "num_materias = int(input(\"numero de materias: \"))\n",
        "lista =[]\n",
        "for i in range(num_materias):\n",
        "  materia = input(\"nombre materia: \")\n",
        "  nota = float(input(\"ingrese su nota: \"))\n",
        "  if nota<14:\n",
        "    lista.append([materia,nota])\n",
        "\n",
        "print(lista)\n"
      ]
    },
    {
      "cell_type": "markdown",
      "metadata": {
        "id": "5rLqXF8hf-cz"
      },
      "source": [
        "## Ejercicio 7 - LISTAS\n",
        "Escribir un programa que almacene el abecedario en una lista, elimine de la lista las letras que ocupen posiciones múltiplos de 3, y muestre por pantalla la lista resultante."
      ]
    },
    {
      "cell_type": "code",
      "execution_count": null,
      "metadata": {
        "colab": {
          "base_uri": "https://localhost:8080/"
        },
        "id": "sf1U1iW3gAh3",
        "outputId": "00054911-8baa-4cde-ba44-e56ed9b294b1"
      },
      "outputs": [],
      "source": [
        "abc = ['A','B','C','D','E','F','G','H','I','J','K','L','M','N','Ñ','O','P','Q','R','S','T','U','V','W','X','Y','Z']\n",
        "letra =[]\n",
        "for i in range(0,len(abc),1):\n",
        "  if (i + 1) % 3 != 0:\n",
        "     letra.append(abc[i])\n",
        "\n",
        "print('Abecedario ',abc)\n",
        "print(\"Abecedario despues=\",letra)"
      ]
    },
    {
      "cell_type": "markdown",
      "metadata": {
        "id": "rHlKtJsegQhf"
      },
      "source": [
        "## Ejercicio 8 - LISTAS\n",
        "Escribir un programa que almacene en una lista los siguientes precios, 50, 75, 46, 22, 80, 65, 8, y muestre por pantalla el menor y el mayor de los precios."
      ]
    },
    {
      "cell_type": "code",
      "execution_count": null,
      "metadata": {
        "colab": {
          "base_uri": "https://localhost:8080/"
        },
        "id": "pZTTz5i6h4ZQ",
        "outputId": "a71e92b7-e312-487b-ea38-9cd333320811"
      },
      "outputs": [],
      "source": [
        "L=[50,75,46,22,80,65,8]\n",
        "print(\"El menos es \",min(L))\n",
        "print(\"El mayor es\",max(L))"
      ]
    },
    {
      "cell_type": "markdown",
      "metadata": {
        "id": "pDtQN1gWxNVW"
      },
      "source": [
        "# Ejercicio 9 - DICCIONARIO\n",
        "Escribir un programa que guarde en una variable el diccionario {'Euro':'€', 'Dollar':'$', 'Yen':'¥'}, pregunte al usuario por una divisa y muestre su símbolo o un mensaje de aviso si la divisa no está en el diccionario."
      ]
    },
    {
      "cell_type": "code",
      "execution_count": null,
      "metadata": {
        "colab": {
          "base_uri": "https://localhost:8080/"
        },
        "id": "dTU_a4I6xPUu",
        "outputId": "8f546d02-45ca-4b1a-9d97-2bfd619e25f5"
      },
      "outputs": [],
      "source": [
        "divisas= {'Euro':'€', 'Dollar':'$', 'Yen':'¥'}\n",
        "divisa=input(\"Cual es la divisa que deseas saber su símbolo?: \")\n",
        "simbolo=divisas.get(divisa,\"la divisa no está en el diccionario\")\n",
        "print(simbolo)"
      ]
    },
    {
      "cell_type": "code",
      "execution_count": null,
      "metadata": {
        "colab": {
          "base_uri": "https://localhost:8080/"
        },
        "id": "1Uw2hd6g0pqf",
        "outputId": "d46f6183-777e-4543-dbd0-b3361d684aec"
      },
      "outputs": [],
      "source": [
        "divisa in divisas"
      ]
    },
    {
      "cell_type": "markdown",
      "metadata": {
        "id": "0V-P3qCMxTOx"
      },
      "source": [
        "# Ejercicio 10 - DICCIONARIO\n",
        "Escribir un programa que pregunte al usuario su nombre, edad, dirección y teléfono y lo guarde en un diccionario. Después debe mostrar por pantalla el mensaje <nombre> tiene <edad> años, vive en <dirección> y su número de teléfono es <teléfono>."
      ]
    },
    {
      "cell_type": "code",
      "execution_count": null,
      "metadata": {
        "colab": {
          "base_uri": "https://localhost:8080/"
        },
        "id": "8seda7aQxVpd",
        "outputId": "2a129d2e-5972-49f2-dd99-a0e95848aff4"
      },
      "outputs": [],
      "source": [
        "nombre = input(\"Por favor, ingrese su nombre: \")\n",
        "edad = input(\"Por favor, ingrese su edad: \")\n",
        "direccion = input(\"Por favor, ingrese su dirección: \")\n",
        "telefono = input(\"Por favor, ingrese su número de teléfono: \")\n",
        "\n",
        "usuario_info = {\n",
        "    \"nombre\": nombre,\n",
        "    \"edad\": edad,\n",
        "    \"direccion\": direccion,\n",
        "    \"telefono\": telefono\n",
        "}\n",
        "\n",
        "\n",
        "print(f\"{usuario_info['nombre']} tiene {usuario_info['edad']} años, vive en {usuario_info['direccion']} y su número de teléfono es {usuario_info['telefono']}.\")"
      ]
    },
    {
      "cell_type": "markdown",
      "metadata": {
        "id": "gMNO6x1mxgDF"
      },
      "source": [
        "## Ejercicio 11 - DICCIONARIO\n",
        "\n",
        "Escribir un programa que guarde en un diccionario los precios de las frutas de la tabla, pregunte al usuario por una fruta, un número de kilos y muestre por pantalla el precio de ese número de kilos de fruta. Si la fruta no está en el diccionario debe mostrar un mensaje informando de ello.\n",
        "\n",
        "| Fruta | Precio|\n",
        "|:-|:-:|\n",
        "|Plátano | 1.35 |\n",
        "|Manzana | 0.80|\n",
        "|Pera| 0.85|\n",
        "|Naranja | 0.70|"
      ]
    },
    {
      "cell_type": "code",
      "execution_count": null,
      "metadata": {
        "colab": {
          "base_uri": "https://localhost:8080/"
        },
        "id": "KUAglHvgxhVr",
        "outputId": "9abde599-04ed-45e3-b7ed-81b31e287bac"
      },
      "outputs": [],
      "source": [
        "frutas={\"plátano\":1.35,\"manzana\":0.80,\"pera\":0.85,\"naranja\":0.70}\n",
        "fruta=input(\"Ingrese la fruta \").lower()\n",
        "\n",
        "if fruta in frutas:\n",
        "  kilos=float(input(\"Ingrese los kilos \"))\n",
        "  print(\"El precio de ese número de kilos de fruta es\",frutas[fruta]*kilos)\n",
        "else:\n",
        "  print(\"Fruta no válida\")"
      ]
    },
    {
      "cell_type": "markdown",
      "metadata": {
        "id": "87L2esSiTzKA"
      },
      "source": [
        "## Ejercicio 12 - DICCIONARIO\n",
        "\n",
        "Escribir un programa que almacene el diccionario con los créditos de las asignaturas de un curso `{'Matemáticas': 6, 'Física': 4, 'Química': 5}` y después muestre por pantalla los créditos de cada asignatura en el formato `<asignatura> tiene <créditos> créditos`, donde `<asignatura>` es cada una de las asignaturas del curso, y `<créditos>` son sus créditos. Al final debe mostrar también el número total de créditos del curso."
      ]
    },
    {
      "cell_type": "code",
      "execution_count": null,
      "metadata": {
        "colab": {
          "base_uri": "https://localhost:8080/"
        },
        "id": "_R6KEg9H5ANf",
        "outputId": "c42d4a4c-fa03-4668-c7b1-794c15cda221"
      },
      "outputs": [],
      "source": [
        "creditos_asignaturas = {\"Matematicas\": 6, \"Fisica\": 4, \"Quimica\": 5}\n",
        "creditos_asignaturas#.items()"
      ]
    },
    {
      "cell_type": "code",
      "execution_count": null,
      "metadata": {
        "colab": {
          "base_uri": "https://localhost:8080/"
        },
        "id": "biWFgiKL5EaE",
        "outputId": "8b343f11-6e35-4fce-f712-d91206b5567c"
      },
      "outputs": [],
      "source": [
        "print(creditos_asignaturas.items())"
      ]
    },
    {
      "cell_type": "code",
      "execution_count": null,
      "metadata": {
        "colab": {
          "base_uri": "https://localhost:8080/"
        },
        "id": "WrsLAiadT2l5",
        "outputId": "bd92990e-9fcd-42e7-ff91-3e852f3d4c54"
      },
      "outputs": [],
      "source": [
        "creditos_asignaturas = {\"Matematicas\": 6, \"Fisica\": 4, \"Quimica\": 5}\n",
        "\n",
        "for cualquier_cosa, creditos in creditos_asignaturas.items():\n",
        "    print(cualquier_cosa, \"tiene\", creditos,\"créditos\")\n",
        "\n",
        "total_creditos = sum(creditos_asignaturas.values())\n",
        "\n",
        "print(\"El número total de créditos del curso es: \", total_creditos)"
      ]
    },
    {
      "cell_type": "code",
      "execution_count": null,
      "metadata": {
        "colab": {
          "base_uri": "https://localhost:8080/"
        },
        "id": "Y8vqRAx56Ykq",
        "outputId": "71223a24-19e1-4087-d6d6-e275d6323917"
      },
      "outputs": [],
      "source": [
        "L=[(\"a\",\"b\",\"c\"),(\"x\",\"y\",\"z\"),(\"p\",\"r\",\"s\")]\n",
        "\n",
        "for q,w,e in L:\n",
        "  print(q,w,e)"
      ]
    },
    {
      "cell_type": "code",
      "execution_count": null,
      "metadata": {
        "colab": {
          "base_uri": "https://localhost:8080/"
        },
        "id": "Kpjpb2Qa8B1h",
        "outputId": "fc0d871f-2835-4929-c4d5-6afd6db8eb35"
      },
      "outputs": [],
      "source": [
        "L[0]"
      ]
    },
    {
      "cell_type": "code",
      "execution_count": null,
      "metadata": {
        "colab": {
          "base_uri": "https://localhost:8080/"
        },
        "id": "1gRunGRE8Fxv",
        "outputId": "0ec01209-428f-47aa-d76a-72002bb2628d"
      },
      "outputs": [],
      "source": [
        "L[1]"
      ]
    },
    {
      "cell_type": "code",
      "execution_count": null,
      "metadata": {
        "colab": {
          "base_uri": "https://localhost:8080/"
        },
        "id": "zBvvA8mn8HpL",
        "outputId": "0c0896d7-3cfa-47a5-8eab-f63fbb557e49"
      },
      "outputs": [],
      "source": [
        "L[2]"
      ]
    },
    {
      "cell_type": "code",
      "execution_count": null,
      "metadata": {
        "colab": {
          "base_uri": "https://localhost:8080/"
        },
        "id": "2kiND6v_Aque",
        "outputId": "b8dbbe5d-c42e-4ea3-ce0c-1527c469014a"
      },
      "outputs": [],
      "source": [
        "d = {\"Matematicas\": 6, \"Fisica\":4, \"Quimica\": 5}\n",
        "\n",
        "# d.keys() -> keys o llaves\n",
        "# d.values() -> valores\n",
        "# d.items() -> tupla clave valor\n",
        "# for x in d:  ====  for x in d.keys():  -> keys\n",
        "\n",
        "for x in d.keys():\n",
        "  print(x)"
      ]
    },
    {
      "cell_type": "code",
      "execution_count": null,
      "metadata": {
        "colab": {
          "base_uri": "https://localhost:8080/"
        },
        "id": "LZVX3pf8BQuv",
        "outputId": "1f9cb1e0-c5ed-4a47-d8fc-cb2adf4e3988"
      },
      "outputs": [],
      "source": [
        "d[\"Fisica\"]"
      ]
    },
    {
      "cell_type": "code",
      "execution_count": null,
      "metadata": {
        "colab": {
          "base_uri": "https://localhost:8080/"
        },
        "id": "ygjT83JcBjn5",
        "outputId": "c71cd65e-fa48-4f07-9e7b-9296ff49fb92"
      },
      "outputs": [],
      "source": [
        "d.get(\"Fisica\")"
      ]
    },
    {
      "cell_type": "code",
      "execution_count": null,
      "metadata": {
        "colab": {
          "base_uri": "https://localhost:8080/"
        },
        "id": "iBeMkrwz5QzE",
        "outputId": "c931e6a7-ac80-4c8b-ca7b-45e95a95d3b5"
      },
      "outputs": [],
      "source": [
        "\n",
        "d = {\"Matematicas\": 6, \"Fisica\":4, \"Quimica\": 5}\n",
        "total_cre = 0\n",
        "for val in d:\n",
        "  print(val + ' tiene ' + str(d.get(val)) + ' creditos')\n",
        "  total_cre = total_cre + d.get(val)\n",
        "print('Total creditos ', total_cre)"
      ]
    },
    {
      "cell_type": "code",
      "execution_count": null,
      "metadata": {
        "colab": {
          "base_uri": "https://localhost:8080/"
        },
        "id": "yWwM_M-2HNmY",
        "outputId": "6291f828-0d14-485a-9f56-4b5373ace2a5"
      },
      "outputs": [],
      "source": [
        "d={}\n",
        "\n",
        "d[1]={\"lunes\":1,\"martes\":2}\n",
        "d[5]={\"viernes\":5,\"martes\":2}\n",
        "d"
      ]
    },
    {
      "cell_type": "markdown",
      "metadata": {
        "id": "t4S2a04_UYhl"
      },
      "source": [
        "## Ejercicio - CHALLENGE (OPCIONAL)\n",
        "\n",
        "Escribir un programa que permita gestionar la base de datos de clientes de una empresa. Los clientes se guardarán en un diccionario en el que la clave de cada cliente será su NIF, y el valor será otro diccionario con los datos del cliente (nombre, dirección, teléfono, correo, preferente), donde preferente tendrá el valor `True` si se trata de un cliente preferente. El programa debe preguntar al usuario por una opción del siguiente menú: (1) Añadir cliente, (2) Eliminar cliente, (3) Mostrar cliente, (4) Listar todos los clientes, (5) Listar clientes preferentes, (6) Terminar. En función de la opción elegida el programa tendrá que hacer lo siguiente:\n",
        "\n",
        "1. Preguntar los datos del cliente, crear un diccionario con los datos y añadirlo a la base de datos.\n",
        "2. Preguntar por el NIF del cliente y eliminar sus datos de la base de datos.\n",
        "3. Preguntar por el NIF del cliente y mostrar sus datos.\n",
        "4. Mostrar lista de todos los clientes de la base datos con su NIF y nombre.\n",
        "5. Mostrar la lista de clientes preferentes de la base de datos con su NIF y nombre.\n",
        "6. Terminar el programa."
      ]
    },
    {
      "cell_type": "code",
      "execution_count": null,
      "metadata": {
        "colab": {
          "base_uri": "https://localhost:8080/"
        },
        "id": "wpdMJwauUblY",
        "outputId": "9bb2ffe2-a7e8-40fe-e6bd-b81b2a2a71fb"
      },
      "outputs": [],
      "source": [
        "bd={}\n",
        "# key será NIF\n",
        "#values otro dict (nombre,dirección,teléfono, correo,preferente)\n",
        "id=len(bd)\n",
        "print(\"----------- MENÚ ------------\")\n",
        "print(\"(1) Añadir cliente\")\n",
        "print(\"(2) Eliminar cliente\")\n",
        "print(\"(3) Mostrar cliente\")\n",
        "print(\"(4) Listar todos los clientes\")\n",
        "print(\"(5) Listar clientes preferentes\")\n",
        "print(\"(6) Terminar\")\n",
        "\n",
        "\n",
        "while True:\n",
        "  opcion=input(\"Ingrese la opción: \")\n",
        "  if opcion==\"6\":\n",
        "    break\n",
        "  elif opcion==\"1\":\n",
        "    nombre=input(\"nombre: \")\n",
        "    direccion=input(\"dirección: \")\n",
        "    telefono=input(\"teléfono: \")\n",
        "    correo=input(\"correo \")\n",
        "    preferente=(input(\"es preferente? (S/N)\")==\"S\")\n",
        "    datos={\"nombre\":nombre,\"dirección\":direccion,\"teléfono\":telefono,\"correo\":correo,\"preferente\":preferente}\n",
        "    id=id+1\n",
        "    bd[id]=datos\n",
        "\n",
        "  elif opcion==\"2\":\n",
        "    id_eliminar=int(input(\"NIF del cliente a eliminar\"))\n",
        "    valor_eliminado=bd.pop(id_eliminar,\"no existe el cliente\")\n",
        "    print(valor_eliminado)\n",
        "\n",
        "  elif opcion==\"3\":\n",
        "    id_consultar=int(input(\"NIF del cliente a consultar\"))\n",
        "    valor_consultado=bd.get(id_consultar,\"no existe el cliente\")\n",
        "    print(valor_consultado)\n",
        "\n",
        "  elif opcion==\"4\":\n",
        "\n",
        "    for nif in bd:\n",
        "      print(nif,bd[nif][\"nombre\"])\n",
        "\n",
        "  elif opcion==\"5\":\n",
        "\n",
        "    for nif in bd:\n",
        "      if bd[nif][\"preferente\"] == True:\n",
        "        print(nif,bd[nif][\"nombre\"],\"es preferente\")\n",
        "\n",
        "  else:\n",
        "    print(\"No existe la opción\")\n",
        "\n",
        "\n",
        "print(\"------------ FIN DEL PROGRAMA -------------\")"
      ]
    },
    {
      "cell_type": "markdown",
      "metadata": {
        "id": "b0oTwUtbU1HY"
      },
      "source": [
        "## Ejercicio OBLIGATORIO\n",
        "\n",
        "Escribir un programa que pregunte por una muestra de números, separados por comas, los guarde en una tupla y muestre por pantalla su media."
      ]
    },
    {
      "cell_type": "code",
      "execution_count": null,
      "metadata": {
        "colab": {
          "base_uri": "https://localhost:8080/"
        },
        "id": "lvoHbdVlU3vv",
        "outputId": "bc9c6cba-6413-418a-d5cc-158d5ca08aeb"
      },
      "outputs": [],
      "source": [
        "muestra = str(input(\"Ingrese una muestra de numeros separados por comas sin dejar espacios: \"))\n",
        "k = 0\n",
        "j =0\n",
        "X = []\n",
        "for i in muestra:\n",
        "  if i==\",\":\n",
        "    m = float(str(muestra[k:j]))\n",
        "    X.append(m)\n",
        "    k = j+1\n",
        "  if j==len(muestra)-1:\n",
        "    m = float(str(muestra[k:j+1]))\n",
        "    X.append(m)\n",
        "  j = j+1\n",
        "\n",
        "Y = tuple(X)\n",
        "print(Y)\n",
        "sum = 0\n",
        "for i in Y:\n",
        "  sum += i\n",
        "prom = sum/len(Y)\n",
        "print(\"La media es: \",prom)\n"
      ]
    },
    {
      "cell_type": "code",
      "execution_count": null,
      "metadata": {
        "colab": {
          "base_uri": "https://localhost:8080/"
        },
        "id": "UolOn2gBKKA-",
        "outputId": "6ae8efd9-6898-42b9-ae1f-2dda0296d79d"
      },
      "outputs": [],
      "source": [
        "round(14.65654,2)"
      ]
    },
    {
      "cell_type": "code",
      "execution_count": null,
      "metadata": {
        "colab": {
          "base_uri": "https://localhost:8080/"
        },
        "id": "4-OGqEFTK_Nc",
        "outputId": "57084efc-fbac-4cc4-85cc-6fd2f8f93885"
      },
      "outputs": [],
      "source": [
        "muestra=input(\"ingrese muestra de digitos separados por comas\").replace(\" \",\"\").split(\",\")\n",
        "i=0\n",
        "for x in muestra:\n",
        "  muestra[i]=float(x)\n",
        "  i=i+1\n",
        "\n",
        "t=tuple(muestra)\n",
        "print(t)\n",
        "print(\"media\",sum(t)/len(muestra))"
      ]
    },
    {
      "cell_type": "code",
      "execution_count": null,
      "metadata": {
        "colab": {
          "base_uri": "https://localhost:8080/"
        },
        "id": "qVwoOBaeLTBu",
        "outputId": "193d67a2-6774-45ce-8ae3-0eac427f261a"
      },
      "outputs": [],
      "source": [
        "muestra=input(\"ingrese muestra de digitos separados por comas: \").replace(\" \",\"\").split(\",\")\n",
        "\n",
        "for i,x in enumerate(muestra):\n",
        "  muestra[i]=float(x)\n",
        "\n",
        "t=tuple(muestra)\n",
        "print(t)\n",
        "print(\"media\",sum(t)/len(muestra))"
      ]
    },
    {
      "cell_type": "code",
      "execution_count": null,
      "metadata": {
        "colab": {
          "base_uri": "https://localhost:8080/"
        },
        "id": "t3PkdVWAM5CT",
        "outputId": "aa96f504-496b-4158-d3c6-5434d948cc09"
      },
      "outputs": [],
      "source": [
        "muestra=input(\"ingrese muestra de digitos separados por comas: \").replace(\" \",\"\").split(\",\")\n",
        "\n",
        "muestra= [ float(x) for x in muestra ]\n",
        "\n",
        "t=tuple(muestra)\n",
        "print(t)\n",
        "print(\"media\",sum(t)/len(muestra))"
      ]
    },
    {
      "cell_type": "code",
      "execution_count": null,
      "metadata": {
        "id": "UkQJPlhjNrt0"
      },
      "outputs": [],
      "source": [
        "muestra=input(\"ingrese muestra de digitos separados por comas: \").replace(\" \",\"\").split(\",\")\n",
        "t=tuple( [ float(x) for x in muestra ]  )\n",
        "\n",
        "print(t)\n",
        "print(\"media\",sum(t)/len(muestra))"
      ]
    },
    {
      "cell_type": "code",
      "execution_count": null,
      "metadata": {
        "id": "-ojRGbLNN_uC"
      },
      "outputs": [],
      "source": [
        "t=tuple( [ float(x) for x in input(\"ingrese muestra de digitos separados por comas: \").replace(\" \",\"\").split(\",\") ]  )\n",
        "\n",
        "print(t)\n",
        "print(\"media\",sum(t)/len(muestra))"
      ]
    }
  ],
  "metadata": {
    "colab": {
      "provenance": []
    },
    "kernelspec": {
      "display_name": "Python 3",
      "name": "python3"
    },
    "language_info": {
      "codemirror_mode": {
        "name": "ipython",
        "version": 3
      },
      "file_extension": ".py",
      "mimetype": "text/x-python",
      "name": "python",
      "nbconvert_exporter": "python",
      "pygments_lexer": "ipython3",
      "version": "3.12.1"
    }
  },
  "nbformat": 4,
  "nbformat_minor": 0
}
