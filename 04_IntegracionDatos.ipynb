{
  "cells": [
    {
      "attachments": {},
      "cell_type": "markdown",
      "metadata": {
        "id": "i2_97zdQOEba"
      },
      "source": [
        "# INTEGRACIÓN DE DATOS (JOINS / MEGERS)\n",
        "\n",
        "\n",
        "SELECT A.*, B.a2, B.a3 FROM client A, district B WHERE A.district_id=B.district_id(+) (En oracle)"
      ]
    },
    {
      "cell_type": "code",
      "execution_count": null,
      "metadata": {
        "id": "2YxLu9CnYwzb"
      },
      "outputs": [],
      "source": [
        "from IPython.display import Image\n",
        "Image(\"joins.png\", height=800, width=500)"
      ]
    },
    {
      "cell_type": "code",
      "execution_count": null,
      "metadata": {},
      "outputs": [],
      "source": [
        "import pandas as pd"
      ]
    },
    {
      "attachments": {},
      "cell_type": "markdown",
      "metadata": {
        "id": "cXtbvv51bXYO"
      },
      "source": [
        "## Ejemplo 1"
      ]
    },
    {
      "cell_type": "code",
      "execution_count": null,
      "metadata": {
        "id": "rsiSlWAmay7i"
      },
      "outputs": [],
      "source": [
        "staff_df = pd.DataFrame([{'Name': 'Kelly', 'Role': 'Director of HR'},\n",
        "                         {'Name': 'Sally', 'Role': 'Course liasion'},\n",
        "                         {'Name': 'James', 'Role': 'Grader'}])\n",
        "\n",
        "student_df = pd.DataFrame([{'Name': 'James', 'School': 'Business'},\n",
        "                           {'Name': 'Mike', 'School': 'Law'},\n",
        "                           {'Name': 'Sally', 'School': 'Engineering'}])"
      ]
    },
    {
      "cell_type": "code",
      "execution_count": null,
      "metadata": {
        "id": "9Ph9B-A5bEeN"
      },
      "outputs": [],
      "source": [
        "pd.merge(staff_df, student_df, how='inner', on='Name')"
      ]
    },
    {
      "cell_type": "code",
      "execution_count": null,
      "metadata": {
        "id": "y-kRJoVsazsD"
      },
      "outputs": [],
      "source": [
        "pd.merge(staff_df, student_df, how='inner', left_on='Name', right_on='Name')"
      ]
    },
    {
      "attachments": {},
      "cell_type": "markdown",
      "metadata": {},
      "source": [
        "## Ejemplo 2"
      ]
    },
    {
      "cell_type": "code",
      "execution_count": null,
      "metadata": {
        "id": "BznzOHiJbR4Y"
      },
      "outputs": [],
      "source": [
        "staff_df = pd.DataFrame([{'First Name': 'Kelly', 'Last Name': 'Desjardins', 'Role': 'Director of HR'},\n",
        "                         {'First Name': 'Sally', 'Last Name': 'Brooks', 'Role': 'Course liasion'},\n",
        "                         {'First Name': 'James', 'Last Name': 'Wilde', 'Role': 'Grader'}])\n",
        "student_df = pd.DataFrame([{'First Name': 'James', 'Last Name': 'Hammond', 'School': 'Business'},\n",
        "                           {'First Name': 'Mike', 'Last Name': 'Smith', 'School': 'Law'},\n",
        "                           {'First Name': 'Sally', 'Last Name': 'Brooks', 'School': 'Engineering'}])"
      ]
    },
    {
      "cell_type": "code",
      "execution_count": null,
      "metadata": {
        "id": "SYqcAQHTbSyb"
      },
      "outputs": [],
      "source": []
    },
    {
      "attachments": {},
      "cell_type": "markdown",
      "metadata": {
        "id": "OZl2SWgxbxOR"
      },
      "source": [
        "### Ejercicio 1 \n",
        "\n",
        "Agregar la edad almacenada en df2 a df1 conservando el universo de df1."
      ]
    },
    {
      "cell_type": "code",
      "execution_count": null,
      "metadata": {
        "id": "eRZGseL9bybs"
      },
      "outputs": [],
      "source": [
        "df1 = pd.DataFrame({'id': [1, 2, 3, 4], 'name': ['Alice', 'Bob', 'Charlie', 'Dave']})\n",
        "df2 = pd.DataFrame({'id': [2, 4, 6, 8], 'age': [25, 30, 35, 40]})"
      ]
    },
    {
      "cell_type": "code",
      "execution_count": null,
      "metadata": {},
      "outputs": [],
      "source": []
    },
    {
      "attachments": {},
      "cell_type": "markdown",
      "metadata": {},
      "source": [
        "### Ejercicio 2\n",
        "Combinar DataFrames utilizando 'key' como clave, y realizar una operación de \"outer join\""
      ]
    },
    {
      "cell_type": "code",
      "execution_count": null,
      "metadata": {},
      "outputs": [],
      "source": [
        "dfA = pd.DataFrame({'key': ['A', 'B', 'C'], 'value': [1, 2, 3]})\n",
        "dfB = pd.DataFrame({'key': ['B', 'D', 'E'], 'value': [4, 5, 6]})"
      ]
    },
    {
      "cell_type": "code",
      "execution_count": null,
      "metadata": {},
      "outputs": [],
      "source": []
    },
    {
      "attachments": {},
      "cell_type": "markdown",
      "metadata": {},
      "source": [
        "### Ejercicio 3\n",
        "Combinar dos DataFrames en una columna común llamada \"id\", utilizando diferentes nombres de columna en cada DataFrame:"
      ]
    },
    {
      "cell_type": "code",
      "execution_count": null,
      "metadata": {},
      "outputs": [],
      "source": [
        "df1 = pd.DataFrame({'id': [1, 2, 3, 4], 'name': ['Alice', 'Bob', 'Charlie', 'Dave']})\n",
        "df2 = pd.DataFrame({'userid': [2, 4, 6, 8], 'age': [25, 30, 35, 40]})"
      ]
    },
    {
      "cell_type": "code",
      "execution_count": null,
      "metadata": {},
      "outputs": [],
      "source": []
    },
    {
      "attachments": {},
      "cell_type": "markdown",
      "metadata": {},
      "source": [
        "### Ejercicio 4 (CHALLENGE)\n",
        "\n",
        "Combinar dos DataFrames en dos columnas en común llamadas \"nombre\" y \"ciudad\", y mantener solo las filas que tienen un valor mayor que 3000 en una columna llamada \"salario\" en uno de los DataFrames:"
      ]
    },
    {
      "cell_type": "code",
      "execution_count": null,
      "metadata": {},
      "outputs": [],
      "source": [
        "# Crear el primer DataFrame\n",
        "data1 = {'nombre': ['Ana', 'Carlos', 'María', 'Juan'],\n",
        "         'edad': [25, 32, 18, 45],\n",
        "         'ciudad': ['Madrid', 'Barcelona', 'Valencia', 'Sevilla']}\n",
        "df1 = pd.DataFrame(data1)\n",
        "\n",
        "# Crear el segundo DataFrame\n",
        "data2 = {'nombre': ['Ana', 'Carlos', 'Pedro', 'Luis'],\n",
        "         'salario': [2500, 3200, 1800, 4500],\n",
        "         'ciudad': ['Madrid', 'Barcelona', 'Valencia', 'Sevilla']}\n",
        "df2 = pd.DataFrame(data2)"
      ]
    },
    {
      "cell_type": "code",
      "execution_count": null,
      "metadata": {},
      "outputs": [],
      "source": []
    }
  ],
  "metadata": {
    "colab": {
      "provenance": []
    },
    "kernelspec": {
      "display_name": "Python 3",
      "language": "python",
      "name": "python3"
    },
    "language_info": {
      "codemirror_mode": {
        "name": "ipython",
        "version": 3
      },
      "file_extension": ".py",
      "mimetype": "text/x-python",
      "name": "python",
      "nbconvert_exporter": "python",
      "pygments_lexer": "ipython3",
      "version": "3.7.6"
    }
  },
  "nbformat": 4,
  "nbformat_minor": 0
}
