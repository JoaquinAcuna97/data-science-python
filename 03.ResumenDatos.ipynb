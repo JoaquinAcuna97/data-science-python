{
 "cells": [
  {
   "attachments": {},
   "cell_type": "markdown",
   "metadata": {},
   "source": [
    "# <center>RESUMENES DE DATOS (ESTADISTICAS Y GRAFICOS)</center>\n",
    "## I. Principales Estadisticas de las columnas"
   ]
  },
  {
   "cell_type": "code",
   "execution_count": null,
   "metadata": {},
   "outputs": [],
   "source": [
    "from IPython.display import Image\n",
    "Image(\"Medida_central.png\", height=800, width=500)"
   ]
  },
  {
   "cell_type": "code",
   "execution_count": null,
   "metadata": {},
   "outputs": [],
   "source": [
    "import pandas as pd"
   ]
  },
  {
   "cell_type": "code",
   "execution_count": null,
   "metadata": {},
   "outputs": [],
   "source": [
    "df=pd.read_csv(\"bikes.csv\")\n",
    "df.head()"
   ]
  },
  {
   "attachments": {},
   "cell_type": "markdown",
   "metadata": {},
   "source": [
    "Puedes aplicar diversas funciones estadísticas y de agregación a estos grupos, como sum(), mean(), min(), max(), count(), std(), var(), etc. Puedes también aplicar funciones personalizadas usando el método apply()."
   ]
  },
  {
   "attachments": {},
   "cell_type": "markdown",
   "metadata": {},
   "source": [
    "Puedo utilizar más funciones al mismo tiempo"
   ]
  },
  {
   "cell_type": "code",
   "execution_count": null,
   "metadata": {},
   "outputs": [],
   "source": [
    "columnas = ['season','holiday','temp','humidity']\n",
    "agrseasonhol = df[ columnas ].groupby('season')"
   ]
  },
  {
   "cell_type": "code",
   "execution_count": null,
   "metadata": {},
   "outputs": [],
   "source": [
    "# Medida de tendencia Central\n",
    "agrseasonhol.agg(['mean','median','count'])"
   ]
  },
  {
   "cell_type": "code",
   "execution_count": null,
   "metadata": {},
   "outputs": [],
   "source": [
    "Image(\"Medidas_dispersion.png\", height=800, width=500)"
   ]
  },
  {
   "cell_type": "code",
   "execution_count": null,
   "metadata": {},
   "outputs": [],
   "source": [
    "# Medidas de disperción\n",
    "agrseasonhol.agg(['mean','std','var'])"
   ]
  },
  {
   "cell_type": "code",
   "execution_count": null,
   "metadata": {},
   "outputs": [],
   "source": [
    "# Coeficiente de variación\n",
    "agrhumidity = df[ columnas ].groupby('season')['humidity']\n",
    "agregado = agrhumidity.agg(['mean','std','var'])\n",
    "agregado['coeficiente_variacion'] = (agregado['std'] / agregado['mean']) * 100"
   ]
  },
  {
   "attachments": {},
   "cell_type": "markdown",
   "metadata": {},
   "source": [
    "La interpretación del coeficiente de variación es la siguiente:\n",
    "\n",
    "* Si el CV es bajo (por ejemplo, menor al 10%), se considera que la serie de datos tiene poca variación relativa. Esto significa que los valores individuales están bastante cerca de la media y la dispersión entre ellos es relativamente pequeña.\n",
    "* Si el CV es moderado (por ejemplo, entre el 10% y el 30%), se considera que la serie de datos tiene una variación moderada. Esto implica que los valores individuales se encuentran moderadamente dispersos alrededor de la media.\n",
    "* Si el CV es alto (por ejemplo, mayor al 30%), se considera que la serie de datos tiene una alta variación relativa. Esto indica que los valores individuales están ampliamente dispersos y distantes de la media."
   ]
  },
  {
   "attachments": {},
   "cell_type": "markdown",
   "metadata": {},
   "source": [
    "Puedo agrupar por más de una columna"
   ]
  },
  {
   "cell_type": "code",
   "execution_count": null,
   "metadata": {},
   "outputs": [],
   "source": [
    "columnas = ['season','holiday','temp','humidity']\n",
    "agrseasonhol = df[ columnas ].groupby(['holiday','season'])"
   ]
  },
  {
   "cell_type": "code",
   "execution_count": null,
   "metadata": {},
   "outputs": [],
   "source": [
    "agrseasonhol.agg(['mean','std','count'])"
   ]
  },
  {
   "attachments": {},
   "cell_type": "markdown",
   "metadata": {},
   "source": [
    "### Ejercicio: Agrupa la base de Bike.csv por WORKINGDAY y calculat el Coeficiente de variación de la sensación térmica (atemp)"
   ]
  },
  {
   "cell_type": "code",
   "execution_count": null,
   "metadata": {},
   "outputs": [],
   "source": []
  },
  {
   "attachments": {},
   "cell_type": "markdown",
   "metadata": {},
   "source": [
    "## II. Estadística aplicada"
   ]
  },
  {
   "cell_type": "code",
   "execution_count": null,
   "metadata": {},
   "outputs": [],
   "source": [
    "# Desviación estándar\n",
    "desv_winspeed = df['windspeed'].std()\n",
    "print(\"La desviacion estándar de la velocidad del viento es:\", desv_winspeed)"
   ]
  },
  {
   "cell_type": "code",
   "execution_count": null,
   "metadata": {
    "collapsed": true,
    "jupyter": {
     "outputs_hidden": true
    }
   },
   "outputs": [],
   "source": [
    "# Promedio\n",
    "promedio = df['windspeed'].mean()\n",
    "print(\"El promedio de la velocidad del viento es:\", promedio)"
   ]
  },
  {
   "cell_type": "code",
   "execution_count": null,
   "metadata": {},
   "outputs": [],
   "source": [
    "# Moda\n",
    "moda = df['humidity'].mode().values[0]\n",
    "print(\"La moda del etiqueta de la sensación térmica es:\", atemp)"
   ]
  },
  {
   "attachments": {},
   "cell_type": "markdown",
   "metadata": {},
   "source": [
    "# Medidad de tendencia NO CENTRAL"
   ]
  },
  {
   "cell_type": "code",
   "execution_count": null,
   "metadata": {},
   "outputs": [],
   "source": [
    "percentil_25 = df['windspeed'].quantile(0.25)\n",
    "\n",
    "print(\"Percentil 25 de la columna 'columna':\", percentil_25)"
   ]
  },
  {
   "cell_type": "code",
   "execution_count": null,
   "metadata": {},
   "outputs": [],
   "source": [
    "percentil_75 = df['windspeed'].quantile(0.75)\n",
    "\n",
    "print(\"Percentil 75 de la columna 'columna':\", percentil_75)"
   ]
  },
  {
   "cell_type": "code",
   "execution_count": null,
   "metadata": {},
   "outputs": [],
   "source": [
    "percentil_99 = df['windspeed'].quantile(0.99)\n",
    "\n",
    "print(\"Percentil 99 de la columna 'columna':\", percentil_99)"
   ]
  }
 ],
 "metadata": {
  "kernelspec": {
   "display_name": "Python 3",
   "language": "python",
   "name": "python3"
  },
  "language_info": {
   "codemirror_mode": {
    "name": "ipython",
    "version": 3
   },
   "file_extension": ".py",
   "mimetype": "text/x-python",
   "name": "python",
   "nbconvert_exporter": "python",
   "pygments_lexer": "ipython3",
   "version": "3.8.3"
  }
 },
 "nbformat": 4,
 "nbformat_minor": 4
}
