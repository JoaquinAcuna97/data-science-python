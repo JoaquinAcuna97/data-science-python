{
  "cells": [
    {
      "cell_type": "markdown",
      "metadata": {
        "id": "0LR1AC_bh7BL"
      },
      "source": [
        "# <center> PYTHON - Estructura de datos </center>\n",
        "\n",
        "# I. Listas\n",
        "Una lista es una secuencias ordenadas de objetos de distintos tipos.\n",
        "\n",
        "Se construyen poniendo los elementos entre corchetes [ ] separados por comas.\n",
        "\n",
        "Se caracterizan por:\n",
        "\n",
        "* Tienen orden.\n",
        "* Pueden contener elementos de distintos tipos.\n",
        "* Son mutables, es decir, pueden alterarse durante la ejecución de un programa."
      ]
    },
    {
      "cell_type": "code",
      "execution_count": null,
      "metadata": {
        "id": "dsPP5bYiiN30",
        "colab": {
          "base_uri": "https://localhost:8080/"
        },
        "outputId": "b44a78e9-2942-497d-d954-5b0d785e70ea"
      },
      "outputs": [
        {
          "output_type": "execute_result",
          "data": {
            "text/plain": [
              "list"
            ]
          },
          "metadata": {},
          "execution_count": 1
        }
      ],
      "source": [
        "type([])"
      ]
    },
    {
      "cell_type": "code",
      "source": [
        "cadena=\"\""
      ],
      "metadata": {
        "id": "xjs8N35ThWA5"
      },
      "execution_count": null,
      "outputs": []
    },
    {
      "cell_type": "code",
      "source": [
        "lista=[]"
      ],
      "metadata": {
        "id": "5Sfii6luhTVM"
      },
      "execution_count": null,
      "outputs": []
    },
    {
      "cell_type": "code",
      "execution_count": null,
      "metadata": {
        "id": "KOo_EoAliP3M",
        "colab": {
          "base_uri": "https://localhost:8080/"
        },
        "outputId": "334367eb-4bb8-4836-d3ee-6fc324cf49f0"
      },
      "outputs": [
        {
          "output_type": "execute_result",
          "data": {
            "text/plain": [
              "[1, 'dos', True]"
            ]
          },
          "metadata": {},
          "execution_count": 3
        }
      ],
      "source": [
        "lista=[1, \"dos\", True]\n",
        "lista"
      ]
    },
    {
      "cell_type": "code",
      "execution_count": null,
      "metadata": {
        "id": "gnbT-la-iR8h",
        "colab": {
          "base_uri": "https://localhost:8080/"
        },
        "outputId": "3809f830-351b-4369-f181-2a4f49d4b86c"
      },
      "outputs": [
        {
          "output_type": "execute_result",
          "data": {
            "text/plain": [
              "[1, [2, 3], 4]"
            ]
          },
          "metadata": {},
          "execution_count": 4
        }
      ],
      "source": [
        "[1, [2, 3], 4]"
      ]
    },
    {
      "cell_type": "markdown",
      "metadata": {
        "id": "aHND6JAbiX0s"
      },
      "source": [
        "## Creación de listas mediante la función list()\n",
        "Otra forma de crear listas es mediante la función **list()**.\n",
        "\n",
        "list(c) : Crea una lista con los elementos de la secuencia o colección c.\n",
        "Se pueden indicar los elementos separados por comas, mediante una cadena, o mediante una colección de elementos iterable."
      ]
    },
    {
      "cell_type": "code",
      "execution_count": null,
      "metadata": {
        "id": "olA2t-dEievL",
        "colab": {
          "base_uri": "https://localhost:8080/"
        },
        "outputId": "e55b4faa-ddf4-4e20-bdb8-3374a19b14d2"
      },
      "outputs": [
        {
          "output_type": "execute_result",
          "data": {
            "text/plain": [
              "[]"
            ]
          },
          "metadata": {},
          "execution_count": 5
        }
      ],
      "source": [
        "list( )"
      ]
    },
    {
      "cell_type": "code",
      "execution_count": null,
      "metadata": {
        "id": "XvUxMMCyie8B",
        "colab": {
          "base_uri": "https://localhost:8080/"
        },
        "outputId": "1946311a-5b9c-4448-f733-6ae6ed0a85ba"
      },
      "outputs": [
        {
          "output_type": "execute_result",
          "data": {
            "text/plain": [
              "['P', 'y', 't', 'h', 'o', 'n']"
            ]
          },
          "metadata": {},
          "execution_count": 6
        }
      ],
      "source": [
        "list(\"Python\")"
      ]
    },
    {
      "cell_type": "markdown",
      "metadata": {
        "id": "zQjkk4IFimyL"
      },
      "source": [
        "## Acceso a los elementos de una lista\n",
        "Se utilizan los mismos operadores de acceso que para cadenas de caracteres.\n",
        "\n",
        "* l[i] : Devuelve el elemento de la lista l con el índice i.\n",
        " El índice del primer elemento de la lista es 0."
      ]
    },
    {
      "cell_type": "code",
      "execution_count": null,
      "metadata": {
        "id": "BKXIAZIHisux"
      },
      "outputs": [],
      "source": [
        "a = ['P', 'y', 't', 'h', 'o', 'n']"
      ]
    },
    {
      "cell_type": "code",
      "execution_count": null,
      "metadata": {
        "id": "6dTp4pMxiuD8",
        "colab": {
          "base_uri": "https://localhost:8080/",
          "height": 36
        },
        "outputId": "1d8bba66-3ccf-44d1-e222-21827df5b2b7"
      },
      "outputs": [
        {
          "output_type": "execute_result",
          "data": {
            "text/plain": [
              "'P'"
            ],
            "application/vnd.google.colaboratory.intrinsic+json": {
              "type": "string"
            }
          },
          "metadata": {},
          "execution_count": 9
        }
      ],
      "source": [
        "a[0]"
      ]
    },
    {
      "cell_type": "code",
      "execution_count": null,
      "metadata": {
        "id": "Mp4u26zDixc-",
        "colab": {
          "base_uri": "https://localhost:8080/",
          "height": 36
        },
        "outputId": "c6bfd733-3607-4b98-c675-099fa5d9a9e7"
      },
      "outputs": [
        {
          "output_type": "execute_result",
          "data": {
            "text/plain": [
              "'n'"
            ],
            "application/vnd.google.colaboratory.intrinsic+json": {
              "type": "string"
            }
          },
          "metadata": {},
          "execution_count": 10
        }
      ],
      "source": [
        "a[5]"
      ]
    },
    {
      "cell_type": "code",
      "execution_count": null,
      "metadata": {
        "id": "YgXnDVb6izd_",
        "colab": {
          "base_uri": "https://localhost:8080/",
          "height": 181
        },
        "outputId": "30a2c837-8e46-4024-e3f4-4aa8b9f0d2fa"
      },
      "outputs": [
        {
          "output_type": "error",
          "ename": "IndexError",
          "evalue": "ignored",
          "traceback": [
            "\u001b[0;31m---------------------------------------------------------------------------\u001b[0m",
            "\u001b[0;31mIndexError\u001b[0m                                Traceback (most recent call last)",
            "\u001b[0;32m<ipython-input-11-84c1e027215d>\u001b[0m in \u001b[0;36m<cell line: 1>\u001b[0;34m()\u001b[0m\n\u001b[0;32m----> 1\u001b[0;31m \u001b[0ma\u001b[0m\u001b[0;34m[\u001b[0m\u001b[0;36m6\u001b[0m\u001b[0;34m]\u001b[0m\u001b[0;34m\u001b[0m\u001b[0;34m\u001b[0m\u001b[0m\n\u001b[0m",
            "\u001b[0;31mIndexError\u001b[0m: list index out of range"
          ]
        }
      ],
      "source": [
        "a[6]"
      ]
    },
    {
      "cell_type": "code",
      "source": [
        "a[-2]"
      ],
      "metadata": {
        "colab": {
          "base_uri": "https://localhost:8080/",
          "height": 36
        },
        "id": "ZS8wbTuViUn1",
        "outputId": "539a23ad-f9fd-4a7d-e4c5-257cd3d6786c"
      },
      "execution_count": null,
      "outputs": [
        {
          "output_type": "execute_result",
          "data": {
            "text/plain": [
              "'o'"
            ],
            "application/vnd.google.colaboratory.intrinsic+json": {
              "type": "string"
            }
          },
          "metadata": {},
          "execution_count": 13
        }
      ]
    },
    {
      "cell_type": "markdown",
      "metadata": {
        "id": "IGTRhVQBi5LU"
      },
      "source": [
        "### Sublistas\n",
        "* l[i:j:k] : Devuelve la sublista desde el elemento de l con el índice i hasta el elemento anterior al índice j, tomando elementos cada k."
      ]
    },
    {
      "cell_type": "code",
      "execution_count": null,
      "metadata": {
        "id": "DbeGghtOi9p_"
      },
      "outputs": [],
      "source": [
        "a = ['P', 'y', 't', 'h', 'o', 'n']"
      ]
    },
    {
      "cell_type": "code",
      "execution_count": null,
      "metadata": {
        "id": "6yzrI-yWi_0I",
        "colab": {
          "base_uri": "https://localhost:8080/"
        },
        "outputId": "4a61ea2f-68a5-47f3-eaea-672af440d60b"
      },
      "outputs": [
        {
          "output_type": "execute_result",
          "data": {
            "text/plain": [
              "['y', 't', 'h']"
            ]
          },
          "metadata": {},
          "execution_count": 15
        }
      ],
      "source": [
        "a[1:4]"
      ]
    },
    {
      "cell_type": "code",
      "execution_count": null,
      "metadata": {
        "id": "jL-i9L_ijBwX",
        "colab": {
          "base_uri": "https://localhost:8080/"
        },
        "outputId": "0f06bf77-6ca1-4d82-e3cc-544848e83463"
      },
      "outputs": [
        {
          "output_type": "execute_result",
          "data": {
            "text/plain": [
              "[]"
            ]
          },
          "metadata": {},
          "execution_count": 16
        }
      ],
      "source": [
        "a[1:1]"
      ]
    },
    {
      "cell_type": "code",
      "execution_count": null,
      "metadata": {
        "id": "AnIJiJcEjDBX",
        "colab": {
          "base_uri": "https://localhost:8080/"
        },
        "outputId": "0d1eb8ec-55fd-4c10-b090-4ba6cee47456"
      },
      "outputs": [
        {
          "output_type": "execute_result",
          "data": {
            "text/plain": [
              "['P', 'y', 't']"
            ]
          },
          "metadata": {},
          "execution_count": 17
        }
      ],
      "source": [
        "a[:-3]"
      ]
    },
    {
      "cell_type": "code",
      "execution_count": null,
      "metadata": {
        "id": "9lV6LkO2jFiP",
        "colab": {
          "base_uri": "https://localhost:8080/"
        },
        "outputId": "ad4ae349-60f8-4f19-dd30-53b2e5c62869"
      },
      "outputs": [
        {
          "output_type": "execute_result",
          "data": {
            "text/plain": [
              "['P', 'y', 't', 'h', 'o', 'n']"
            ]
          },
          "metadata": {},
          "execution_count": 18
        }
      ],
      "source": [
        "a[:]"
      ]
    },
    {
      "cell_type": "code",
      "execution_count": null,
      "metadata": {
        "id": "lfmndYQvjHri",
        "colab": {
          "base_uri": "https://localhost:8080/"
        },
        "outputId": "3fb270d1-b9d1-483b-abf0-7d6b4f01c269"
      },
      "outputs": [
        {
          "output_type": "execute_result",
          "data": {
            "text/plain": [
              "['P', 't', 'o']"
            ]
          },
          "metadata": {},
          "execution_count": 19
        }
      ],
      "source": [
        "a[0:6:2]"
      ]
    },
    {
      "cell_type": "code",
      "source": [
        "lista=[ 43,\"asd\",[\"mundo\",-5],\"hola\",[[],\"!\"]]"
      ],
      "metadata": {
        "id": "8_4rgs9kj3Gq"
      },
      "execution_count": null,
      "outputs": []
    },
    {
      "cell_type": "code",
      "source": [
        "lista[3]"
      ],
      "metadata": {
        "colab": {
          "base_uri": "https://localhost:8080/",
          "height": 36
        },
        "id": "lZx7Di8UkmKX",
        "outputId": "6404b6e5-c6aa-4126-fdc3-0dba7c415bd1"
      },
      "execution_count": null,
      "outputs": [
        {
          "output_type": "execute_result",
          "data": {
            "text/plain": [
              "'hola'"
            ],
            "application/vnd.google.colaboratory.intrinsic+json": {
              "type": "string"
            }
          },
          "metadata": {},
          "execution_count": 25
        }
      ]
    },
    {
      "cell_type": "code",
      "source": [
        "lista[2][0]"
      ],
      "metadata": {
        "colab": {
          "base_uri": "https://localhost:8080/",
          "height": 36
        },
        "id": "G1lw3USLksaI",
        "outputId": "f06a5fda-e6c5-4cac-88f8-462b846e522b"
      },
      "execution_count": null,
      "outputs": [
        {
          "output_type": "execute_result",
          "data": {
            "text/plain": [
              "'mundo'"
            ],
            "application/vnd.google.colaboratory.intrinsic+json": {
              "type": "string"
            }
          },
          "metadata": {},
          "execution_count": 27
        }
      ]
    },
    {
      "cell_type": "code",
      "source": [
        "lista[4][1]"
      ],
      "metadata": {
        "colab": {
          "base_uri": "https://localhost:8080/",
          "height": 36
        },
        "id": "ukOR7ZEBkwxq",
        "outputId": "6fd1aa33-ddd7-4d2b-b166-2c6287a710f1"
      },
      "execution_count": null,
      "outputs": [
        {
          "output_type": "execute_result",
          "data": {
            "text/plain": [
              "'!'"
            ],
            "application/vnd.google.colaboratory.intrinsic+json": {
              "type": "string"
            }
          },
          "metadata": {},
          "execution_count": 30
        }
      ]
    },
    {
      "cell_type": "code",
      "source": [
        "lista[3] +\" \"+lista[2][0]+lista[4][1]"
      ],
      "metadata": {
        "colab": {
          "base_uri": "https://localhost:8080/",
          "height": 36
        },
        "id": "jG73ZePFk-QG",
        "outputId": "3545c590-4cc4-4c71-e801-050d5697755b"
      },
      "execution_count": null,
      "outputs": [
        {
          "output_type": "execute_result",
          "data": {
            "text/plain": [
              "'hola mundo!'"
            ],
            "application/vnd.google.colaboratory.intrinsic+json": {
              "type": "string"
            }
          },
          "metadata": {},
          "execution_count": 31
        }
      ]
    },
    {
      "cell_type": "markdown",
      "metadata": {
        "id": "STbHzBiLjLVl"
      },
      "source": [
        "## Operaciones que no modifican una lista\n",
        "* len(l) : Devuelve el número de elementos de la lista l.\n",
        "* min(l) : Devuelve el mínimo elemento de la lista l siempre que los datos sean comparables.\n",
        "* max(l) : Devuelve el máximo elemento de la lista l * siempre que los datos sean comparables.\n",
        "* sum(l) : Devuelve la suma de los elementos de la lista l, siempre que los datos se puedan sumar.\n",
        "* dato in l : Devuelve True si el dato dato pertenece a la lista l y False en caso contrario.\n",
        "* l.index(dato) : Devuelve la posición que ocupa en la lista l el primer elemento con valor dato.\n",
        "* l.count(dato) : Devuelve el número de veces que el valor dato está contenido en la lista l.\n",
        "* all(l) : Devuelve True si todos los elementos de la lista l son True y False en caso contrario.\n",
        "* any(l) : Devuelve True si algún elemento de la lista l es True y False en caso contrario."
      ]
    },
    {
      "cell_type": "code",
      "execution_count": null,
      "metadata": {
        "id": "kqxS-5Wsjdt5"
      },
      "outputs": [],
      "source": [
        "a = [1, 2, 2, 3]"
      ]
    },
    {
      "cell_type": "code",
      "execution_count": null,
      "metadata": {
        "id": "6V1L8KXCjg_c",
        "colab": {
          "base_uri": "https://localhost:8080/"
        },
        "outputId": "9b90ebc9-7f93-412c-e2d8-5956a127b2b9"
      },
      "outputs": [
        {
          "output_type": "execute_result",
          "data": {
            "text/plain": [
              "4"
            ]
          },
          "metadata": {},
          "execution_count": 34
        }
      ],
      "source": [
        "longitud=len(a)\n",
        "longitud"
      ]
    },
    {
      "cell_type": "code",
      "execution_count": null,
      "metadata": {
        "id": "eXcWzp-UjirK",
        "colab": {
          "base_uri": "https://localhost:8080/"
        },
        "outputId": "789648e9-2a21-4817-cb65-957842bd8e70"
      },
      "outputs": [
        {
          "output_type": "execute_result",
          "data": {
            "text/plain": [
              "1"
            ]
          },
          "metadata": {},
          "execution_count": 35
        }
      ],
      "source": [
        "min(a)"
      ]
    },
    {
      "cell_type": "code",
      "execution_count": null,
      "metadata": {
        "id": "8gxmFxWXjj7V",
        "colab": {
          "base_uri": "https://localhost:8080/"
        },
        "outputId": "599e40ba-d023-43f5-a30c-95aeb37aab5f"
      },
      "outputs": [
        {
          "output_type": "execute_result",
          "data": {
            "text/plain": [
              "3"
            ]
          },
          "metadata": {},
          "execution_count": 36
        }
      ],
      "source": [
        "max(a)"
      ]
    },
    {
      "cell_type": "code",
      "execution_count": null,
      "metadata": {
        "id": "m3cmlpmXjmtS",
        "colab": {
          "base_uri": "https://localhost:8080/"
        },
        "outputId": "d7ee5f59-baa3-4763-a966-75142a85fbec"
      },
      "outputs": [
        {
          "output_type": "execute_result",
          "data": {
            "text/plain": [
              "8"
            ]
          },
          "metadata": {},
          "execution_count": 37
        }
      ],
      "source": [
        "sum(a)"
      ]
    },
    {
      "cell_type": "code",
      "execution_count": null,
      "metadata": {
        "id": "XnmGwXcxjpfK",
        "colab": {
          "base_uri": "https://localhost:8080/"
        },
        "outputId": "47838937-aab6-40fa-98e3-858664aa217d"
      },
      "outputs": [
        {
          "output_type": "execute_result",
          "data": {
            "text/plain": [
              "1"
            ]
          },
          "metadata": {},
          "execution_count": 38
        }
      ],
      "source": [
        "a.index(2)"
      ]
    },
    {
      "cell_type": "code",
      "source": [
        "a.index(1)"
      ],
      "metadata": {
        "colab": {
          "base_uri": "https://localhost:8080/"
        },
        "id": "EZ-AScq0lqrJ",
        "outputId": "5ca4f758-a250-42e8-d433-26092d3472b8"
      },
      "execution_count": null,
      "outputs": [
        {
          "output_type": "execute_result",
          "data": {
            "text/plain": [
              "0"
            ]
          },
          "metadata": {},
          "execution_count": 40
        }
      ]
    },
    {
      "cell_type": "code",
      "source": [
        "a.index(4)"
      ],
      "metadata": {
        "colab": {
          "base_uri": "https://localhost:8080/",
          "height": 181
        },
        "id": "qoiZTyC5l0xK",
        "outputId": "945ba964-77a0-4517-f304-10598af4422e"
      },
      "execution_count": null,
      "outputs": [
        {
          "output_type": "error",
          "ename": "ValueError",
          "evalue": "ignored",
          "traceback": [
            "\u001b[0;31m---------------------------------------------------------------------------\u001b[0m",
            "\u001b[0;31mValueError\u001b[0m                                Traceback (most recent call last)",
            "\u001b[0;32m<ipython-input-41-bca86892130e>\u001b[0m in \u001b[0;36m<cell line: 1>\u001b[0;34m()\u001b[0m\n\u001b[0;32m----> 1\u001b[0;31m \u001b[0ma\u001b[0m\u001b[0;34m.\u001b[0m\u001b[0mindex\u001b[0m\u001b[0;34m(\u001b[0m\u001b[0;36m4\u001b[0m\u001b[0;34m)\u001b[0m\u001b[0;34m\u001b[0m\u001b[0;34m\u001b[0m\u001b[0m\n\u001b[0m",
            "\u001b[0;31mValueError\u001b[0m: 4 is not in list"
          ]
        }
      ]
    },
    {
      "cell_type": "code",
      "execution_count": null,
      "metadata": {
        "id": "kcdDit6mjr3w",
        "colab": {
          "base_uri": "https://localhost:8080/"
        },
        "outputId": "a5f74aab-da87-4b3f-c137-475db4660b32"
      },
      "outputs": [
        {
          "output_type": "execute_result",
          "data": {
            "text/plain": [
              "2"
            ]
          },
          "metadata": {},
          "execution_count": 42
        }
      ],
      "source": [
        "a.count(2)"
      ]
    },
    {
      "cell_type": "code",
      "execution_count": null,
      "metadata": {
        "id": "jmIU2FCsdzS_"
      },
      "outputs": [],
      "source": []
    },
    {
      "cell_type": "markdown",
      "metadata": {
        "id": "5SwGm9MMjhPL"
      },
      "source": [
        "## Operaciones que modifican una lista\n",
        "* l1 + l2 : Crea una nueva lista concatenan los elementos de la listas l1 y l2.\n",
        "* l.append(dato) : Añade dato al final de la lista l.\n",
        "* l.extend(sequencia) : Añade los datos de sequencia al final de la lista l.\n",
        "* l.insert(índice, dato) : Inserta dato en la posición índice de la lista l y desplaza los elementos una posición a partir de la posición índice.\n",
        "* l.remove(dato) : Elimina el primer elemento con valor dato en la lista l y desplaza los que están por detrás de él una posición hacia delante.\n",
        "* l.pop([índice]) : Devuelve el dato en la posición índice y lo elimina de la lista l, desplazando los elementos por detrás de él una posición hacia delante.\n",
        "* l.sort() : Ordena los elementos de la lista l de acuerdo al orden predefinido, siempre que los elementos sean comparables.\n",
        "* l.reverse() : invierte el orden de los elementos de la lista l."
      ]
    },
    {
      "cell_type": "code",
      "execution_count": null,
      "metadata": {
        "id": "YEpdRdkfjm8e"
      },
      "outputs": [],
      "source": [
        "a = [1, 3]\n",
        "b = [2 , 4, 6]"
      ]
    },
    {
      "cell_type": "code",
      "source": [
        "a+b"
      ],
      "metadata": {
        "colab": {
          "base_uri": "https://localhost:8080/"
        },
        "id": "fymwjW7WmMas",
        "outputId": "f507abe1-7d7b-4d2a-a25d-4e156b442d83"
      },
      "execution_count": null,
      "outputs": [
        {
          "output_type": "execute_result",
          "data": {
            "text/plain": [
              "[1, 3, 2, 4, 6]"
            ]
          },
          "metadata": {},
          "execution_count": 44
        }
      ]
    },
    {
      "cell_type": "code",
      "execution_count": null,
      "metadata": {
        "id": "mLAyiLYZjr5W",
        "colab": {
          "base_uri": "https://localhost:8080/"
        },
        "outputId": "1b1bb2bc-dc76-44bd-cb52-0af1cdaf898d"
      },
      "outputs": [
        {
          "output_type": "execute_result",
          "data": {
            "text/plain": [
              "[1, 3, 5]"
            ]
          },
          "metadata": {},
          "execution_count": 45
        }
      ],
      "source": [
        "a.append(5)\n",
        "a"
      ]
    },
    {
      "cell_type": "code",
      "execution_count": null,
      "metadata": {
        "id": "eMpn8t7Zjtxp",
        "colab": {
          "base_uri": "https://localhost:8080/"
        },
        "outputId": "d6a57010-f214-40f4-86f8-d81ef3a5a2cc"
      },
      "outputs": [
        {
          "output_type": "execute_result",
          "data": {
            "text/plain": [
              "[1, 5]"
            ]
          },
          "metadata": {},
          "execution_count": 46
        }
      ],
      "source": [
        "a.remove(3)\n",
        "a"
      ]
    },
    {
      "cell_type": "code",
      "source": [
        "lista1=[4,\"hs\",5,[],4,-1]\n",
        "lista1.remove(4)\n",
        "lista1\n"
      ],
      "metadata": {
        "colab": {
          "base_uri": "https://localhost:8080/"
        },
        "id": "41iX_WbbmuRw",
        "outputId": "bed5e472-f06f-4ef3-89a6-b6b568593f4a"
      },
      "execution_count": null,
      "outputs": [
        {
          "output_type": "execute_result",
          "data": {
            "text/plain": [
              "['hs', 5, [], 4, -1]"
            ]
          },
          "metadata": {},
          "execution_count": 47
        }
      ]
    },
    {
      "cell_type": "code",
      "source": [
        "a"
      ],
      "metadata": {
        "colab": {
          "base_uri": "https://localhost:8080/"
        },
        "id": "sBGXaky_nRnb",
        "outputId": "c54bd53f-955a-4d6f-b2cd-0f4905d0054e"
      },
      "execution_count": null,
      "outputs": [
        {
          "output_type": "execute_result",
          "data": {
            "text/plain": [
              "[1, 5]"
            ]
          },
          "metadata": {},
          "execution_count": 48
        }
      ]
    },
    {
      "cell_type": "code",
      "execution_count": null,
      "metadata": {
        "id": "1wELdShGjwpz",
        "colab": {
          "base_uri": "https://localhost:8080/"
        },
        "outputId": "b67d1a1d-84d0-48c3-c3d5-eed627de8dca"
      },
      "outputs": [
        {
          "output_type": "execute_result",
          "data": {
            "text/plain": [
              "[1, 3, 5]"
            ]
          },
          "metadata": {},
          "execution_count": 49
        }
      ],
      "source": [
        "a.insert(1, 3)\n",
        "a"
      ]
    },
    {
      "cell_type": "code",
      "execution_count": null,
      "metadata": {
        "id": "FdgNFf0oj0I6",
        "colab": {
          "base_uri": "https://localhost:8080/"
        },
        "outputId": "f2eeb64c-daaf-435f-aea4-45f27e232bb3"
      },
      "outputs": [
        {
          "output_type": "execute_result",
          "data": {
            "text/plain": [
              "[1, 3, 2, 4, 6]"
            ]
          },
          "metadata": {},
          "execution_count": 2
        }
      ],
      "source": [
        "c = a + b\n",
        "c"
      ]
    },
    {
      "cell_type": "code",
      "execution_count": null,
      "metadata": {
        "id": "Ed9blB6Qj3Rs",
        "colab": {
          "base_uri": "https://localhost:8080/"
        },
        "outputId": "3e148a98-ab7f-48f0-a49b-c4edd1c1b5fb"
      },
      "outputs": [
        {
          "output_type": "execute_result",
          "data": {
            "text/plain": [
              "[1, 2, 3, 4, 6]"
            ]
          },
          "metadata": {},
          "execution_count": 3
        }
      ],
      "source": [
        "c.sort()\n",
        "c"
      ]
    },
    {
      "cell_type": "code",
      "execution_count": null,
      "metadata": {
        "id": "qM8OWyOej596",
        "colab": {
          "base_uri": "https://localhost:8080/"
        },
        "outputId": "29d119d9-8eb3-48f4-bf08-dd16e163df5c"
      },
      "outputs": [
        {
          "output_type": "execute_result",
          "data": {
            "text/plain": [
              "[6, 4, 3, 2, 1]"
            ]
          },
          "metadata": {},
          "execution_count": 4
        }
      ],
      "source": [
        "c.reverse()\n",
        "c"
      ]
    },
    {
      "cell_type": "code",
      "source": [
        "d=[4,\"s\",[3,4]]\n",
        "d.reverse()\n",
        "d"
      ],
      "metadata": {
        "colab": {
          "base_uri": "https://localhost:8080/"
        },
        "id": "zlnRFMO2ZSqt",
        "outputId": "9a31886e-bf65-4c68-e047-5208036d81e0"
      },
      "execution_count": null,
      "outputs": [
        {
          "output_type": "execute_result",
          "data": {
            "text/plain": [
              "[[3, 4], 's', 4]"
            ]
          },
          "metadata": {},
          "execution_count": 6
        }
      ]
    },
    {
      "cell_type": "code",
      "source": [
        "b"
      ],
      "metadata": {
        "colab": {
          "base_uri": "https://localhost:8080/"
        },
        "id": "kdnPnQvDZdOg",
        "outputId": "b3b6274d-02bf-4b10-c67d-fa4d238c2e5d"
      },
      "execution_count": null,
      "outputs": [
        {
          "output_type": "execute_result",
          "data": {
            "text/plain": [
              "[2, 4, 6]"
            ]
          },
          "metadata": {},
          "execution_count": 7
        }
      ]
    },
    {
      "cell_type": "code",
      "source": [
        "a"
      ],
      "metadata": {
        "colab": {
          "base_uri": "https://localhost:8080/"
        },
        "id": "iF58LHEBZecB",
        "outputId": "117f9831-ccca-4f84-d615-4ec7c6696c8c"
      },
      "execution_count": null,
      "outputs": [
        {
          "output_type": "execute_result",
          "data": {
            "text/plain": [
              "[1, 3]"
            ]
          },
          "metadata": {},
          "execution_count": 8
        }
      ]
    },
    {
      "cell_type": "code",
      "source": [
        "a.extend(b)"
      ],
      "metadata": {
        "id": "pR30h8IRn7MH"
      },
      "execution_count": null,
      "outputs": []
    },
    {
      "cell_type": "code",
      "source": [
        "a"
      ],
      "metadata": {
        "colab": {
          "base_uri": "https://localhost:8080/"
        },
        "id": "79vI0_YioCbf",
        "outputId": "181fb48e-e454-4c69-a4ec-e81f47bc967c"
      },
      "execution_count": null,
      "outputs": [
        {
          "output_type": "execute_result",
          "data": {
            "text/plain": [
              "[1, 3, 2, 4, 6]"
            ]
          },
          "metadata": {},
          "execution_count": 10
        }
      ]
    },
    {
      "cell_type": "code",
      "source": [
        "a.pop()"
      ],
      "metadata": {
        "colab": {
          "base_uri": "https://localhost:8080/"
        },
        "id": "IWFxk7wWZlKz",
        "outputId": "bf07d57d-0ec8-4386-bc36-bfae220843fc"
      },
      "execution_count": null,
      "outputs": [
        {
          "output_type": "execute_result",
          "data": {
            "text/plain": [
              "6"
            ]
          },
          "metadata": {},
          "execution_count": 11
        }
      ]
    },
    {
      "cell_type": "code",
      "source": [
        "a"
      ],
      "metadata": {
        "colab": {
          "base_uri": "https://localhost:8080/"
        },
        "id": "qqHKe-bqZrJ1",
        "outputId": "f23fcda1-ed9a-420a-e4ef-4b026cff1433"
      },
      "execution_count": null,
      "outputs": [
        {
          "output_type": "execute_result",
          "data": {
            "text/plain": [
              "[1, 3, 2, 4]"
            ]
          },
          "metadata": {},
          "execution_count": 12
        }
      ]
    },
    {
      "cell_type": "code",
      "source": [
        "x=a.pop(1)\n",
        "print(x)\n",
        "print(a)"
      ],
      "metadata": {
        "colab": {
          "base_uri": "https://localhost:8080/"
        },
        "id": "L9CcOORVZ8SV",
        "outputId": "8df3a617-6e2a-484c-99af-7d96f1dcaa70"
      },
      "execution_count": null,
      "outputs": [
        {
          "output_type": "stream",
          "name": "stdout",
          "text": [
            "3\n",
            "[1, 2, 4]\n"
          ]
        }
      ]
    },
    {
      "cell_type": "markdown",
      "metadata": {
        "id": "LKR6vK29dzoZ"
      },
      "source": [
        "# Copia de listas\n",
        "Existen dos formas de copiar listas:\n",
        "\n",
        "* Copia por referencia l1 = l2: Asocia la la variable l1 la misma lista que tiene asociada la variable l2, es decir, ambas variables apuntan a la misma dirección de memoria. Cualquier cambio que hagamos a través de l1 o l2 afectará a la misma lista.\n",
        "\n",
        "* Copia por valor l1 = list(l2): Crea una copia de la lista asociada a l2 en una dirección de memoria diferente y se la asocia a l1. Las variables apuntan a direcciones de memoria diferentes que contienen los mismos datos. Cualquier cambio que hagamos a través de l1 no afectará a la lista de l2 y viceversa."
      ]
    },
    {
      "cell_type": "code",
      "execution_count": null,
      "metadata": {
        "id": "ojp8SprWd5o-"
      },
      "outputs": [],
      "source": [
        "# Copiar referencia\n",
        "a = [1, 2, 3]"
      ]
    },
    {
      "cell_type": "code",
      "execution_count": null,
      "metadata": {
        "id": "07FslmR1d5r1"
      },
      "outputs": [],
      "source": [
        "b = a"
      ]
    },
    {
      "cell_type": "code",
      "execution_count": null,
      "metadata": {
        "id": "oyjUmj8Bd-sp",
        "colab": {
          "base_uri": "https://localhost:8080/"
        },
        "outputId": "d5a07d47-ed27-442f-9472-aa6038b769ac"
      },
      "outputs": [
        {
          "output_type": "stream",
          "name": "stdout",
          "text": [
            "[1, 2, 3]\n",
            "[1, 2, 3]\n"
          ]
        }
      ],
      "source": [
        "print(b)\n",
        "print(a)"
      ]
    },
    {
      "cell_type": "code",
      "execution_count": null,
      "metadata": {
        "id": "ZuvAFfleeBgF",
        "colab": {
          "base_uri": "https://localhost:8080/"
        },
        "outputId": "c80af3e1-ddab-48fe-b625-7467bfe2c160"
      },
      "outputs": [
        {
          "output_type": "execute_result",
          "data": {
            "text/plain": [
              "[1, 3]"
            ]
          },
          "metadata": {},
          "execution_count": 17
        }
      ],
      "source": [
        "b.remove(2)\n",
        "b"
      ]
    },
    {
      "cell_type": "code",
      "execution_count": null,
      "metadata": {
        "id": "LQ6sS1SoeB-T",
        "colab": {
          "base_uri": "https://localhost:8080/"
        },
        "outputId": "bad5294d-e3da-48aa-bd1b-a5ee7cb01dd4"
      },
      "outputs": [
        {
          "output_type": "stream",
          "name": "stdout",
          "text": [
            "[1, 3]\n",
            "[1, 3]\n"
          ]
        }
      ],
      "source": [
        "print(b)\n",
        "print(a)"
      ]
    },
    {
      "cell_type": "code",
      "execution_count": null,
      "metadata": {
        "id": "OYGiZ0EceKQz",
        "colab": {
          "base_uri": "https://localhost:8080/"
        },
        "outputId": "6e307bd1-e152-4e64-e02a-4ebab527a697"
      },
      "outputs": [
        {
          "output_type": "stream",
          "name": "stdout",
          "text": [
            "[1, 2, 3]\n"
          ]
        }
      ],
      "source": [
        "# Copiamos lista\n",
        "# Paso por valor\n",
        "a = [1, 2, 3]\n",
        "b = a.copy()\n",
        "print(b)"
      ]
    },
    {
      "cell_type": "code",
      "execution_count": null,
      "metadata": {
        "id": "eIHPldlTePG7",
        "colab": {
          "base_uri": "https://localhost:8080/"
        },
        "outputId": "3ca941db-8898-4326-e31c-83e8b0834b23"
      },
      "outputs": [
        {
          "output_type": "stream",
          "name": "stdout",
          "text": [
            "[1, 3]\n",
            "[1, 2, 3]\n"
          ]
        }
      ],
      "source": [
        "b.remove(2)\n",
        "print(b)\n",
        "print(a)"
      ]
    },
    {
      "cell_type": "markdown",
      "metadata": {
        "id": "Rg-bog4mg0Gt"
      },
      "source": [
        "# II. Tuplas\n",
        "Una tupla es una secuencias ordenadas de objetos de distintos tipos.\n",
        "\n",
        "Se construyen poniendo los elementos entre paréntesis ( ) separados por comas.\n",
        "\n",
        "Se caracterizan por:\n",
        "\n",
        "* Tienen orden.\n",
        "* Pueden contener elementos de distintos tipos.\n",
        "* Son inmutables, es decir, no pueden alterarse durante  la ejecución de un programa.\n",
        "* Se usan habitualmente para representar colecciones de datos una determinada estructura semántica, como por ejemplo un vector o una matriz."
      ]
    },
    {
      "cell_type": "code",
      "execution_count": null,
      "metadata": {
        "id": "vlzyRlUlg9Z3",
        "colab": {
          "base_uri": "https://localhost:8080/"
        },
        "outputId": "5d1b71a3-69f4-443d-cb2f-388be2d2fe9e"
      },
      "outputs": [
        {
          "output_type": "execute_result",
          "data": {
            "text/plain": [
              "tuple"
            ]
          },
          "metadata": {},
          "execution_count": 61
        }
      ],
      "source": [
        "# Tupla vacía\n",
        "type(())"
      ]
    },
    {
      "cell_type": "code",
      "execution_count": null,
      "metadata": {
        "id": "dCi12NUmhFra",
        "colab": {
          "base_uri": "https://localhost:8080/"
        },
        "outputId": "7c44d6d4-c9d0-488a-8ae1-c41b41ac8529"
      },
      "outputs": [
        {
          "output_type": "execute_result",
          "data": {
            "text/plain": [
              "(1, 'dos', True)"
            ]
          },
          "metadata": {},
          "execution_count": 62
        }
      ],
      "source": [
        "# Tupla con elementos de distintos tipos\n",
        "(1, \"dos\", True)"
      ]
    },
    {
      "cell_type": "markdown",
      "metadata": {
        "id": "jSUi0zIMhMEx"
      },
      "source": [
        "## Creación de tuplas mediante la función tuple()\n",
        "Otra forma de crear tuplas es mediante la función tuple().\n",
        "\n",
        "**tuple(c)** : Crea una tupla con los elementos de la secuencia o colección c.\n",
        "Se pueden indicar los elementos separados por comas, mediante una cadena, o mediante una colección de elementos iterable."
      ]
    },
    {
      "cell_type": "code",
      "execution_count": null,
      "metadata": {
        "id": "UyqS48hchQXf",
        "colab": {
          "base_uri": "https://localhost:8080/"
        },
        "outputId": "134a3739-8e87-4e8e-e702-5f71ce8b2a38"
      },
      "outputs": [
        {
          "output_type": "execute_result",
          "data": {
            "text/plain": [
              "()"
            ]
          },
          "metadata": {},
          "execution_count": 63
        }
      ],
      "source": [
        "tuple( )"
      ]
    },
    {
      "cell_type": "code",
      "execution_count": null,
      "metadata": {
        "id": "Fds_L8NRhSgE",
        "colab": {
          "base_uri": "https://localhost:8080/"
        },
        "outputId": "bb01ddde-3854-43e3-ba18-7d7a4362302d"
      },
      "outputs": [
        {
          "output_type": "execute_result",
          "data": {
            "text/plain": [
              "('P', 'y', 't', 'h', 'o', 'n')"
            ]
          },
          "metadata": {},
          "execution_count": 64
        }
      ],
      "source": [
        "tuple(\"Python\")"
      ]
    },
    {
      "cell_type": "code",
      "execution_count": null,
      "metadata": {
        "id": "4b7hcacVhV3Z",
        "colab": {
          "base_uri": "https://localhost:8080/"
        },
        "outputId": "674c955f-6543-40e3-a0b5-093882881c60"
      },
      "outputs": [
        {
          "output_type": "execute_result",
          "data": {
            "text/plain": [
              "(1, 2, 3)"
            ]
          },
          "metadata": {},
          "execution_count": 65
        }
      ],
      "source": [
        "tuple([1, 2, 3])"
      ]
    },
    {
      "cell_type": "markdown",
      "metadata": {
        "id": "5ddkrVIghbWQ"
      },
      "source": [
        "## Operaciones con tuplas\n",
        "El acceso a los elementos de una tupla se realiza del mismo modo que en las listas. También se pueden obtener subtuplas de la misma manera que las sublistas.\n",
        "\n",
        "Las operaciones de listas que no modifican la lista también son aplicables a las tuplas."
      ]
    },
    {
      "cell_type": "code",
      "execution_count": null,
      "metadata": {
        "id": "dj5ILW1Ehdst"
      },
      "outputs": [],
      "source": [
        "a = (1, 2, 3)"
      ]
    },
    {
      "cell_type": "code",
      "execution_count": null,
      "metadata": {
        "id": "5MjuZos-hgZz",
        "colab": {
          "base_uri": "https://localhost:8080/"
        },
        "outputId": "893880fc-2d4f-4a7b-d08a-1780aa6e9a71"
      },
      "outputs": [
        {
          "output_type": "execute_result",
          "data": {
            "text/plain": [
              "2"
            ]
          },
          "metadata": {},
          "execution_count": 67
        }
      ],
      "source": [
        "a[1]"
      ]
    },
    {
      "cell_type": "code",
      "execution_count": null,
      "metadata": {
        "id": "hLDApBFnhh6V",
        "colab": {
          "base_uri": "https://localhost:8080/"
        },
        "outputId": "b916ba14-be90-4a1f-ae6f-a66f18865962"
      },
      "outputs": [
        {
          "output_type": "execute_result",
          "data": {
            "text/plain": [
              "3"
            ]
          },
          "metadata": {},
          "execution_count": 68
        }
      ],
      "source": [
        "len(a)"
      ]
    },
    {
      "cell_type": "code",
      "execution_count": null,
      "metadata": {
        "id": "6ziJM-G3hkeV",
        "colab": {
          "base_uri": "https://localhost:8080/"
        },
        "outputId": "1517d7f1-5fab-4f4b-eb25-23b708e27cb5"
      },
      "outputs": [
        {
          "output_type": "execute_result",
          "data": {
            "text/plain": [
              "2"
            ]
          },
          "metadata": {},
          "execution_count": 69
        }
      ],
      "source": [
        "a.index(3)"
      ]
    },
    {
      "cell_type": "code",
      "execution_count": null,
      "metadata": {
        "id": "x307F8FThsqf",
        "colab": {
          "base_uri": "https://localhost:8080/"
        },
        "outputId": "28402dac-9671-4beb-9f70-2997ca21f797"
      },
      "outputs": [
        {
          "output_type": "execute_result",
          "data": {
            "text/plain": [
              "(1, 2, 3)"
            ]
          },
          "metadata": {},
          "execution_count": 70
        }
      ],
      "source": [
        "a"
      ]
    },
    {
      "cell_type": "code",
      "source": [
        "b"
      ],
      "metadata": {
        "colab": {
          "base_uri": "https://localhost:8080/"
        },
        "id": "Ba2Kx_s7qsxV",
        "outputId": "1e2b4b70-c591-4bf2-815d-4b98b83189c3"
      },
      "execution_count": null,
      "outputs": [
        {
          "output_type": "execute_result",
          "data": {
            "text/plain": [
              "[1, 3]"
            ]
          },
          "metadata": {},
          "execution_count": 71
        }
      ]
    },
    {
      "cell_type": "code",
      "source": [
        "a+tuple(b)"
      ],
      "metadata": {
        "colab": {
          "base_uri": "https://localhost:8080/"
        },
        "id": "DGD0CdT3quiD",
        "outputId": "7f2dd179-fe40-4570-e590-157729da3dd8"
      },
      "execution_count": null,
      "outputs": [
        {
          "output_type": "execute_result",
          "data": {
            "text/plain": [
              "(1, 2, 3, 1, 3)"
            ]
          },
          "metadata": {},
          "execution_count": 73
        }
      ]
    },
    {
      "cell_type": "markdown",
      "metadata": {
        "id": "PGy37Ej3uLFw"
      },
      "source": [
        "# III. Diccionarios\n",
        "Un diccionario es una colección de pares formados por una clave y un valor asociado a la clave.\n",
        "\n",
        "Se construyen poniendo los pares entre llaves { } separados por comas, y separando la clave del valor con dos puntos :.\n",
        "\n",
        "### Se caracterizan por:\n",
        "\n",
        "No tienen orden.\n",
        "Pueden contener elementos de distintos tipos.\n",
        "Son mutables, es decir, pueden alterarse durante la ejecución de un programa.\n",
        "Las claves son únicas, es decir, no pueden repetirse en un mismo diccionario, y pueden ser de cualquier tipo de datos inmutable."
      ]
    },
    {
      "cell_type": "markdown",
      "source": [
        "Qué es lo buscas? Un significado -> value\n",
        "Qué es lo que tienes? Una palabra -> key\n",
        "\n",
        "par: clave - valor , key - value\n",
        "\n",
        "- \"ábaco\"\n",
        "- \"apartamento\"\n",
        "- \"araña\"\n",
        "- \"astronauta\" : \"persona calificada que viaja al espacio\"\n",
        "- \"azotea\""
      ],
      "metadata": {
        "id": "JGHtzKm5b4W9"
      }
    },
    {
      "cell_type": "code",
      "source": [
        "mini_diccionario={\"ábaco\":\"instrumento matemático\",\"apartamento\":\"vivienda de aprox 30 a 80 m2\",\"araña\":\"animal con 8 patas\",\"astronauta\":\"persona que viaja al espacio\",\"azotea\":\"el techo del ultimo piso de una casa\"}\n",
        "\n",
        "mini_diccionario[\"astronauta\"]"
      ],
      "metadata": {
        "colab": {
          "base_uri": "https://localhost:8080/",
          "height": 36
        },
        "id": "b9lzb0fwb4Aw",
        "outputId": "722cb889-c1f9-4f56-bc5a-38fabb8a3dd3"
      },
      "execution_count": null,
      "outputs": [
        {
          "output_type": "execute_result",
          "data": {
            "text/plain": [
              "'persona que viaja al espacio'"
            ],
            "application/vnd.google.colaboratory.intrinsic+json": {
              "type": "string"
            }
          },
          "metadata": {},
          "execution_count": 20
        }
      ]
    },
    {
      "cell_type": "code",
      "source": [
        "mini_diccionario[\"ábaco\"]"
      ],
      "metadata": {
        "colab": {
          "base_uri": "https://localhost:8080/",
          "height": 36
        },
        "id": "Ar4i8_lwdN9_",
        "outputId": "78cab3e6-391b-4bdd-f3fc-2f63f4d89eb2"
      },
      "execution_count": null,
      "outputs": [
        {
          "output_type": "execute_result",
          "data": {
            "text/plain": [
              "'instrumento matemático'"
            ],
            "application/vnd.google.colaboratory.intrinsic+json": {
              "type": "string"
            }
          },
          "metadata": {},
          "execution_count": 21
        }
      ]
    },
    {
      "cell_type": "code",
      "source": [
        "mini_diccionario[\"casa\"]"
      ],
      "metadata": {
        "colab": {
          "base_uri": "https://localhost:8080/",
          "height": 181
        },
        "id": "mQdnALbgdRhj",
        "outputId": "1bdadb64-1874-4d07-8062-ea65403ad0ef"
      },
      "execution_count": null,
      "outputs": [
        {
          "output_type": "error",
          "ename": "KeyError",
          "evalue": "ignored",
          "traceback": [
            "\u001b[0;31m---------------------------------------------------------------------------\u001b[0m",
            "\u001b[0;31mKeyError\u001b[0m                                  Traceback (most recent call last)",
            "\u001b[0;32m<ipython-input-22-b2583a1090c1>\u001b[0m in \u001b[0;36m<cell line: 1>\u001b[0;34m()\u001b[0m\n\u001b[0;32m----> 1\u001b[0;31m \u001b[0mmini_diccionario\u001b[0m\u001b[0;34m[\u001b[0m\u001b[0;34m\"casa\"\u001b[0m\u001b[0;34m]\u001b[0m\u001b[0;34m\u001b[0m\u001b[0;34m\u001b[0m\u001b[0m\n\u001b[0m",
            "\u001b[0;31mKeyError\u001b[0m: 'casa'"
          ]
        }
      ]
    },
    {
      "cell_type": "code",
      "source": [
        "mini_diccionario[\"casa\"] =\"vivienda de más de 100 m2\"\n",
        "mini_diccionario"
      ],
      "metadata": {
        "colab": {
          "base_uri": "https://localhost:8080/"
        },
        "id": "e1rV3lv5dXXA",
        "outputId": "09965a49-5b49-4b78-e536-99c9eaa7656e"
      },
      "execution_count": null,
      "outputs": [
        {
          "output_type": "execute_result",
          "data": {
            "text/plain": [
              "{'ábaco': 'instrumento matemático',\n",
              " 'apartamento': 'vivienda de aprox 30 a 80 m2',\n",
              " 'araña': 'animal con 8 patas',\n",
              " 'astronauta': 'persona que viaja al espacio',\n",
              " 'azotea': 'el techo del ultimo piso de una casa',\n",
              " 'casa': 'vivienda de más de 100 m2'}"
            ]
          },
          "metadata": {},
          "execution_count": 23
        }
      ]
    },
    {
      "cell_type": "code",
      "source": [
        "mini_diccionario[\"casa\"]"
      ],
      "metadata": {
        "colab": {
          "base_uri": "https://localhost:8080/",
          "height": 36
        },
        "id": "RoMjeaXydfXn",
        "outputId": "7c2e0646-5acd-4a06-d9f1-13c8ad497892"
      },
      "execution_count": null,
      "outputs": [
        {
          "output_type": "execute_result",
          "data": {
            "text/plain": [
              "'vivienda de más de 100 m2'"
            ],
            "application/vnd.google.colaboratory.intrinsic+json": {
              "type": "string"
            }
          },
          "metadata": {},
          "execution_count": 24
        }
      ]
    },
    {
      "cell_type": "code",
      "source": [
        "mini_diccionario[1]=\"es el número 1\"\n",
        "\n",
        "mini_diccionario"
      ],
      "metadata": {
        "colab": {
          "base_uri": "https://localhost:8080/"
        },
        "id": "c_57Nr5Zdhuq",
        "outputId": "738a8366-6fb3-4090-dbe8-b2e2ca87fde0"
      },
      "execution_count": null,
      "outputs": [
        {
          "output_type": "execute_result",
          "data": {
            "text/plain": [
              "{'ábaco': 'instrumento matemático',\n",
              " 'apartamento': 'vivienda de aprox 30 a 80 m2',\n",
              " 'araña': 'animal con 8 patas',\n",
              " 'astronauta': 'persona que viaja al espacio',\n",
              " 'azotea': 'el techo del ultimo piso de una casa',\n",
              " 'casa': 'vivienda de más de 100 m2',\n",
              " 1: 'es el número 1'}"
            ]
          },
          "metadata": {},
          "execution_count": 25
        }
      ]
    },
    {
      "cell_type": "code",
      "source": [
        "mini_diccionario[-4.5]=\"menos cuatro punto cinco\"\n",
        "\n",
        "mini_diccionario"
      ],
      "metadata": {
        "colab": {
          "base_uri": "https://localhost:8080/"
        },
        "id": "THutEx1gdv56",
        "outputId": "6888e88d-6bf9-4cb9-e949-ecabd81a28cd"
      },
      "execution_count": null,
      "outputs": [
        {
          "output_type": "execute_result",
          "data": {
            "text/plain": [
              "{'ábaco': 'instrumento matemático',\n",
              " 'apartamento': 'vivienda de aprox 30 a 80 m2',\n",
              " 'araña': 'animal con 8 patas',\n",
              " 'astronauta': 'persona que viaja al espacio',\n",
              " 'azotea': 'el techo del ultimo piso de una casa',\n",
              " 'casa': 'vivienda de más de 100 m2',\n",
              " 1: 'es el número 1',\n",
              " -4.5: 'menos cuatro punto cinco'}"
            ]
          },
          "metadata": {},
          "execution_count": 26
        }
      ]
    },
    {
      "cell_type": "code",
      "source": [],
      "metadata": {
        "id": "qTlEU-Vmd7nh"
      },
      "execution_count": null,
      "outputs": []
    },
    {
      "cell_type": "code",
      "execution_count": null,
      "metadata": {
        "id": "4NcGHA5IugdJ",
        "colab": {
          "base_uri": "https://localhost:8080/",
          "height": 36
        },
        "outputId": "2970cfcd-ab45-4d45-a9a6-b58d20d3d5f1"
      },
      "outputs": [
        {
          "output_type": "execute_result",
          "data": {
            "text/plain": [
              "'Alfredo'"
            ],
            "application/vnd.google.colaboratory.intrinsic+json": {
              "type": "string"
            }
          },
          "metadata": {},
          "execution_count": 27
        }
      ],
      "source": [
        "# Diccionario con elementos de distintos tipos\n",
        "n1={'nombre':'Alfredo', 'despacho': 218, 'email':'asalber@ceu.es'}\n",
        "n1[\"nombre\"]"
      ]
    },
    {
      "cell_type": "code",
      "source": [],
      "metadata": {
        "id": "D8xFjHtNeD27"
      },
      "execution_count": null,
      "outputs": []
    },
    {
      "cell_type": "code",
      "execution_count": null,
      "metadata": {
        "id": "3Sch1qtsujo2"
      },
      "outputs": [],
      "source": [
        "# Diccionarios anidados\n",
        "{'nombre_completo':{'nombre': 'Alfredo', 'Apellidos': 'Sánchez Alberca'}}"
      ]
    },
    {
      "cell_type": "code",
      "source": [
        "almacen={}\n",
        "\n",
        "for i in range(3):\n",
        "  objeto=input(\"Ingrese el objeto : \")\n",
        "  nc=int(input(\"Cuantas caracteristicas tiene\"))\n",
        "  almacen[objeto]={}\n",
        "  for i in range(nc):\n",
        "    caracteristica=input(\"Qué caracteristica es: \")\n",
        "    valor=input(\"Cual es su valor: \")\n",
        "    almacen[objeto][caracteristica]=valor\n",
        "\n",
        "almacen"
      ],
      "metadata": {
        "colab": {
          "base_uri": "https://localhost:8080/"
        },
        "id": "KdeHROMpeTqU",
        "outputId": "b5e0985f-f7e7-4a98-b667-b812e4b6caad"
      },
      "execution_count": null,
      "outputs": [
        {
          "name": "stdout",
          "output_type": "stream",
          "text": [
            "Ingrese el objeto : mochila\n",
            "Cuantas caracteristicas tiene3\n",
            "Qué caracteristica es: color\n",
            "Cual es su valor: marron\n",
            "Qué caracteristica es: capacidad de carga\n",
            "Cual es su valor: 10 Kg\n",
            "Qué caracteristica es: material\n",
            "Cual es su valor: tela\n",
            "Ingrese el objeto : generador\n",
            "Cuantas caracteristicas tiene2\n",
            "Qué caracteristica es: potencia\n",
            "Cual es su valor: 1 MW\n",
            "Qué caracteristica es: peso\n",
            "Cual es su valor: 200 Kg\n",
            "Ingrese el objeto : bicicleta\n",
            "Cuantas caracteristicas tiene4\n",
            "Qué caracteristica es: color\n",
            "Cual es su valor: azul\n",
            "Qué caracteristica es: tipo\n",
            "Cual es su valor: montañera\n",
            "Qué caracteristica es: tamaño\n",
            "Cual es su valor: L\n",
            "Qué caracteristica es: precio\n",
            "Cual es su valor: 800 usd\n"
          ]
        },
        {
          "output_type": "execute_result",
          "data": {
            "text/plain": [
              "{'mochila': {'color': 'marron',\n",
              "  'capacidad de carga': '10 Kg',\n",
              "  'material': 'tela'},\n",
              " 'generador': {'potencia': '1 MW', 'peso': '200 Kg'},\n",
              " 'bicicleta': {'color': 'azul',\n",
              "  'tipo': 'montañera',\n",
              "  'tamaño': 'L',\n",
              "  'precio': '800 usd'}}"
            ]
          },
          "metadata": {},
          "execution_count": 29
        }
      ]
    },
    {
      "cell_type": "code",
      "source": [
        "almacen[\"mochila\"][\"color\"]"
      ],
      "metadata": {
        "colab": {
          "base_uri": "https://localhost:8080/",
          "height": 36
        },
        "id": "vjs2ez8aeVS4",
        "outputId": "8d0fd91d-7a3a-489f-b4df-1995bfec84dd"
      },
      "execution_count": null,
      "outputs": [
        {
          "output_type": "execute_result",
          "data": {
            "text/plain": [
              "'marron'"
            ],
            "application/vnd.google.colaboratory.intrinsic+json": {
              "type": "string"
            }
          },
          "metadata": {},
          "execution_count": 34
        }
      ]
    },
    {
      "cell_type": "code",
      "source": [
        "almacen[\"mochila\"][\"color\"]=\"negro\"\n",
        "almacen"
      ],
      "metadata": {
        "colab": {
          "base_uri": "https://localhost:8080/"
        },
        "id": "fHHz7deGhBp8",
        "outputId": "695670e4-7158-4163-9f0a-13c5a3c2fa3d"
      },
      "execution_count": null,
      "outputs": [
        {
          "output_type": "execute_result",
          "data": {
            "text/plain": [
              "{'mochila': {'color': 'negro',\n",
              "  'capacidad de carga': '10 Kg',\n",
              "  'material': 'tela'},\n",
              " 'generador': {'potencia': '1 MW', 'peso': '200 Kg'},\n",
              " 'bicicleta': {'color': 'azul',\n",
              "  'tipo': 'montañera',\n",
              "  'tamaño': 'L',\n",
              "  'precio': '800 usd'}}"
            ]
          },
          "metadata": {},
          "execution_count": 35
        }
      ]
    },
    {
      "cell_type": "code",
      "source": [
        "# Nota: la lógica de los diccionarios se usa mucho para data no estructurada\n",
        "# Tambien es análogo al manejo archivos semi-estructurados como los json\n",
        "\n",
        "almacen[\"bicicleta\"][\"peso\"]=\"20 Kg\"\n",
        "almacen"
      ],
      "metadata": {
        "colab": {
          "base_uri": "https://localhost:8080/"
        },
        "id": "3obTvYaPhWYJ",
        "outputId": "99785ed9-7cf9-4f85-83a1-88fa5ee70b92"
      },
      "execution_count": null,
      "outputs": [
        {
          "output_type": "execute_result",
          "data": {
            "text/plain": [
              "{'mochila': {'color': 'negro',\n",
              "  'capacidad de carga': '10 Kg',\n",
              "  'material': 'tela'},\n",
              " 'generador': {'potencia': '1 MW', 'peso': '200 Kg'},\n",
              " 'bicicleta': {'color': 'azul',\n",
              "  'tipo': 'montañera',\n",
              "  'tamaño': 'L',\n",
              "  'precio': '800 usd',\n",
              "  'peso': '20 Kg'}}"
            ]
          },
          "metadata": {},
          "execution_count": 36
        }
      ]
    },
    {
      "cell_type": "code",
      "source": [
        "almacen[\"mochila\"][\"color\"]"
      ],
      "metadata": {
        "colab": {
          "base_uri": "https://localhost:8080/",
          "height": 36
        },
        "id": "BAuBqcAkhgcG",
        "outputId": "e706b736-9e3c-4dc6-aaef-fc6bd7ff6988"
      },
      "execution_count": null,
      "outputs": [
        {
          "output_type": "execute_result",
          "data": {
            "text/plain": [
              "'negro'"
            ],
            "application/vnd.google.colaboratory.intrinsic+json": {
              "type": "string"
            }
          },
          "metadata": {},
          "execution_count": 40
        }
      ]
    },
    {
      "cell_type": "code",
      "source": [
        "claves=almacen.keys()\n",
        "for clave in claves:\n",
        "  print(clave,almacen[clave])"
      ],
      "metadata": {
        "colab": {
          "base_uri": "https://localhost:8080/"
        },
        "id": "gm2Frs86itA_",
        "outputId": "b88b6556-f78a-4899-b10a-f89fe6afd480"
      },
      "execution_count": null,
      "outputs": [
        {
          "output_type": "stream",
          "name": "stdout",
          "text": [
            "mochila {'color': 'negro', 'capacidad de carga': '10 Kg', 'material': 'tela'}\n",
            "generador {'potencia': '1 MW', 'peso': '200 Kg'}\n",
            "bicicleta {'color': 'azul', 'tipo': 'montañera', 'tamaño': 'L', 'precio': '800 usd', 'peso': '20 Kg'}\n"
          ]
        }
      ]
    },
    {
      "cell_type": "code",
      "source": [
        "almacen.values()"
      ],
      "metadata": {
        "colab": {
          "base_uri": "https://localhost:8080/"
        },
        "id": "9SrdovxAi1FU",
        "outputId": "3c221340-0379-4384-9491-ae431184840a"
      },
      "execution_count": null,
      "outputs": [
        {
          "output_type": "execute_result",
          "data": {
            "text/plain": [
              "dict_values([{'color': 'negro', 'capacidad de carga': '10 Kg', 'material': 'tela'}, {'potencia': '1 MW', 'peso': '200 Kg'}, {'color': 'azul', 'tipo': 'montañera', 'tamaño': 'L', 'precio': '800 usd', 'peso': '20 Kg'}])"
            ]
          },
          "metadata": {},
          "execution_count": 45
        }
      ]
    },
    {
      "cell_type": "code",
      "source": [],
      "metadata": {
        "id": "MpfcRtcsi7Y9"
      },
      "execution_count": null,
      "outputs": []
    },
    {
      "cell_type": "markdown",
      "metadata": {
        "id": "xkLighJ_umlj"
      },
      "source": [
        "## Acceso a los elementos de un diccionario\n",
        "* **d[clave]** devuelve el valor del diccionario d asociado a la clave clave. Si en el diccionario no existe esa clave devuelve un error.\n",
        "* **d.get(clave, valor)** devuelve el valor del diccionario d asociado a la clave clave. Si en el diccionario no existe esa clave devuelve valor, y si no se especifica un valor por defecto devuelve None."
      ]
    },
    {
      "cell_type": "code",
      "execution_count": null,
      "metadata": {
        "id": "V6GYnvO1uxF_",
        "colab": {
          "base_uri": "https://localhost:8080/",
          "height": 36
        },
        "outputId": "90eb1fe7-ed7f-4301-8e84-1c3640bf79db"
      },
      "outputs": [
        {
          "output_type": "execute_result",
          "data": {
            "text/plain": [
              "'Alfredo'"
            ],
            "application/vnd.google.colaboratory.intrinsic+json": {
              "type": "string"
            }
          },
          "metadata": {},
          "execution_count": 37
        }
      ],
      "source": [
        "a = {'nombre':'Alfredo', 'despacho': 218, 'email':'asalber@ceu.es'}\n",
        "a['nombre']"
      ]
    },
    {
      "cell_type": "code",
      "execution_count": null,
      "metadata": {
        "id": "0LfBwGd3u0Tr",
        "colab": {
          "base_uri": "https://localhost:8080/"
        },
        "outputId": "cc22a351-fd01-4170-fb19-f72357a4a5bb"
      },
      "outputs": [
        {
          "output_type": "execute_result",
          "data": {
            "text/plain": [
              "{'nombre': 'Alfredo', 'despacho': 210, 'email': 'asalber@ceu.es'}"
            ]
          },
          "metadata": {},
          "execution_count": 38
        }
      ],
      "source": [
        "a['despacho'] = 210\n",
        "a"
      ]
    },
    {
      "cell_type": "code",
      "execution_count": null,
      "metadata": {
        "id": "E3ngNI42u6FD",
        "colab": {
          "base_uri": "https://localhost:8080/",
          "height": 36
        },
        "outputId": "5d835096-155c-4879-8c0c-6c90560506de"
      },
      "outputs": [
        {
          "output_type": "execute_result",
          "data": {
            "text/plain": [
              "'asalber@ceu.es'"
            ],
            "application/vnd.google.colaboratory.intrinsic+json": {
              "type": "string"
            }
          },
          "metadata": {},
          "execution_count": 46
        }
      ],
      "source": [
        "a.get('email')"
      ]
    },
    {
      "cell_type": "code",
      "source": [
        "a[\"telefono\"]"
      ],
      "metadata": {
        "colab": {
          "base_uri": "https://localhost:8080/",
          "height": 181
        },
        "id": "OOAMXL5aiWMS",
        "outputId": "5e719129-662a-4010-ca82-7ad4053ffb72"
      },
      "execution_count": null,
      "outputs": [
        {
          "output_type": "error",
          "ename": "KeyError",
          "evalue": "ignored",
          "traceback": [
            "\u001b[0;31m---------------------------------------------------------------------------\u001b[0m",
            "\u001b[0;31mKeyError\u001b[0m                                  Traceback (most recent call last)",
            "\u001b[0;32m<ipython-input-47-5ba117e761c3>\u001b[0m in \u001b[0;36m<cell line: 1>\u001b[0;34m()\u001b[0m\n\u001b[0;32m----> 1\u001b[0;31m \u001b[0ma\u001b[0m\u001b[0;34m[\u001b[0m\u001b[0;34m\"telefono\"\u001b[0m\u001b[0;34m]\u001b[0m\u001b[0;34m\u001b[0m\u001b[0;34m\u001b[0m\u001b[0m\n\u001b[0m",
            "\u001b[0;31mKeyError\u001b[0m: 'telefono'"
          ]
        }
      ]
    },
    {
      "cell_type": "code",
      "source": [
        "x=a.get(\"telefono\")\n",
        "type(x)"
      ],
      "metadata": {
        "colab": {
          "base_uri": "https://localhost:8080/"
        },
        "id": "Z64AORDbjO30",
        "outputId": "203d72b1-8fa6-425b-d492-020adac9f611"
      },
      "execution_count": null,
      "outputs": [
        {
          "output_type": "execute_result",
          "data": {
            "text/plain": [
              "NoneType"
            ]
          },
          "metadata": {},
          "execution_count": 50
        }
      ]
    },
    {
      "cell_type": "code",
      "source": [
        "x = a.get(\"telefono\",\"nada o -1\")\n",
        "print(x)"
      ],
      "metadata": {
        "colab": {
          "base_uri": "https://localhost:8080/"
        },
        "id": "TytlzJuljWoe",
        "outputId": "7b2e195b-d1ea-4e8d-8ac2-96df4422d65f"
      },
      "execution_count": null,
      "outputs": [
        {
          "output_type": "stream",
          "name": "stdout",
          "text": [
            "nada o -1\n"
          ]
        }
      ]
    },
    {
      "cell_type": "code",
      "source": [
        "elemento_borrado=a.pop(\"email\")\n",
        "print(elemento_borrado)\n",
        "print(a)"
      ],
      "metadata": {
        "colab": {
          "base_uri": "https://localhost:8080/"
        },
        "id": "1djtxphDjrPf",
        "outputId": "3a0ce9e9-3211-4ff7-936b-b5e7d39408e5"
      },
      "execution_count": null,
      "outputs": [
        {
          "output_type": "stream",
          "name": "stdout",
          "text": [
            "asalber@ceu.es\n",
            "{'nombre': 'Alfredo', 'despacho': 210}\n"
          ]
        }
      ]
    },
    {
      "cell_type": "code",
      "source": [
        "elemento_borrado = a.pop(\"telefono\",\"no existe\")\n",
        "elemento_borrado"
      ],
      "metadata": {
        "colab": {
          "base_uri": "https://localhost:8080/",
          "height": 36
        },
        "id": "sSeNOAHXkE-O",
        "outputId": "a231a793-2634-4f18-f0b9-d2bea15ae997"
      },
      "execution_count": null,
      "outputs": [
        {
          "output_type": "execute_result",
          "data": {
            "text/plain": [
              "'no existe'"
            ],
            "application/vnd.google.colaboratory.intrinsic+json": {
              "type": "string"
            }
          },
          "metadata": {},
          "execution_count": 55
        }
      ]
    },
    {
      "cell_type": "code",
      "source": [
        "del a[\"despacho\"]"
      ],
      "metadata": {
        "id": "Rk0vyPDskYwr"
      },
      "execution_count": null,
      "outputs": []
    },
    {
      "cell_type": "code",
      "source": [
        "a"
      ],
      "metadata": {
        "colab": {
          "base_uri": "https://localhost:8080/"
        },
        "id": "3afpgko9kgO4",
        "outputId": "b096258b-e967-4def-93b7-989aecc589ae"
      },
      "execution_count": null,
      "outputs": [
        {
          "output_type": "execute_result",
          "data": {
            "text/plain": [
              "{'nombre': 'Alfredo'}"
            ]
          },
          "metadata": {},
          "execution_count": 58
        }
      ]
    },
    {
      "cell_type": "markdown",
      "metadata": {
        "id": "7Dcy9zLwvGXd"
      },
      "source": [
        "## Operaciones que no modifican un diccionario\n",
        "* **len(d)** : Devuelve el número de elementos del diccionario d.\n",
        "* **min(d)** : Devuelve la mínima clave del diccionario d siempre que las claves sean comparables.\n",
        "* **max(d)** : Devuelve la máxima clave del diccionario d siempre que las claves sean comparables.\n",
        "* **sum(d)** : Devuelve la suma de las claves del diccionario d, siempre que las claves se puedan sumar.\n",
        "* **clave in d** : Devuelve True si la clave clave pertenece al diccionario d y False en caso contrario.\n",
        "* **d.keys()** : Devuelve un iterador sobre las claves de un diccionario.\n",
        "* **d.values()** : Devuelve un iterador sobre los valores de un diccionario.\n",
        "* **d.items()** : Devuelve un iterador sobre los pares clave-valor de un diccionario."
      ]
    },
    {
      "cell_type": "code",
      "execution_count": null,
      "metadata": {
        "id": "Uz-4g-IXvpk4"
      },
      "outputs": [],
      "source": [
        "a = {'nombre':'Alfredo', 'despacho': 218, 'email':'asalber@ceu.es'}"
      ]
    },
    {
      "cell_type": "code",
      "execution_count": null,
      "metadata": {
        "id": "SsyguRaUvpr5",
        "colab": {
          "base_uri": "https://localhost:8080/"
        },
        "outputId": "b0eee302-7cb9-411d-8300-17c14239f15c"
      },
      "outputs": [
        {
          "output_type": "execute_result",
          "data": {
            "text/plain": [
              "3"
            ]
          },
          "metadata": {},
          "execution_count": 60
        }
      ],
      "source": [
        "len(a)"
      ]
    },
    {
      "cell_type": "code",
      "execution_count": null,
      "metadata": {
        "id": "SZ418aw0vaiw",
        "colab": {
          "base_uri": "https://localhost:8080/",
          "height": 36
        },
        "outputId": "c0a3af2c-f559-493b-e5ac-d11e40b143e3"
      },
      "outputs": [
        {
          "output_type": "execute_result",
          "data": {
            "text/plain": [
              "'despacho'"
            ],
            "application/vnd.google.colaboratory.intrinsic+json": {
              "type": "string"
            }
          },
          "metadata": {},
          "execution_count": 61
        }
      ],
      "source": [
        "min(a)"
      ]
    },
    {
      "cell_type": "code",
      "source": [
        "\"astronauta\" <\"azotea\""
      ],
      "metadata": {
        "colab": {
          "base_uri": "https://localhost:8080/"
        },
        "id": "JS8xjuvTk1PE",
        "outputId": "58e4353d-5de2-45e2-c9b9-05d5e6700c44"
      },
      "execution_count": null,
      "outputs": [
        {
          "output_type": "execute_result",
          "data": {
            "text/plain": [
              "True"
            ]
          },
          "metadata": {},
          "execution_count": 62
        }
      ]
    },
    {
      "cell_type": "code",
      "source": [
        "\"apartamento\" <\"bar\""
      ],
      "metadata": {
        "colab": {
          "base_uri": "https://localhost:8080/"
        },
        "id": "xV4o6bM-lG1i",
        "outputId": "35bac05c-9bf1-4202-897a-33948d8582a8"
      },
      "execution_count": null,
      "outputs": [
        {
          "output_type": "execute_result",
          "data": {
            "text/plain": [
              "True"
            ]
          },
          "metadata": {},
          "execution_count": 63
        }
      ]
    },
    {
      "cell_type": "code",
      "source": [
        "\"esternocleidomastoideo\" < \"pie\""
      ],
      "metadata": {
        "colab": {
          "base_uri": "https://localhost:8080/"
        },
        "id": "uwSJfwRYlNvK",
        "outputId": "6260a8d6-0c35-4193-8706-99039d19cb1b"
      },
      "execution_count": null,
      "outputs": [
        {
          "output_type": "execute_result",
          "data": {
            "text/plain": [
              "True"
            ]
          },
          "metadata": {},
          "execution_count": 64
        }
      ]
    },
    {
      "cell_type": "code",
      "source": [
        "# \"%0123456789abcdefgh\"\n",
        "\" %Abaco\" < \"1abaco\"\n"
      ],
      "metadata": {
        "colab": {
          "base_uri": "https://localhost:8080/"
        },
        "id": "XHMzq1_DldqU",
        "outputId": "85937991-39ea-4af7-dba8-1fab3f3362b3"
      },
      "execution_count": null,
      "outputs": [
        {
          "output_type": "execute_result",
          "data": {
            "text/plain": [
              "True"
            ]
          },
          "metadata": {},
          "execution_count": 73
        }
      ]
    },
    {
      "cell_type": "code",
      "execution_count": null,
      "metadata": {
        "id": "r2GdkZwfvtUT",
        "colab": {
          "base_uri": "https://localhost:8080/"
        },
        "outputId": "0c7c6616-6f35-45a2-8e3e-a9e4cb9bdfaf"
      },
      "outputs": [
        {
          "output_type": "execute_result",
          "data": {
            "text/plain": [
              "True"
            ]
          },
          "metadata": {},
          "execution_count": 75
        }
      ],
      "source": [
        "'email' in a"
      ]
    },
    {
      "cell_type": "code",
      "execution_count": null,
      "metadata": {
        "id": "ruAxrz5Ivvbb",
        "colab": {
          "base_uri": "https://localhost:8080/"
        },
        "outputId": "748ae157-b7bb-4501-c284-de27b069fac7"
      },
      "outputs": [
        {
          "output_type": "execute_result",
          "data": {
            "text/plain": [
              "dict_keys(['nombre', 'despacho', 'email'])"
            ]
          },
          "metadata": {},
          "execution_count": 76
        }
      ],
      "source": [
        "a.keys()"
      ]
    },
    {
      "cell_type": "code",
      "execution_count": null,
      "metadata": {
        "id": "Da2P2gqgvxzg",
        "colab": {
          "base_uri": "https://localhost:8080/"
        },
        "outputId": "e1bfa30a-8852-47ae-e194-82ffbd680d73"
      },
      "outputs": [
        {
          "output_type": "execute_result",
          "data": {
            "text/plain": [
              "dict_values(['Alfredo', 218, 'asalber@ceu.es'])"
            ]
          },
          "metadata": {},
          "execution_count": 77
        }
      ],
      "source": [
        "a.values()"
      ]
    },
    {
      "cell_type": "code",
      "execution_count": null,
      "metadata": {
        "id": "WniQAnYfv0Fi",
        "colab": {
          "base_uri": "https://localhost:8080/"
        },
        "outputId": "7163ec8e-f0f4-41f0-bd36-853e5ace50eb"
      },
      "outputs": [
        {
          "output_type": "execute_result",
          "data": {
            "text/plain": [
              "dict_items([('nombre', 'Alfredo'), ('despacho', 218), ('email', 'asalber@ceu.es')])"
            ]
          },
          "metadata": {},
          "execution_count": 78
        }
      ],
      "source": [
        "a.items()"
      ]
    },
    {
      "cell_type": "markdown",
      "metadata": {
        "id": "CC-06rgdv23q"
      },
      "source": [
        "## Operaciones que modifican un diccionario\n",
        "* **d[clave] = valor** : Añade al diccionario d el par formado por la clave clave y el valor valor.\n",
        "* **d.update(d2)**. Añade los pares del diccionario d2 al diccionario d.\n",
        "* **d.pop(clave, alternativo)** : Devuelve del valor asociado a la clave clave del diccionario d y lo elimina del diccionario. Si la clave no está devuelve el valor alternativo.\n",
        "* **d.popitem()** : Devuelve la tupla formada por la clave y el valor del último par añadido al diccionario d y lo elimina del diccionario.\n",
        "* **del d[clave]** : Elimina del diccionario d el par con la clave clave.\n",
        "* **d.clear()** : Elimina todos los pares del diccionario d de manera que se queda vacío."
      ]
    },
    {
      "cell_type": "code",
      "execution_count": null,
      "metadata": {
        "id": "RnmiO7EbwIUe",
        "colab": {
          "base_uri": "https://localhost:8080/"
        },
        "outputId": "48e65b64-fb85-4a22-946b-8004cf94c4f9"
      },
      "outputs": [
        {
          "output_type": "execute_result",
          "data": {
            "text/plain": [
              "{'nombre': 'Alfredo', 'despacho': 218, 'email': 'asalber@ceu.es'}"
            ]
          },
          "metadata": {},
          "execution_count": 79
        }
      ],
      "source": [
        "a = {'nombre':'Alfredo', 'despacho': 218, 'email':'asalber@ceu.es'}\n",
        "a"
      ]
    },
    {
      "cell_type": "code",
      "execution_count": null,
      "metadata": {
        "id": "yIBLtfp1wLLc",
        "colab": {
          "base_uri": "https://localhost:8080/"
        },
        "outputId": "437c7262-f717-47fc-867d-de8457df9c7c"
      },
      "outputs": [
        {
          "output_type": "execute_result",
          "data": {
            "text/plain": [
              "{'nombre': 'Alfredo',\n",
              " 'despacho': 218,\n",
              " 'email': 'asalber@ceu.es',\n",
              " 'universidad': 'CEU'}"
            ]
          },
          "metadata": {},
          "execution_count": 80
        }
      ],
      "source": [
        "a['universidad'] = 'CEU'\n",
        "a"
      ]
    },
    {
      "cell_type": "code",
      "execution_count": null,
      "metadata": {
        "id": "xJhj9growWV0"
      },
      "outputs": [],
      "source": [
        "del a['email']"
      ]
    },
    {
      "cell_type": "code",
      "source": [
        "a"
      ],
      "metadata": {
        "colab": {
          "base_uri": "https://localhost:8080/"
        },
        "id": "m0u5v41PmVPs",
        "outputId": "031d346b-3209-494f-c9de-bc107981228e"
      },
      "execution_count": null,
      "outputs": [
        {
          "output_type": "execute_result",
          "data": {
            "text/plain": [
              "{'nombre': 'Alfredo', 'despacho': 218, 'universidad': 'CEU'}"
            ]
          },
          "metadata": {},
          "execution_count": 82
        }
      ]
    },
    {
      "cell_type": "code",
      "execution_count": null,
      "metadata": {
        "id": "bwNSeDGAwYSe"
      },
      "outputs": [],
      "source": [
        "a.clear()"
      ]
    },
    {
      "cell_type": "code",
      "execution_count": null,
      "metadata": {
        "id": "mkhgBT2cwaC6",
        "colab": {
          "base_uri": "https://localhost:8080/"
        },
        "outputId": "07879987-0f36-468d-afdd-f48b68853b52"
      },
      "outputs": [
        {
          "output_type": "execute_result",
          "data": {
            "text/plain": [
              "{}"
            ]
          },
          "metadata": {},
          "execution_count": 84
        }
      ],
      "source": [
        "a"
      ]
    },
    {
      "cell_type": "code",
      "source": [
        "a={1:\"uno\",2:\"dos\",3:\"tres\"}\n",
        "b={4:\"cuatro\",5:\"cinco\"}\n",
        "\n",
        "a.update(b)"
      ],
      "metadata": {
        "id": "utYn1MxMmZF_"
      },
      "execution_count": null,
      "outputs": []
    },
    {
      "cell_type": "code",
      "source": [
        "a"
      ],
      "metadata": {
        "colab": {
          "base_uri": "https://localhost:8080/"
        },
        "id": "pp3aggLBmrgz",
        "outputId": "7134d27b-6460-4355-f0db-ffc7eafd1f52"
      },
      "execution_count": null,
      "outputs": [
        {
          "output_type": "execute_result",
          "data": {
            "text/plain": [
              "{1: 'uno', 2: 'dos', 3: 'tres', 4: 'cuatro', 5: 'cinco'}"
            ]
          },
          "metadata": {},
          "execution_count": 87
        }
      ]
    },
    {
      "cell_type": "code",
      "source": [
        "a.popitem()"
      ],
      "metadata": {
        "colab": {
          "base_uri": "https://localhost:8080/"
        },
        "id": "punhoIuPmrCN",
        "outputId": "d61eee0b-a071-43f9-c40f-87867e5d76af"
      },
      "execution_count": null,
      "outputs": [
        {
          "output_type": "execute_result",
          "data": {
            "text/plain": [
              "(5, 'cinco')"
            ]
          },
          "metadata": {},
          "execution_count": 88
        }
      ]
    },
    {
      "cell_type": "code",
      "source": [
        "a"
      ],
      "metadata": {
        "colab": {
          "base_uri": "https://localhost:8080/"
        },
        "id": "59S-DgRWm6X7",
        "outputId": "d07df799-2a06-45ad-c441-7653aa093683"
      },
      "execution_count": null,
      "outputs": [
        {
          "output_type": "execute_result",
          "data": {
            "text/plain": [
              "{1: 'uno', 2: 'dos', 3: 'tres', 4: 'cuatro'}"
            ]
          },
          "metadata": {},
          "execution_count": 89
        }
      ]
    },
    {
      "cell_type": "markdown",
      "metadata": {
        "id": "kXS87XDVweiU"
      },
      "source": [
        "# Copia de diccionarios\n",
        "Existen dos formas de copiar diccionarios:\n",
        "\n",
        "* Copia por referencia **d1 = d2**: Asocia la la variable d1 el mismo diccionario que tiene asociado la variable d2, es decir, ambas variables apuntan a la misma dirección de memoria. Cualquier cambio que hagamos a través de l1 o l2 afectará al mismo diccionario.\n",
        "* Copia por valor **d1 = list(d2)**: Crea una copia del diccionario asociado a d2 en una dirección de memoria diferente y se la asocia a d1. Las variables apuntan a direcciones de memoria diferentes que contienen los mismos datos. Cualquier cambio que hagamos a través de l1 no afectará al diccionario de l2 y viceversa."
      ]
    },
    {
      "cell_type": "code",
      "execution_count": null,
      "metadata": {
        "id": "pHGPb4EVws1T"
      },
      "outputs": [],
      "source": [
        "a = {1:'A', 2:'B', 3:'C'}"
      ]
    },
    {
      "cell_type": "code",
      "execution_count": null,
      "metadata": {
        "id": "8Cq0UK_nwv3k",
        "colab": {
          "base_uri": "https://localhost:8080/"
        },
        "outputId": "03038f5e-5a49-4d20-90f7-fdd41ffa22b3"
      },
      "outputs": [
        {
          "output_type": "execute_result",
          "data": {
            "text/plain": [
              "{1: 'A', 2: 'B', 3: 'C'}"
            ]
          },
          "metadata": {},
          "execution_count": 92
        }
      ],
      "source": [
        "# copia por referencia\n",
        "b = a\n",
        "b"
      ]
    },
    {
      "cell_type": "code",
      "execution_count": null,
      "metadata": {
        "id": "jXroXTmvwyvt"
      },
      "outputs": [],
      "source": [
        "b[2] = 'D'"
      ]
    },
    {
      "cell_type": "code",
      "execution_count": null,
      "metadata": {
        "id": "hDciXI1vw050",
        "colab": {
          "base_uri": "https://localhost:8080/"
        },
        "outputId": "56a3602a-a27c-4fdc-9053-d22fc09a2337"
      },
      "outputs": [
        {
          "output_type": "stream",
          "name": "stdout",
          "text": [
            "{1: 'A', 2: 'D', 3: 'C'}\n",
            "{1: 'A', 2: 'D', 3: 'C'}\n"
          ]
        }
      ],
      "source": [
        "print(b)\n",
        "print(a)"
      ]
    },
    {
      "cell_type": "code",
      "execution_count": null,
      "metadata": {
        "id": "qUx3q4ZBw4IQ"
      },
      "outputs": [],
      "source": [
        "a = {1:'A', 2:'B', 3:'C'}"
      ]
    },
    {
      "cell_type": "code",
      "execution_count": null,
      "metadata": {
        "id": "aS-3L3LAw724",
        "colab": {
          "base_uri": "https://localhost:8080/"
        },
        "outputId": "5122fc8d-7814-4353-d7c4-520e57d7e1c5"
      },
      "outputs": [
        {
          "output_type": "execute_result",
          "data": {
            "text/plain": [
              "{1: 'A', 2: 'B', 3: 'C'}"
            ]
          },
          "metadata": {},
          "execution_count": 96
        }
      ],
      "source": [
        "# copia por valor\n",
        "b = dict(a)\n",
        "b"
      ]
    },
    {
      "cell_type": "code",
      "execution_count": null,
      "metadata": {
        "id": "Ko-cGugFw_WA"
      },
      "outputs": [],
      "source": [
        "b[2] = 'D'"
      ]
    },
    {
      "cell_type": "code",
      "execution_count": null,
      "metadata": {
        "id": "g7CEsIdKxBza",
        "colab": {
          "base_uri": "https://localhost:8080/"
        },
        "outputId": "26632e6c-e6f5-4515-e5fa-79d566786003"
      },
      "outputs": [
        {
          "output_type": "stream",
          "name": "stdout",
          "text": [
            "{1: 'A', 2: 'D', 3: 'C'}\n",
            "{1: 'A', 2: 'B', 3: 'C'}\n"
          ]
        }
      ],
      "source": [
        "print(b)\n",
        "print(a)"
      ]
    },
    {
      "cell_type": "code",
      "source": [
        "a.copy()"
      ],
      "metadata": {
        "colab": {
          "base_uri": "https://localhost:8080/"
        },
        "id": "zR5jmRxRnxhA",
        "outputId": "73526a9a-0642-49d8-d8b4-79c1d9ee6191"
      },
      "execution_count": null,
      "outputs": [
        {
          "output_type": "execute_result",
          "data": {
            "text/plain": [
              "{1: 'A', 2: 'B', 3: 'C'}"
            ]
          },
          "metadata": {},
          "execution_count": 101
        }
      ]
    },
    {
      "cell_type": "code",
      "source": [
        "# copia por valor\n",
        "b = a.copy()\n",
        "b"
      ],
      "metadata": {
        "colab": {
          "base_uri": "https://localhost:8080/"
        },
        "id": "YqgbCaYWn1FP",
        "outputId": "bc411a7f-e850-4b06-cc9c-efb71376af32"
      },
      "execution_count": null,
      "outputs": [
        {
          "output_type": "execute_result",
          "data": {
            "text/plain": [
              "{1: 'A', 2: 'B', 3: 'C'}"
            ]
          },
          "metadata": {},
          "execution_count": 102
        }
      ]
    },
    {
      "cell_type": "markdown",
      "metadata": {
        "id": "Px6jSNVTed5k"
      },
      "source": [
        "## Ejercicio 1 - LISTAS\n",
        "Escribir un programa que almacene las asignaturas de un curso (por ejemplo Matemáticas, Física, Química, Historia y Lengua) en una lista y la muestre por pantalla."
      ]
    },
    {
      "cell_type": "code",
      "execution_count": null,
      "metadata": {
        "id": "4-QXOtMTejh_",
        "colab": {
          "base_uri": "https://localhost:8080/"
        },
        "outputId": "34b839c9-9c2c-4284-a5f9-849e040013bd"
      },
      "outputs": [
        {
          "output_type": "stream",
          "name": "stdout",
          "text": [
            "['Matemáticas', 'Física', 'Química', 'Historia', 'Lengua']\n"
          ]
        }
      ],
      "source": [
        "materias = ['Matemáticas', 'Física', 'Química', 'Historia', 'Lengua']\n",
        "print(materias)"
      ]
    },
    {
      "cell_type": "code",
      "source": [
        "# EJERCICIO DE CLASE: INGRESAR EL NUMERO DE CURSOS Y LOS CURSOS EN UNA LISTA USANDO BUCLEVnum_materias = int(input(\"numero de materias: \"))\n",
        "num_materias = int(input(\"numero de materias: \"))\n",
        "lista =[]\n",
        "for i in range(num_materias):\n",
        "  materia = input(\"nombre materia: \")\n",
        "  lista.append(materia)\n",
        "\n",
        "print(lista)\n"
      ],
      "metadata": {
        "colab": {
          "base_uri": "https://localhost:8080/"
        },
        "id": "wGKdyOUfoWRG",
        "outputId": "ecaa6c3b-f4d5-413d-a208-bf278b1588b3"
      },
      "execution_count": null,
      "outputs": [
        {
          "output_type": "stream",
          "name": "stdout",
          "text": [
            "numero de materias: 4\n",
            "nombre materia: Geografía\n",
            "nombre materia: Música\n",
            "nombre materia: Filosofía\n",
            "nombre materia: Educación Cívica\n",
            "['Geografía', 'Música', 'Filosofía', 'Educación Cívica']\n"
          ]
        }
      ]
    },
    {
      "cell_type": "markdown",
      "metadata": {
        "id": "m3LCgILeej9l"
      },
      "source": [
        "## Ejercicio 2 - LISTAS\n",
        "Escribir un programa que almacene las asignaturas de un curso (por ejemplo Matemáticas, Física, Química, Historia y Lengua) en una lista y la muestre por pantalla el mensaje:\n",
        "* Yo estudio **ASIGNATURA**, donde **ASIGNATURA** es cada una de las asignaturas de la lista."
      ]
    },
    {
      "cell_type": "code",
      "execution_count": null,
      "metadata": {
        "id": "7_IU80HrepJ6",
        "colab": {
          "base_uri": "https://localhost:8080/"
        },
        "outputId": "35d14758-698c-4dfa-a8c2-620deaaafead"
      },
      "outputs": [
        {
          "output_type": "stream",
          "name": "stdout",
          "text": [
            "Yo estudio Geografía\n",
            "Yo estudio Música\n",
            "Yo estudio Filosofía\n",
            "Yo estudio Educación Cívica\n"
          ]
        }
      ],
      "source": [
        "for asignatura in lista:\n",
        "  print(\"Yo estudio\",asignatura)"
      ]
    },
    {
      "cell_type": "markdown",
      "metadata": {
        "id": "6T6twqBNfJ7k"
      },
      "source": [
        "## Ejercicio 3 - LISTAS\n",
        "Escribir un programa que almacene las asignaturas de un curso (por ejemplo Matemáticas, Física, Química, Historia y Lengua) en una lista, pregunte al usuario la nota que ha sacado en cada asignatura, y después las muestre por pantalla con el mensaje:\n",
        "* En **ASIGNATURA** has sacado **NOTA** donde **ASIGNATURA** es cada una des las asignaturas de la lista y **NOTA** cada una de las correspondientes notas introducidas por el usuario."
      ]
    },
    {
      "cell_type": "code",
      "execution_count": null,
      "metadata": {
        "id": "JrSYw1smfSmw",
        "colab": {
          "base_uri": "https://localhost:8080/"
        },
        "outputId": "e77ed05e-145f-4c0e-fbec-e477a5322f7a"
      },
      "outputs": [
        {
          "output_type": "stream",
          "name": "stdout",
          "text": [
            "numero de materias: 3\n",
            "nombre materia: Geología\n",
            "ingrese su nota: 16\n",
            "nombre materia: Química\n",
            "ingrese su nota: 18\n",
            "nombre materia: Biología\n",
            "ingrese su nota: 17\n",
            "[['Geología', 16.0], ['Química', 18.0], ['Biología', 17.0]]\n"
          ]
        }
      ],
      "source": [
        "num_materias = int(input(\"numero de materias: \"))\n",
        "lista =[]\n",
        "for i in range(num_materias):\n",
        "  materia = input(\"nombre materia: \")\n",
        "  nota = float(input(\"ingrese su nota: \"))\n",
        "  lista.append([materia,nota])\n",
        "\n",
        "print(lista)\n"
      ]
    },
    {
      "cell_type": "code",
      "source": [
        "for curso_nota in lista:\n",
        "  print(\"En\",curso_nota[0],\"has sacado\",curso_nota[1])"
      ],
      "metadata": {
        "colab": {
          "base_uri": "https://localhost:8080/"
        },
        "id": "lwJ2jTnKqPwd",
        "outputId": "4aa04901-14d5-4c57-f496-4970ecd29ea1"
      },
      "execution_count": null,
      "outputs": [
        {
          "output_type": "stream",
          "name": "stdout",
          "text": [
            "En Geología has sacado 16.0\n",
            "En Química has sacado 18.0\n",
            "En Biología has sacado 17.0\n"
          ]
        }
      ]
    },
    {
      "cell_type": "code",
      "source": [
        "curso_nota=lista[0]\n",
        "print(\"En\",curso_nota[0],\"has sacado\",curso_nota[1])"
      ],
      "metadata": {
        "colab": {
          "base_uri": "https://localhost:8080/"
        },
        "id": "NAf3hShouZ3L",
        "outputId": "8a03dfe9-c00b-4153-f8b3-aa7f1c0b42d8"
      },
      "execution_count": null,
      "outputs": [
        {
          "output_type": "stream",
          "name": "stdout",
          "text": [
            "En Geología has sacado 16.0\n"
          ]
        }
      ]
    },
    {
      "cell_type": "code",
      "source": [
        "curso_nota=lista[1]\n",
        "print(\"En\",curso_nota[0],\"has sacado\",curso_nota[1])"
      ],
      "metadata": {
        "colab": {
          "base_uri": "https://localhost:8080/"
        },
        "id": "C0wk104IvEkS",
        "outputId": "8d3da713-49f0-424d-8fa4-7db93d0c7b57"
      },
      "execution_count": null,
      "outputs": [
        {
          "output_type": "stream",
          "name": "stdout",
          "text": [
            "En Química has sacado 18.0\n"
          ]
        }
      ]
    },
    {
      "cell_type": "code",
      "source": [
        "curso_nota=lista[2]\n",
        "print(\"En\",curso_nota[0],\"has sacado\",curso_nota[1])"
      ],
      "metadata": {
        "colab": {
          "base_uri": "https://localhost:8080/"
        },
        "id": "9PbRj9pmvF-S",
        "outputId": "8333341e-3512-4865-fa2b-dd613cf4b9d8"
      },
      "execution_count": null,
      "outputs": [
        {
          "output_type": "execute_result",
          "data": {
            "text/plain": [
              "['Biología', 17.0]"
            ]
          },
          "metadata": {},
          "execution_count": 113
        }
      ]
    },
    {
      "cell_type": "markdown",
      "metadata": {
        "id": "w_IHdJlYfmKm"
      },
      "source": [
        "## Ejericicio 4 - LISTAS\n",
        "Escribir un programa que pregunte al usuario los números ganadores de la lotería primitiva, los almacene en una lista y los muestre por pantalla ordenados de menor a mayor."
      ]
    },
    {
      "cell_type": "code",
      "execution_count": null,
      "metadata": {
        "id": "SoRWlqaYfqaf",
        "colab": {
          "base_uri": "https://localhost:8080/"
        },
        "outputId": "4ec192be-d2bb-46f0-d130-209bc9f6475e"
      },
      "outputs": [
        {
          "output_type": "stream",
          "name": "stdout",
          "text": [
            "Ingrese los números ganadores de la lotería\n",
            "Ingrese el número 1: 58\n",
            "Ingrese el número 2: 96\n",
            "Ingrese el número 3: 51\n",
            "Ingrese el número 4: 40\n",
            "Ingrese el número 5: 34\n",
            "Ingrese el número 6: 52\n",
            "[34, 40, 51, 52, 58, 96]\n"
          ]
        }
      ],
      "source": [
        "print(\"Ingrese los números ganadores de la lotería\")\n",
        "L=[]\n",
        "for i in range(6):\n",
        "  n=int(input(\"Ingrese el número \"+str(i+1)+\": \"))\n",
        "  L.append(n)\n",
        "\n",
        "L.sort()\n",
        "print(L)"
      ]
    },
    {
      "cell_type": "markdown",
      "metadata": {
        "id": "dcX4_Z-ofuDj"
      },
      "source": [
        "## Ejercicio 5 - LISTAS\n",
        "Escribir un programa que almacene en una lista los números del 1 al 10 y los muestre por pantalla en orden inverso separados por comas."
      ]
    },
    {
      "cell_type": "code",
      "execution_count": null,
      "metadata": {
        "id": "jjAaL7xtfv6U",
        "colab": {
          "base_uri": "https://localhost:8080/"
        },
        "outputId": "13d005ed-f24a-48ce-ba94-d9637ae6f8dc"
      },
      "outputs": [
        {
          "output_type": "stream",
          "name": "stdout",
          "text": [
            "10,9,8,7,6,5,4,3,2,1\n"
          ]
        }
      ],
      "source": [
        "numeros =[1,2,3,4,5,6,7,8,9,10]\n",
        "numeros_inversos = list(reversed(numeros))\n",
        "cadena=''\n",
        "for i in range(0,len(numeros)):\n",
        "  if i==0:\n",
        "    cadena=str(numeros_inversos[i])\n",
        "  else:\n",
        "    cadena=cadena +','+ str(numeros_inversos[i])\n",
        "\n",
        "print(cadena)"
      ]
    },
    {
      "cell_type": "code",
      "source": [
        "numeros =[1,2,3,4,5,6,7,8,9,10]\n",
        "numeros.reverse()\n",
        "numeros_inversos = numeros\n",
        "cadena=''\n",
        "for i in range(0,len(numeros)):\n",
        "  if i==0:\n",
        "    cadena=str(numeros_inversos[i])\n",
        "  else:\n",
        "    cadena=cadena +','+ str(numeros_inversos[i])\n",
        "\n",
        "print(cadena)"
      ],
      "metadata": {
        "colab": {
          "base_uri": "https://localhost:8080/"
        },
        "id": "O7570RKdw86i",
        "outputId": "829266ba-9759-4e68-fa04-08b5fefd3c2e"
      },
      "execution_count": null,
      "outputs": [
        {
          "output_type": "stream",
          "name": "stdout",
          "text": [
            "10,9,8,7,6,5,4,3,2,1\n"
          ]
        }
      ]
    },
    {
      "cell_type": "code",
      "source": [
        "limite =int(input('Introduce un número : '))\n",
        "num=[]\n",
        "inverso=[]\n",
        "for i in range(limite):\n",
        "  num.append(i+1)\n",
        "  inverso.append(limite-i)\n",
        "print('Números del 1 al',limite,' :',num)\n",
        "print('Números del 1 al',limite,' :', inverso)"
      ],
      "metadata": {
        "colab": {
          "base_uri": "https://localhost:8080/"
        },
        "id": "pSZt5l7OxH5-",
        "outputId": "be2cfe39-56cc-4902-9c17-db32cee0b033"
      },
      "execution_count": null,
      "outputs": [
        {
          "output_type": "stream",
          "name": "stdout",
          "text": [
            "Introduce un número : 10\n",
            "Números del 1 al 10  : [1, 2, 3, 4, 5, 6, 7, 8, 9, 10]\n",
            "Números del 1 al 10  : [10, 9, 8, 7, 6, 5, 4, 3, 2, 1]\n"
          ]
        }
      ]
    },
    {
      "cell_type": "code",
      "source": [
        "str(list(range(1,10+1)))[1:-1]"
      ],
      "metadata": {
        "colab": {
          "base_uri": "https://localhost:8080/",
          "height": 36
        },
        "id": "nkc3f1MnxHyp",
        "outputId": "f38fb6d3-8aa1-4d64-ab63-119ecf20d987"
      },
      "execution_count": null,
      "outputs": [
        {
          "output_type": "execute_result",
          "data": {
            "text/plain": [
              "'1, 2, 3, 4, 5, 6, 7, 8, 9, 10'"
            ],
            "application/vnd.google.colaboratory.intrinsic+json": {
              "type": "string"
            }
          },
          "metadata": {},
          "execution_count": 128
        }
      ]
    },
    {
      "cell_type": "markdown",
      "metadata": {
        "id": "ZoDB6Es-fz_z"
      },
      "source": [
        "## Ejercicio 6 - LISTAS\n",
        "Escribir un programa que almacene las asignaturas de un curso (por ejemplo Matemáticas, Física, Química, Historia y Lengua) en una lista, pregunte al usuario la nota que ha sacado en cada asignatura y elimine de la lista las asignaturas aprobadas.\n",
        "\n",
        "Al final el programa debe mostrar por pantalla las asignaturas que el usuario tiene que repetir."
      ]
    },
    {
      "cell_type": "code",
      "execution_count": null,
      "metadata": {
        "id": "UQsmNzMff3yP",
        "colab": {
          "base_uri": "https://localhost:8080/"
        },
        "outputId": "f3b10551-1bb6-41eb-9401-f79b3567466e"
      },
      "outputs": [
        {
          "output_type": "stream",
          "name": "stdout",
          "text": [
            "numero de materias: 3\n",
            "nombre materia: Geología\n",
            "ingrese su nota: 19\n",
            "nombre materia: Filosofía\n",
            "ingrese su nota: 19\n",
            "nombre materia: Química\n",
            "ingrese su nota: 9\n",
            "[['Química', 9.0]]\n"
          ]
        }
      ],
      "source": [
        "num_materias = int(input(\"numero de materias: \"))\n",
        "lista =[]\n",
        "for i in range(num_materias):\n",
        "  materia = input(\"nombre materia: \")\n",
        "  nota = float(input(\"ingrese su nota: \"))\n",
        "  if nota<14:\n",
        "    lista.append([materia,nota])\n",
        "\n",
        "print(lista)\n"
      ]
    },
    {
      "cell_type": "markdown",
      "metadata": {
        "id": "5rLqXF8hf-cz"
      },
      "source": [
        "## Ejercicio 7 - LISTAS\n",
        "Escribir un programa que almacene el abecedario en una lista, elimine de la lista las letras que ocupen posiciones múltiplos de 3, y muestre por pantalla la lista resultante."
      ]
    },
    {
      "cell_type": "code",
      "execution_count": null,
      "metadata": {
        "id": "sf1U1iW3gAh3",
        "colab": {
          "base_uri": "https://localhost:8080/"
        },
        "outputId": "00054911-8baa-4cde-ba44-e56ed9b294b1"
      },
      "outputs": [
        {
          "output_type": "stream",
          "name": "stdout",
          "text": [
            "Abecedario  ['A', 'B', 'C', 'D', 'E', 'F', 'G', 'H', 'I', 'J', 'K', 'L', 'M', 'N', 'Ñ', 'O', 'P', 'Q', 'R', 'S', 'T', 'U', 'V', 'W', 'X', 'Y', 'Z']\n",
            "Abecedario despues= ['A', 'B', 'D', 'E', 'G', 'H', 'J', 'K', 'M', 'N', 'O', 'P', 'R', 'S', 'U', 'V', 'X', 'Y']\n"
          ]
        }
      ],
      "source": [
        "abc = ['A','B','C','D','E','F','G','H','I','J','K','L','M','N','Ñ','O','P','Q','R','S','T','U','V','W','X','Y','Z']\n",
        "letra =[]\n",
        "for i in range(0,len(abc),1):\n",
        "  if (i + 1) % 3 != 0:\n",
        "     letra.append(abc[i])\n",
        "\n",
        "print('Abecedario ',abc)\n",
        "print(\"Abecedario despues=\",letra)"
      ]
    },
    {
      "cell_type": "markdown",
      "metadata": {
        "id": "rHlKtJsegQhf"
      },
      "source": [
        "## Ejercicio 8 - LISTAS\n",
        "Escribir un programa que almacene en una lista los siguientes precios, 50, 75, 46, 22, 80, 65, 8, y muestre por pantalla el menor y el mayor de los precios."
      ]
    },
    {
      "cell_type": "code",
      "execution_count": null,
      "metadata": {
        "id": "pZTTz5i6h4ZQ",
        "colab": {
          "base_uri": "https://localhost:8080/"
        },
        "outputId": "a71e92b7-e312-487b-ea38-9cd333320811"
      },
      "outputs": [
        {
          "output_type": "stream",
          "name": "stdout",
          "text": [
            "El menos es  8\n",
            "El mayor es 80\n"
          ]
        }
      ],
      "source": [
        "L=[50,75,46,22,80,65,8]\n",
        "print(\"El menos es \",min(L))\n",
        "print(\"El mayor es\",max(L))"
      ]
    },
    {
      "cell_type": "markdown",
      "metadata": {
        "id": "pDtQN1gWxNVW"
      },
      "source": [
        "# Ejercicio 9 - DICCIONARIO\n",
        "Escribir un programa que guarde en una variable el diccionario {'Euro':'€', 'Dollar':'$', 'Yen':'¥'}, pregunte al usuario por una divisa y muestre su símbolo o un mensaje de aviso si la divisa no está en el diccionario."
      ]
    },
    {
      "cell_type": "code",
      "execution_count": null,
      "metadata": {
        "id": "dTU_a4I6xPUu",
        "colab": {
          "base_uri": "https://localhost:8080/"
        },
        "outputId": "8f546d02-45ca-4b1a-9d97-2bfd619e25f5"
      },
      "outputs": [
        {
          "output_type": "stream",
          "name": "stdout",
          "text": [
            "Cual es la divisa que deseas saber su símbolo?: Peso\n",
            "la divisa no está en el diccionario\n"
          ]
        }
      ],
      "source": [
        "divisas= {'Euro':'€', 'Dollar':'$', 'Yen':'¥'}\n",
        "divisa=input(\"Cual es la divisa que deseas saber su símbolo?: \")\n",
        "simbolo=divisas.get(divisa,\"la divisa no está en el diccionario\")\n",
        "print(simbolo)"
      ]
    },
    {
      "cell_type": "code",
      "source": [
        "divisa in divisas"
      ],
      "metadata": {
        "colab": {
          "base_uri": "https://localhost:8080/"
        },
        "id": "1Uw2hd6g0pqf",
        "outputId": "d46f6183-777e-4543-dbd0-b3361d684aec"
      },
      "execution_count": null,
      "outputs": [
        {
          "output_type": "execute_result",
          "data": {
            "text/plain": [
              "False"
            ]
          },
          "metadata": {},
          "execution_count": 137
        }
      ]
    },
    {
      "cell_type": "markdown",
      "metadata": {
        "id": "0V-P3qCMxTOx"
      },
      "source": [
        "# Ejercicio 10 - DICCIONARIO\n",
        "Escribir un programa que pregunte al usuario su nombre, edad, dirección y teléfono y lo guarde en un diccionario. Después debe mostrar por pantalla el mensaje <nombre> tiene <edad> años, vive en <dirección> y su número de teléfono es <teléfono>."
      ]
    },
    {
      "cell_type": "code",
      "execution_count": null,
      "metadata": {
        "id": "8seda7aQxVpd",
        "colab": {
          "base_uri": "https://localhost:8080/"
        },
        "outputId": "2a129d2e-5972-49f2-dd99-a0e95848aff4"
      },
      "outputs": [
        {
          "output_type": "stream",
          "name": "stdout",
          "text": [
            "Por favor, ingrese su nombre: kevin\n",
            "Por favor, ingrese su edad: 29\n",
            "Por favor, ingrese su dirección: mi casa\n",
            "Por favor, ingrese su número de teléfono: 123\n",
            "kevin tiene 29 años, vive en mi casa y su número de teléfono es 123.\n"
          ]
        }
      ],
      "source": [
        "nombre = input(\"Por favor, ingrese su nombre: \")\n",
        "edad = input(\"Por favor, ingrese su edad: \")\n",
        "direccion = input(\"Por favor, ingrese su dirección: \")\n",
        "telefono = input(\"Por favor, ingrese su número de teléfono: \")\n",
        "\n",
        "usuario_info = {\n",
        "    \"nombre\": nombre,\n",
        "    \"edad\": edad,\n",
        "    \"direccion\": direccion,\n",
        "    \"telefono\": telefono\n",
        "}\n",
        "\n",
        "\n",
        "print(f\"{usuario_info['nombre']} tiene {usuario_info['edad']} años, vive en {usuario_info['direccion']} y su número de teléfono es {usuario_info['telefono']}.\")"
      ]
    },
    {
      "cell_type": "markdown",
      "metadata": {
        "id": "gMNO6x1mxgDF"
      },
      "source": [
        "## Ejercicio 11 - DICCIONARIO\n",
        "\n",
        "Escribir un programa que guarde en un diccionario los precios de las frutas de la tabla, pregunte al usuario por una fruta, un número de kilos y muestre por pantalla el precio de ese número de kilos de fruta. Si la fruta no está en el diccionario debe mostrar un mensaje informando de ello.\n",
        "\n",
        "| Fruta | Precio|\n",
        "|:-|:-:|\n",
        "|Plátano | 1.35 |\n",
        "|Manzana | 0.80|\n",
        "|Pera| 0.85|\n",
        "|Naranja | 0.70|"
      ]
    },
    {
      "cell_type": "code",
      "execution_count": null,
      "metadata": {
        "id": "KUAglHvgxhVr",
        "colab": {
          "base_uri": "https://localhost:8080/"
        },
        "outputId": "9abde599-04ed-45e3-b7ed-81b31e287bac"
      },
      "outputs": [
        {
          "output_type": "stream",
          "name": "stdout",
          "text": [
            "Ingrese la fruta mAnZaNA\n",
            "Ingrese los kilos 3\n",
            "El precio de ese número de kilos de fruta es 2.4000000000000004\n"
          ]
        }
      ],
      "source": [
        "frutas={\"plátano\":1.35,\"manzana\":0.80,\"pera\":0.85,\"naranja\":0.70}\n",
        "fruta=input(\"Ingrese la fruta \").lower()\n",
        "\n",
        "if fruta in frutas:\n",
        "  kilos=float(input(\"Ingrese los kilos \"))\n",
        "  print(\"El precio de ese número de kilos de fruta es\",frutas[fruta]*kilos)\n",
        "else:\n",
        "  print(\"Fruta no válida\")"
      ]
    },
    {
      "cell_type": "markdown",
      "metadata": {
        "id": "87L2esSiTzKA"
      },
      "source": [
        "## Ejercicio 12 - DICCIONARIO\n",
        "\n",
        "Escribir un programa que almacene el diccionario con los créditos de las asignaturas de un curso `{'Matemáticas': 6, 'Física': 4, 'Química': 5}` y después muestre por pantalla los créditos de cada asignatura en el formato `<asignatura> tiene <créditos> créditos`, donde `<asignatura>` es cada una de las asignaturas del curso, y `<créditos>` son sus créditos. Al final debe mostrar también el número total de créditos del curso."
      ]
    },
    {
      "cell_type": "code",
      "source": [
        "creditos_asignaturas = {\"Matematicas\": 6, \"Fisica\": 4, \"Quimica\": 5}\n",
        "creditos_asignaturas.items()"
      ],
      "metadata": {
        "colab": {
          "base_uri": "https://localhost:8080/"
        },
        "id": "_R6KEg9H5ANf",
        "outputId": "d7dbdd21-84be-495a-d76b-96d986f3583c"
      },
      "execution_count": null,
      "outputs": [
        {
          "output_type": "execute_result",
          "data": {
            "text/plain": [
              "dict_items([('Matematicas', 6), ('Fisica', 4), ('Quimica', 5)])"
            ]
          },
          "metadata": {},
          "execution_count": 149
        }
      ]
    },
    {
      "cell_type": "code",
      "execution_count": null,
      "metadata": {
        "id": "WrsLAiadT2l5",
        "colab": {
          "base_uri": "https://localhost:8080/"
        },
        "outputId": "3df56973-707a-485e-ca23-3fbcd4a8ddcb"
      },
      "outputs": [
        {
          "output_type": "stream",
          "name": "stdout",
          "text": [
            "Matematicas tiene 6 créditos\n",
            "Fisica tiene 4 créditos\n",
            "Quimica tiene 5 créditos\n",
            "El número total de créditos del curso es:  15\n"
          ]
        }
      ],
      "source": [
        "creditos_asignaturas = {\"Matematicas\": 6, \"Fisica\": 4, \"Quimica\": 5}\n",
        "\n",
        "for asignatura, creditos in creditos_asignaturas.items():\n",
        "    print(asignatura, \"tiene\", creditos,\"créditos\")\n",
        "\n",
        "total_creditos = sum(creditos_asignaturas.values())\n",
        "\n",
        "print(\"El número total de créditos del curso es: \", total_creditos)"
      ]
    },
    {
      "cell_type": "code",
      "source": [
        "\n",
        "d = {\"Matematicas\": 6, \"Fisica\":4, \"Quimica\": 5}\n",
        "total_cre = 0\n",
        "for val in d:\n",
        "  print(val + ' tiene ' + str(d.get(val)) + ' creditos')\n",
        "  total_cre += d.get(val)\n",
        "print('Total creditos ', total_cre)"
      ],
      "metadata": {
        "colab": {
          "base_uri": "https://localhost:8080/"
        },
        "id": "iBeMkrwz5QzE",
        "outputId": "3058aa25-d53f-4a98-9b85-14a4d2c71585"
      },
      "execution_count": null,
      "outputs": [
        {
          "output_type": "stream",
          "name": "stdout",
          "text": [
            "Matematicas tiene 6 creditos\n",
            "Fisica tiene 4 creditos\n",
            "Quimica tiene 5 creditos\n",
            "Total creditos  15\n"
          ]
        }
      ]
    },
    {
      "cell_type": "markdown",
      "metadata": {
        "id": "t4S2a04_UYhl"
      },
      "source": [
        "## Ejercicio - CHALLENGE (OPCIONAL)\n",
        "\n",
        "Escribir un programa que permita gestionar la base de datos de clientes de una empresa. Los clientes se guardarán en un diccionario en el que la clave de cada cliente será su NIF, y el valor será otro diccionario con los datos del cliente (nombre, dirección, teléfono, correo, preferente), donde preferente tendrá el valor `True` si se trata de un cliente preferente. El programa debe preguntar al usuario por una opción del siguiente menú: (1) Añadir cliente, (2) Eliminar cliente, (3) Mostrar cliente, (4) Listar todos los clientes, (5) Listar clientes preferentes, (6) Terminar. En función de la opción elegida el programa tendrá que hacer lo siguiente:\n",
        "\n",
        "1. Preguntar los datos del cliente, crear un diccionario con los datos y añadirlo a la base de datos.\n",
        "2. Preguntar por el NIF del cliente y eliminar sus datos de la base de datos.\n",
        "3. Preguntar por el NIF del cliente y mostrar sus datos.\n",
        "4. Mostrar lista de todos los clientes de la base datos con su NIF y nombre.\n",
        "5. Mostrar la lista de clientes preferentes de la base de datos con su NIF y nombre.\n",
        "6. Terminar el programa."
      ]
    },
    {
      "cell_type": "code",
      "execution_count": null,
      "metadata": {
        "id": "wpdMJwauUblY",
        "colab": {
          "base_uri": "https://localhost:8080/"
        },
        "outputId": "9bb2ffe2-a7e8-40fe-e6bd-b81b2a2a71fb"
      },
      "outputs": [
        {
          "output_type": "stream",
          "name": "stdout",
          "text": [
            "----------- MENÚ ------------\n",
            "(1) Añadir cliente\n",
            "(2) Eliminar cliente\n",
            "(3) Mostrar cliente\n",
            "(4) Listar todos los clientes\n",
            "(5) Listar clientes preferentes\n",
            "(6) Terminar\n",
            "Ingrese la opción: 1\n",
            "nombre: kevin\n",
            "dirección: micasa\n",
            "teléfono: 123\n",
            "correo kevin@gmail.com\n",
            "es preferente? (S/N)S\n",
            "Ingrese la opción: 1\n",
            "nombre: martha\n",
            "dirección: sucasa\n",
            "teléfono: 234\n",
            "correo martha@outlook.com\n",
            "es preferente? (S/N)N\n",
            "Ingrese la opción: 1\n",
            "nombre: Pepe\n",
            "dirección: la casa\n",
            "teléfono: 45645\n",
            "correo pepe@gmail.com\n",
            "es preferente? (S/N)S\n",
            "Ingrese la opción: 4\n",
            "1 kevin\n",
            "2 martha\n",
            "3 Pepe\n",
            "Ingrese la opción: 5\n",
            "1 kevin es preferente\n",
            "3 Pepe es preferente\n",
            "Ingrese la opción: 3\n",
            "NIF del cliente a consultar2\n",
            "{'nombre': 'martha', 'dirección': 'sucasa', 'teléfono': '234', 'correo': 'martha@outlook.com', 'preferente': False}\n",
            "Ingrese la opción: 2\n",
            "NIF del cliente a eliminar3\n",
            "{'nombre': 'Pepe', 'dirección': 'la casa', 'teléfono': '45645', 'correo': 'pepe@gmail.com', 'preferente': True}\n",
            "Ingrese la opción: 4\n",
            "1 kevin\n",
            "2 martha\n",
            "Ingrese la opción: 2\n",
            "NIF del cliente a eliminar5\n",
            "no existe el cliente\n",
            "Ingrese la opción: 3\n",
            "NIF del cliente a consultar6\n",
            "no existe el cliente\n",
            "Ingrese la opción: 6\n",
            "------------ FIN DEL PROGRAMA -------------\n"
          ]
        }
      ],
      "source": [
        "bd={}\n",
        "# key será NIF\n",
        "#values otro dict (nombre,dirección,teléfono, correo,preferente)\n",
        "id=len(bd)\n",
        "print(\"----------- MENÚ ------------\")\n",
        "print(\"(1) Añadir cliente\")\n",
        "print(\"(2) Eliminar cliente\")\n",
        "print(\"(3) Mostrar cliente\")\n",
        "print(\"(4) Listar todos los clientes\")\n",
        "print(\"(5) Listar clientes preferentes\")\n",
        "print(\"(6) Terminar\")\n",
        "\n",
        "\n",
        "while True:\n",
        "  opcion=input(\"Ingrese la opción: \")\n",
        "  if opcion==\"6\":\n",
        "    break\n",
        "  elif opcion==\"1\":\n",
        "    nombre=input(\"nombre: \")\n",
        "    direccion=input(\"dirección: \")\n",
        "    telefono=input(\"teléfono: \")\n",
        "    correo=input(\"correo \")\n",
        "    preferente=(input(\"es preferente? (S/N)\")==\"S\")\n",
        "    datos={\"nombre\":nombre,\"dirección\":direccion,\"teléfono\":telefono,\"correo\":correo,\"preferente\":preferente}\n",
        "    id=id+1\n",
        "    bd[id]=datos\n",
        "\n",
        "  elif opcion==\"2\":\n",
        "    id_eliminar=int(input(\"NIF del cliente a eliminar\"))\n",
        "    valor_eliminado=bd.pop(id_eliminar,\"no existe el cliente\")\n",
        "    print(valor_eliminado)\n",
        "\n",
        "  elif opcion==\"3\":\n",
        "    id_consultar=int(input(\"NIF del cliente a consultar\"))\n",
        "    valor_consultado=bd.get(id_consultar,\"no existe el cliente\")\n",
        "    print(valor_consultado)\n",
        "\n",
        "  elif opcion==\"4\":\n",
        "\n",
        "    for nif in bd:\n",
        "      print(nif,bd[nif][\"nombre\"])\n",
        "\n",
        "  elif opcion==\"5\":\n",
        "\n",
        "    for nif in bd:\n",
        "      if bd[nif][\"preferente\"] == True:\n",
        "        print(nif,bd[nif][\"nombre\"],\"es preferente\")\n",
        "\n",
        "  else:\n",
        "    print(\"No existe la opción\")\n",
        "\n",
        "\n",
        "print(\"------------ FIN DEL PROGRAMA -------------\")"
      ]
    },
    {
      "cell_type": "markdown",
      "metadata": {
        "id": "b0oTwUtbU1HY"
      },
      "source": [
        "## Ejercicio OBLIGATORIO\n",
        "\n",
        "Escribir un programa que pregunte por una muestra de números, separados por comas, los guarde en una tupla y muestre por pantalla su media."
      ]
    },
    {
      "cell_type": "code",
      "execution_count": null,
      "metadata": {
        "id": "lvoHbdVlU3vv"
      },
      "outputs": [],
      "source": []
    }
  ],
  "metadata": {
    "colab": {
      "provenance": []
    },
    "kernelspec": {
      "display_name": "Python 3",
      "name": "python3"
    },
    "language_info": {
      "name": "python"
    }
  },
  "nbformat": 4,
  "nbformat_minor": 0
}