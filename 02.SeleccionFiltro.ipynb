{
 "cells": [
  {
   "attachments": {},
   "cell_type": "markdown",
   "metadata": {},
   "source": [
    "# <center> SELECCION, FILTROS, ORDENAMIENTO y DUPLICADOS </center>\n",
    "No toda la data nos sirve, debe escoger ciertas variables (SELECCION) y registros (FILTROS)\n",
    "\n",
    "Deseo es poder implementar el famos query:\n",
    "\n",
    "** SELECT col1, col2 ... FROM tabla WHERE condición **"
   ]
  },
  {
   "attachments": {},
   "cell_type": "markdown",
   "metadata": {},
   "source": [
    "La información de los datos es la siguiente:\n",
    "\n",
    "- datetime: hora por hora + marca de tiempo\n",
    "\n",
    "- season:\n",
    "    - 1 = primavera\n",
    "    - 2 = verano\n",
    "    - 3 = caída\n",
    "    - 4 = invierno\n",
    "\n",
    "- holiday: si el día se considera un día festivo\n",
    "\n",
    "- workingday: si el día no es un fin de semana ni un feriado.\n",
    "\n",
    "- clima:\n",
    "\n",
    "    - 1: Despejado, pocas nubes, medio nublado, parcialmente nublado\n",
    "    - 2: Niebla + Nublado, Niebla + parcialmente nublado, Niebla + Pocas nubes, Niebla\n",
    "    - 3: Nieve ligera, Lluvia ligera + Tormenta eléctrica + Nubes dispersas, Lluvia ligera + Nubes dispersas\n",
    "    - 4: Lluvia intensa + Paletas de hielo + Tormenta + Niebla, Nieve + Niebla\n",
    "\n",
    "\n",
    "- temp: temperatura en grados Celsius\n",
    "\n",
    "- atemp: \"sensación térmica\" la temperatura en grados Celsius\n",
    "\n",
    "- humidity: humedad relativa\n",
    "\n",
    "- windspeed: velocidad del viento\n",
    "\n",
    "- casual: número de alquileres de usuarios no registrados iniciados\n",
    "\n",
    "- registered: número de alquileres de usuarios registrados iniciados\n",
    "\n",
    "- count: número de alquileres totales"
   ]
  },
  {
   "cell_type": "code",
   "execution_count": null,
   "metadata": {},
   "outputs": [],
   "source": [
    "#Importando los datos\n",
    "import pandas as pd"
   ]
  },
  {
   "cell_type": "code",
   "execution_count": null,
   "metadata": {},
   "outputs": [],
   "source": [
    "df=pd.read_csv(\"bikes.csv\")\n",
    "df.head(10)"
   ]
  },
  {
   "cell_type": "markdown",
   "metadata": {},
   "source": [
    "## 1. SELECCION"
   ]
  },
  {
   "cell_type": "code",
   "execution_count": null,
   "metadata": {},
   "outputs": [],
   "source": [
    "# Como un DataFrame : x nombre de la columna df[[\"temp\"]]\n",
    "df[\"temp\"].head(3)"
   ]
  },
  {
   "cell_type": "code",
   "execution_count": null,
   "metadata": {},
   "outputs": [],
   "source": [
    "# Como un DataFrame : x nombre de la columna df[[\"temp\"]]\n",
    "df[[\"temp\"]].head(3)"
   ]
  },
  {
   "cell_type": "code",
   "execution_count": null,
   "metadata": {},
   "outputs": [],
   "source": [
    "#Seleccionando varias columnas:\n",
    "df[[\"datetime\",\"temp\",\"casual\"]].head(3)"
   ]
  },
  {
   "attachments": {},
   "cell_type": "markdown",
   "metadata": {},
   "source": [
    "EJERCICIO: \n",
    "Seleccione los campos: WINSPEED, CASUAL y ATEMP"
   ]
  },
  {
   "cell_type": "code",
   "execution_count": null,
   "metadata": {},
   "outputs": [],
   "source": []
  },
  {
   "cell_type": "markdown",
   "metadata": {},
   "source": [
    "## 2. FILTROS"
   ]
  },
  {
   "cell_type": "code",
   "execution_count": null,
   "metadata": {},
   "outputs": [],
   "source": [
    "# Filtrar por una condición: df[serie con verdaderos y falsos], filtará como resultado los verdaderos df[\"season\"] == 2\n",
    "df[df[\"season\"] == 2]"
   ]
  },
  {
   "cell_type": "code",
   "execution_count": null,
   "metadata": {},
   "outputs": [],
   "source": [
    "# Filtrar cierto valores de una columna p. Ejemplo: Los season 2 y 4\n",
    "df[ df['season'].isin([2,4]) ].head()"
   ]
  },
  {
   "attachments": {},
   "cell_type": "markdown",
   "metadata": {},
   "source": [
    "Ten en cuenta que puedes utilizar cualquier condición que desees para filtrar los datos, por ejemplo, puedes utilizar operadores lógicos como & (AND) y | (OR) para combinar varias condiciones. "
   ]
  },
  {
   "cell_type": "code",
   "execution_count": null,
   "metadata": {},
   "outputs": [],
   "source": [
    "df[ (df['season'] == 3) | (df['workingday'] == 1) ].head()"
   ]
  },
  {
   "attachments": {},
   "cell_type": "markdown",
   "metadata": {},
   "source": [
    "Ejercici 1: Realizar los siguientes filtros\n",
    "\n",
    "* seleccionar la temporada VERANO o Temporada INVIERO\n",
    "* Y Que nose un día laborable."
   ]
  },
  {
   "cell_type": "code",
   "execution_count": null,
   "metadata": {},
   "outputs": [],
   "source": []
  },
  {
   "attachments": {},
   "cell_type": "markdown",
   "metadata": {},
   "source": [
    "Ejercicio 2: Realizar los siguientes filtros\n",
    "* Filtrar Weather [1,4]\n",
    "* Y WINDSPEED > 15\n",
    "* Y Humidity < 100"
   ]
  },
  {
   "cell_type": "code",
   "execution_count": null,
   "metadata": {},
   "outputs": [],
   "source": []
  },
  {
   "attachments": {},
   "cell_type": "markdown",
   "metadata": {},
   "source": [
    "## 3. ORDENAR"
   ]
  },
  {
   "cell_type": "code",
   "execution_count": null,
   "metadata": {},
   "outputs": [],
   "source": [
    "# Por defecto se ordena de manera ascendente\n",
    "df2 = df.sort_values(by='temp')\n",
    "df2.head()"
   ]
  },
  {
   "cell_type": "code",
   "execution_count": null,
   "metadata": {},
   "outputs": [],
   "source": [
    "# Para ordenar de manera descendente\n",
    "df2 = df.sort_values(by='temp',ascending=False)\n",
    "df2.head()"
   ]
  },
  {
   "cell_type": "code",
   "execution_count": null,
   "metadata": {},
   "outputs": [],
   "source": [
    "# Para ordenar más de una columna de manera descendente\n",
    "df2 = df.sort_values(by=['temp', 'casual'],ascending=[False,True])\n",
    "df2.head()"
   ]
  },
  {
   "attachments": {},
   "cell_type": "markdown",
   "metadata": {},
   "source": [
    "Ejercicio: Ordenar el pandas dataframe por winspeed y humidity de manera ascendente y descendente respectivamente"
   ]
  },
  {
   "cell_type": "code",
   "execution_count": null,
   "metadata": {},
   "outputs": [],
   "source": []
  },
  {
   "attachments": {},
   "cell_type": "markdown",
   "metadata": {},
   "source": [
    "## 4. Duplicados"
   ]
  },
  {
   "cell_type": "code",
   "execution_count": null,
   "metadata": {},
   "outputs": [],
   "source": [
    "# Crear un DataFrame de ejemplo\n",
    "datos = pd.DataFrame({'nombre': ['Juan', 'Ana', 'Pedro', 'Juan'],\n",
    "                      'edad': [30, 25, 40, 30],\n",
    "                      'ciudad': ['Madrid', 'Barcelona', 'Sevilla', 'Madrid']})\n"
   ]
  },
  {
   "attachments": {},
   "cell_type": "markdown",
   "metadata": {},
   "source": [
    "Identificar duplicados de todos los campos."
   ]
  },
  {
   "cell_type": "code",
   "execution_count": null,
   "metadata": {},
   "outputs": [],
   "source": [
    "# Identificar las filas duplicadas\n",
    "duplicados = datos.duplicated()\n",
    "duplicados"
   ]
  },
  {
   "attachments": {},
   "cell_type": "markdown",
   "metadata": {},
   "source": [
    "Identificar duplicados de ciertos campos"
   ]
  },
  {
   "cell_type": "code",
   "execution_count": null,
   "metadata": {},
   "outputs": [],
   "source": [
    "duplicados = datos.duplicated(subset=['nombre', 'edad'])\n",
    "duplicados"
   ]
  },
  {
   "attachments": {},
   "cell_type": "markdown",
   "metadata": {},
   "source": [
    "Eliminar Duplicados"
   ]
  },
  {
   "cell_type": "code",
   "execution_count": null,
   "metadata": {},
   "outputs": [],
   "source": [
    "datos_sin_duplicados = datos.drop_duplicates()"
   ]
  },
  {
   "cell_type": "code",
   "execution_count": null,
   "metadata": {},
   "outputs": [],
   "source": [
    "datos_sin_duplicados2 = datos.drop_duplicates(subset=['nombre', 'ciudad'])"
   ]
  }
 ],
 "metadata": {
  "kernelspec": {
   "display_name": "Python 3",
   "language": "python",
   "name": "python3"
  },
  "language_info": {
   "codemirror_mode": {
    "name": "ipython",
    "version": 3
   },
   "file_extension": ".py",
   "mimetype": "text/x-python",
   "name": "python",
   "nbconvert_exporter": "python",
   "pygments_lexer": "ipython3",
   "version": "3.8.3"
  }
 },
 "nbformat": 4,
 "nbformat_minor": 4
}
